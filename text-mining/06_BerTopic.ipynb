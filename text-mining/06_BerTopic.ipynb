{
 "cells": [
  {
   "cell_type": "markdown",
   "id": "14412333-3116-4252-8292-6f647f4bc682",
   "metadata": {},
   "source": [
    "# BERTopic"
   ]
  },
  {
   "cell_type": "code",
   "execution_count": 1,
   "id": "69c4dc83-f5c4-4468-950d-2ca2de60ed40",
   "metadata": {},
   "outputs": [
    {
     "name": "stderr",
     "output_type": "stream",
     "text": [
      "C:\\Users\\johan\\anaconda3\\envs\\text_mining\\lib\\site-packages\\umap\\distances.py:1063: NumbaDeprecationWarning: \u001b[1mThe 'nopython' keyword argument was not supplied to the 'numba.jit' decorator. The implicit default value for this argument is currently False, but it will be changed to True in Numba 0.59.0. See https://numba.readthedocs.io/en/stable/reference/deprecation.html#deprecation-of-object-mode-fall-back-behaviour-when-using-jit for details.\u001b[0m\n",
      "  @numba.jit()\n",
      "C:\\Users\\johan\\anaconda3\\envs\\text_mining\\lib\\site-packages\\umap\\distances.py:1071: NumbaDeprecationWarning: \u001b[1mThe 'nopython' keyword argument was not supplied to the 'numba.jit' decorator. The implicit default value for this argument is currently False, but it will be changed to True in Numba 0.59.0. See https://numba.readthedocs.io/en/stable/reference/deprecation.html#deprecation-of-object-mode-fall-back-behaviour-when-using-jit for details.\u001b[0m\n",
      "  @numba.jit()\n",
      "C:\\Users\\johan\\anaconda3\\envs\\text_mining\\lib\\site-packages\\umap\\distances.py:1086: NumbaDeprecationWarning: \u001b[1mThe 'nopython' keyword argument was not supplied to the 'numba.jit' decorator. The implicit default value for this argument is currently False, but it will be changed to True in Numba 0.59.0. See https://numba.readthedocs.io/en/stable/reference/deprecation.html#deprecation-of-object-mode-fall-back-behaviour-when-using-jit for details.\u001b[0m\n",
      "  @numba.jit()\n",
      "C:\\Users\\johan\\anaconda3\\envs\\text_mining\\lib\\site-packages\\tqdm\\auto.py:21: TqdmWarning: IProgress not found. Please update jupyter and ipywidgets. See https://ipywidgets.readthedocs.io/en/stable/user_install.html\n",
      "  from .autonotebook import tqdm as notebook_tqdm\n",
      "C:\\Users\\johan\\anaconda3\\envs\\text_mining\\lib\\site-packages\\umap\\umap_.py:660: NumbaDeprecationWarning: \u001b[1mThe 'nopython' keyword argument was not supplied to the 'numba.jit' decorator. The implicit default value for this argument is currently False, but it will be changed to True in Numba 0.59.0. See https://numba.readthedocs.io/en/stable/reference/deprecation.html#deprecation-of-object-mode-fall-back-behaviour-when-using-jit for details.\u001b[0m\n",
      "  @numba.jit()\n"
     ]
    }
   ],
   "source": [
    "from bertopic import BERTopic\n",
    "import pandas as pd\n",
    "import numpy as np\n",
    "import tqdm as notebook_tqdm"
   ]
  },
  {
   "cell_type": "code",
   "execution_count": 2,
   "id": "d45e8ddf-871f-4d44-bc4e-ecd9437b83d2",
   "metadata": {},
   "outputs": [],
   "source": [
    "df = pd.read_parquet(\"frankenthal.parquet\")\n",
    "df_filtered = df[df.doc_typ == ('Vorlage' or 'Beschluss' or 'Antrag' or 'Anfrage')]\n",
    "df_filtered = df_filtered.drop(['status', 'top_name', 'ocr', 'rel_path_to_file'], axis=1)"
   ]
  },
  {
   "cell_type": "code",
   "execution_count": 3,
   "id": "3a761c4c-53d1-44bf-8e34-73539ed466c6",
   "metadata": {},
   "outputs": [],
   "source": [
    "df_verkehr = df_filtered[df_filtered['verkehrsbezug']==True]"
   ]
  },
  {
   "cell_type": "code",
   "execution_count": 4,
   "id": "50637c74-157c-42c1-9975-ec1958acbeb2",
   "metadata": {},
   "outputs": [],
   "source": [
    "topic_model = BERTopic(language=\"german\", nr_topics=\"auto\")"
   ]
  },
  {
   "cell_type": "code",
   "execution_count": 5,
   "id": "08101723-5ad6-47d4-a8e8-0886d7eda912",
   "metadata": {
    "jupyter": {
     "source_hidden": true
    },
    "tags": []
   },
   "outputs": [],
   "source": [
    "topics, probs = topic_model.fit_transform(df_filtered['content'])"
   ]
  },
  {
   "cell_type": "code",
   "execution_count": 6,
   "id": "1a2e143a-9211-46ca-932b-2c9881d6f0d4",
   "metadata": {
    "tags": []
   },
   "outputs": [
    {
     "data": {
      "text/html": [
       "<div>\n",
       "<style scoped>\n",
       "    .dataframe tbody tr th:only-of-type {\n",
       "        vertical-align: middle;\n",
       "    }\n",
       "\n",
       "    .dataframe tbody tr th {\n",
       "        vertical-align: top;\n",
       "    }\n",
       "\n",
       "    .dataframe thead th {\n",
       "        text-align: right;\n",
       "    }\n",
       "</style>\n",
       "<table border=\"1\" class=\"dataframe\">\n",
       "  <thead>\n",
       "    <tr style=\"text-align: right;\">\n",
       "      <th></th>\n",
       "      <th>Topic</th>\n",
       "      <th>Count</th>\n",
       "      <th>Name</th>\n",
       "      <th>Representation</th>\n",
       "      <th>Representative_Docs</th>\n",
       "    </tr>\n",
       "  </thead>\n",
       "  <tbody>\n",
       "    <tr>\n",
       "      <th>0</th>\n",
       "      <td>-1</td>\n",
       "      <td>364</td>\n",
       "      <td>-1_der_die_und_des</td>\n",
       "      <td>[der, die, und, des, in, für, im, den, von, zu]</td>\n",
       "      <td>[ \\nBeratungsergebnis: \\n \\nGremium \\nSitzung ...</td>\n",
       "    </tr>\n",
       "    <tr>\n",
       "      <th>1</th>\n",
       "      <td>0</td>\n",
       "      <td>1807</td>\n",
       "      <td>0_der_die_und_in</td>\n",
       "      <td>[der, die, und, in, des, für, den, im, mit, von]</td>\n",
       "      <td>[ \\nBeratungsergebnis: \\n \\nGremium \\nSitzung ...</td>\n",
       "    </tr>\n",
       "    <tr>\n",
       "      <th>2</th>\n",
       "      <td>1</td>\n",
       "      <td>210</td>\n",
       "      <td>1_cdu_stadtratsfraktion_stimmen_stadtrat</td>\n",
       "      <td>[cdu, stadtratsfraktion, stimmen, stadtrat, de...</td>\n",
       "      <td>[ \\nBeratungsergebnis: \\n \\nGremium \\nSitzung ...</td>\n",
       "    </tr>\n",
       "    <tr>\n",
       "      <th>3</th>\n",
       "      <td>2</td>\n",
       "      <td>158</td>\n",
       "      <td>2_spd_stadtratsfraktion_der_stadtrat</td>\n",
       "      <td>[spd, stadtratsfraktion, der, stadtrat, stimme...</td>\n",
       "      <td>[ \\nBeratungsergebnis: \\n \\nGremium \\nSitzung ...</td>\n",
       "    </tr>\n",
       "    <tr>\n",
       "      <th>4</th>\n",
       "      <td>3</td>\n",
       "      <td>71</td>\n",
       "      <td>3_opel_ratsmitglied_xv_von</td>\n",
       "      <td>[opel, ratsmitglied, xv, von, stimmen, stadtra...</td>\n",
       "      <td>[ \\nBeratungsergebnis: \\n \\nGremium \\nSitzung ...</td>\n",
       "    </tr>\n",
       "    <tr>\n",
       "      <th>5</th>\n",
       "      <td>4</td>\n",
       "      <td>22</td>\n",
       "      <td>4_der_die_in_für</td>\n",
       "      <td>[der, die, in, für, von, und, im, den, bis, fr...</td>\n",
       "      <td>[ \\nBeratungsergebnis: \\n \\nGremium \\nSitzung ...</td>\n",
       "    </tr>\n",
       "    <tr>\n",
       "      <th>6</th>\n",
       "      <td>5</td>\n",
       "      <td>19</td>\n",
       "      <td>5_der_in_die_im</td>\n",
       "      <td>[der, in, die, im, teur, von, und, sich, für, ...</td>\n",
       "      <td>[ \\nBeratungsergebnis: \\n \\nGremium \\nSitzung ...</td>\n",
       "    </tr>\n",
       "    <tr>\n",
       "      <th>7</th>\n",
       "      <td>6</td>\n",
       "      <td>17</td>\n",
       "      <td>6_in_kinder_der_die</td>\n",
       "      <td>[in, kinder, der, die, plätze, 01, 12, für, un...</td>\n",
       "      <td>[ \\nBeratungsergebnis: \\n \\nGremium \\nSitzung ...</td>\n",
       "    </tr>\n",
       "    <tr>\n",
       "      <th>8</th>\n",
       "      <td>7</td>\n",
       "      <td>15</td>\n",
       "      <td>7_der_die_und_in</td>\n",
       "      <td>[der, die, und, in, stadtklinik, eur, den, mit...</td>\n",
       "      <td>[ \\nBeratungsergebnis: \\n \\nGremium \\nSitzung ...</td>\n",
       "    </tr>\n",
       "  </tbody>\n",
       "</table>\n",
       "</div>"
      ],
      "text/plain": [
       "   Topic  Count                                      Name  \\\n",
       "0     -1    364                        -1_der_die_und_des   \n",
       "1      0   1807                          0_der_die_und_in   \n",
       "2      1    210  1_cdu_stadtratsfraktion_stimmen_stadtrat   \n",
       "3      2    158      2_spd_stadtratsfraktion_der_stadtrat   \n",
       "4      3     71                3_opel_ratsmitglied_xv_von   \n",
       "5      4     22                          4_der_die_in_für   \n",
       "6      5     19                           5_der_in_die_im   \n",
       "7      6     17                       6_in_kinder_der_die   \n",
       "8      7     15                          7_der_die_und_in   \n",
       "\n",
       "                                      Representation  \\\n",
       "0    [der, die, und, des, in, für, im, den, von, zu]   \n",
       "1   [der, die, und, in, des, für, den, im, mit, von]   \n",
       "2  [cdu, stadtratsfraktion, stimmen, stadtrat, de...   \n",
       "3  [spd, stadtratsfraktion, der, stadtrat, stimme...   \n",
       "4  [opel, ratsmitglied, xv, von, stimmen, stadtra...   \n",
       "5  [der, die, in, für, von, und, im, den, bis, fr...   \n",
       "6  [der, in, die, im, teur, von, und, sich, für, ...   \n",
       "7  [in, kinder, der, die, plätze, 01, 12, für, un...   \n",
       "8  [der, die, und, in, stadtklinik, eur, den, mit...   \n",
       "\n",
       "                                 Representative_Docs  \n",
       "0  [ \\nBeratungsergebnis: \\n \\nGremium \\nSitzung ...  \n",
       "1  [ \\nBeratungsergebnis: \\n \\nGremium \\nSitzung ...  \n",
       "2  [ \\nBeratungsergebnis: \\n \\nGremium \\nSitzung ...  \n",
       "3  [ \\nBeratungsergebnis: \\n \\nGremium \\nSitzung ...  \n",
       "4  [ \\nBeratungsergebnis: \\n \\nGremium \\nSitzung ...  \n",
       "5  [ \\nBeratungsergebnis: \\n \\nGremium \\nSitzung ...  \n",
       "6  [ \\nBeratungsergebnis: \\n \\nGremium \\nSitzung ...  \n",
       "7  [ \\nBeratungsergebnis: \\n \\nGremium \\nSitzung ...  \n",
       "8  [ \\nBeratungsergebnis: \\n \\nGremium \\nSitzung ...  "
      ]
     },
     "execution_count": 6,
     "metadata": {},
     "output_type": "execute_result"
    }
   ],
   "source": [
    "topic_model.get_topic_info()"
   ]
  },
  {
   "cell_type": "code",
   "execution_count": 7,
   "id": "4eacab7c-b102-4731-bb6a-11e241f87919",
   "metadata": {},
   "outputs": [
    {
     "data": {
      "text/plain": [
       "[('in', 0.060463187356439047),\n",
       " ('kinder', 0.04910993485206752),\n",
       " ('der', 0.047079784005678575),\n",
       " ('die', 0.04325919557868196),\n",
       " ('plätze', 0.040117381274462904),\n",
       " ('01', 0.03288487216478792),\n",
       " ('12', 0.032518412224845486),\n",
       " ('für', 0.031349845662882445),\n",
       " ('und', 0.02912207431391012),\n",
       " ('mit', 0.025450842710952083)]"
      ]
     },
     "execution_count": 7,
     "metadata": {},
     "output_type": "execute_result"
    }
   ],
   "source": [
    "topic_model.get_topic(6)"
   ]
  },
  {
   "cell_type": "markdown",
   "id": "c0cfa4b3-2b1f-48cd-a02b-2df21991c59f",
   "metadata": {},
   "source": [
    "## Erkenntnisse\n",
    "- Modell scheint nicht gut auf die deutsche Sprache angepasst zu sein.\n",
    "- Es werden viele sog. Stoppwörter als Thema erkannt\n",
    "- Der Wiederkehrende Kopf der Dokumente scheint ein Problem darzustellen"
   ]
  },
  {
   "cell_type": "markdown",
   "id": "014159ee-75f0-412d-aa51-d0febcccbedf",
   "metadata": {},
   "source": [
    "# NLTK"
   ]
  },
  {
   "cell_type": "code",
   "execution_count": 9,
   "id": "0a738f72-5c7d-48de-b20a-6f545ea9b09a",
   "metadata": {},
   "outputs": [
    {
     "name": "stderr",
     "output_type": "stream",
     "text": [
      "[nltk_data] Downloading package punkt to\n",
      "[nltk_data]     C:\\Users\\johan\\AppData\\Roaming\\nltk_data...\n",
      "[nltk_data]   Package punkt is already up-to-date!\n",
      "[nltk_data] Downloading package stopwords to\n",
      "[nltk_data]     C:\\Users\\johan\\AppData\\Roaming\\nltk_data...\n",
      "[nltk_data]   Package stopwords is already up-to-date!\n"
     ]
    }
   ],
   "source": [
    "import nltk \n",
    "nltk.download('punkt')\n",
    "nltk.download('stopwords')\n",
    "from nltk.corpus import stopwords\n",
    "from nltk.tokenize import word_tokenize\n",
    "stopwords=set(stopwords.words('german'))"
   ]
  },
  {
   "cell_type": "code",
   "execution_count": 22,
   "id": "26b5bbe9-0af2-4562-a479-cccf5625aded",
   "metadata": {},
   "outputs": [],
   "source": [
    "import plotly"
   ]
  },
  {
   "cell_type": "code",
   "execution_count": 10,
   "id": "1d3b55b9-79fe-49a6-8300-88f0e552d885",
   "metadata": {},
   "outputs": [],
   "source": [
    "# Remove stopwords from an array of strings\n",
    "def remove_stopwords(data):\n",
    "    output_array=[]\n",
    "    for sentence in data:\n",
    "        temp_list=[]\n",
    "        for word in str(sentence).split():\n",
    "            if word.lower() not in stopwords:\n",
    "                temp_list.append(word)\n",
    "        output_array.append(' '.join(temp_list))\n",
    "    return output_array"
   ]
  },
  {
   "cell_type": "code",
   "execution_count": 11,
   "id": "a0f3866e-a91a-4a0c-8116-6ce4718060f8",
   "metadata": {},
   "outputs": [],
   "source": [
    "verkehr_nostop = remove_stopwords(df_verkehr['content'])"
   ]
  },
  {
   "cell_type": "code",
   "execution_count": 23,
   "id": "e0899a51-fddd-4ced-b17b-87d53e6b6549",
   "metadata": {},
   "outputs": [],
   "source": [
    "# Create model based on German BERT\n",
    "# model = BERTopic(embedding_model=bertGerman, language=\"german\")\n",
    "model = BERTopic(language=\"german\", nr_topics=\"auto\")"
   ]
  },
  {
   "cell_type": "code",
   "execution_count": 25,
   "id": "30bcc26a-3f18-460b-8ad3-b610e424357b",
   "metadata": {},
   "outputs": [],
   "source": [
    "topics, probabilities = model.fit_transform(verkehr_nostop)"
   ]
  },
  {
   "cell_type": "code",
   "execution_count": 26,
   "id": "b773d3f9-567a-4b90-8bc3-a4d69cea9145",
   "metadata": {},
   "outputs": [
    {
     "data": {
      "text/html": [
       "<div>\n",
       "<style scoped>\n",
       "    .dataframe tbody tr th:only-of-type {\n",
       "        vertical-align: middle;\n",
       "    }\n",
       "\n",
       "    .dataframe tbody tr th {\n",
       "        vertical-align: top;\n",
       "    }\n",
       "\n",
       "    .dataframe thead th {\n",
       "        text-align: right;\n",
       "    }\n",
       "</style>\n",
       "<table border=\"1\" class=\"dataframe\">\n",
       "  <thead>\n",
       "    <tr style=\"text-align: right;\">\n",
       "      <th></th>\n",
       "      <th>Topic</th>\n",
       "      <th>Count</th>\n",
       "      <th>Name</th>\n",
       "      <th>Representation</th>\n",
       "      <th>Representative_Docs</th>\n",
       "    </tr>\n",
       "  </thead>\n",
       "  <tbody>\n",
       "    <tr>\n",
       "      <th>0</th>\n",
       "      <td>-1</td>\n",
       "      <td>9</td>\n",
       "      <td>-1_m²_lfdm_00_je</td>\n",
       "      <td>[m², lfdm, 00, je, laufbahn, autoskooter, vers...</td>\n",
       "      <td>[Beratungsergebnis: Gremium Sitzung Top Öffent...</td>\n",
       "    </tr>\n",
       "    <tr>\n",
       "      <th>1</th>\n",
       "      <td>0</td>\n",
       "      <td>592</td>\n",
       "      <td>0_frankenthal_pfalz_stadt_werden</td>\n",
       "      <td>[frankenthal, pfalz, stadt, werden, 00, 000, e...</td>\n",
       "      <td>[Beratungsergebnis: Gremium Sitzung Top Öffent...</td>\n",
       "    </tr>\n",
       "    <tr>\n",
       "      <th>2</th>\n",
       "      <td>1</td>\n",
       "      <td>80</td>\n",
       "      <td>1_straße_frankenthal_sowie_werden</td>\n",
       "      <td>[straße, frankenthal, sowie, werden, stadt, ba...</td>\n",
       "      <td>[Beratungsergebnis: Gremium Sitzung Top Öffent...</td>\n",
       "    </tr>\n",
       "    <tr>\n",
       "      <th>3</th>\n",
       "      <td>2</td>\n",
       "      <td>41</td>\n",
       "      <td>2_anlage_xiv_baugb_frankenthal</td>\n",
       "      <td>[anlage, xiv, baugb, frankenthal, bebauungspla...</td>\n",
       "      <td>[Beratungsergebnis: Gremium Sitzung Top Öffent...</td>\n",
       "    </tr>\n",
       "    <tr>\n",
       "      <th>4</th>\n",
       "      <td>3</td>\n",
       "      <td>31</td>\n",
       "      <td>3_stadtklinik_frankenthal_höhe_pfalz</td>\n",
       "      <td>[stadtklinik, frankenthal, höhe, pfalz, eur, 2...</td>\n",
       "      <td>[Beratungsergebnis: Gremium Sitzung Top Öffent...</td>\n",
       "    </tr>\n",
       "    <tr>\n",
       "      <th>5</th>\n",
       "      <td>4</td>\n",
       "      <td>30</td>\n",
       "      <td>4_spd_stadtratsfraktion_stadtrat_stimmen</td>\n",
       "      <td>[spd, stadtratsfraktion, stadtrat, stimmen, fr...</td>\n",
       "      <td>[Beratungsergebnis: Gremium Sitzung Top Öffent...</td>\n",
       "    </tr>\n",
       "    <tr>\n",
       "      <th>6</th>\n",
       "      <td>5</td>\n",
       "      <td>18</td>\n",
       "      <td>5_cdu_stadtratsfraktion_stadtrat_stimmen</td>\n",
       "      <td>[cdu, stadtratsfraktion, stadtrat, stimmen, hi...</td>\n",
       "      <td>[Beratungsergebnis: Gremium Sitzung Top Öffent...</td>\n",
       "    </tr>\n",
       "    <tr>\n",
       "      <th>7</th>\n",
       "      <td>6</td>\n",
       "      <td>17</td>\n",
       "      <td>6_stufe_dm_00_abs</td>\n",
       "      <td>[stufe, dm, 00, abs, iii, ii, anlage, baugb, 5...</td>\n",
       "      <td>[Beratungsergebnis: Gremium Sitzung Top Öffent...</td>\n",
       "    </tr>\n",
       "    <tr>\n",
       "      <th>8</th>\n",
       "      <td>7</td>\n",
       "      <td>15</td>\n",
       "      <td>7_nr_flurstück_cm_straße</td>\n",
       "      <td>[nr, flurstück, cm, straße, grundstücks, foltz...</td>\n",
       "      <td>[Beratungsergebnis: Gremium Sitzung Top Öffent...</td>\n",
       "    </tr>\n",
       "  </tbody>\n",
       "</table>\n",
       "</div>"
      ],
      "text/plain": [
       "   Topic  Count                                      Name  \\\n",
       "0     -1      9                          -1_m²_lfdm_00_je   \n",
       "1      0    592          0_frankenthal_pfalz_stadt_werden   \n",
       "2      1     80         1_straße_frankenthal_sowie_werden   \n",
       "3      2     41            2_anlage_xiv_baugb_frankenthal   \n",
       "4      3     31      3_stadtklinik_frankenthal_höhe_pfalz   \n",
       "5      4     30  4_spd_stadtratsfraktion_stadtrat_stimmen   \n",
       "6      5     18  5_cdu_stadtratsfraktion_stadtrat_stimmen   \n",
       "7      6     17                         6_stufe_dm_00_abs   \n",
       "8      7     15                  7_nr_flurstück_cm_straße   \n",
       "\n",
       "                                      Representation  \\\n",
       "0  [m², lfdm, 00, je, laufbahn, autoskooter, vers...   \n",
       "1  [frankenthal, pfalz, stadt, werden, 00, 000, e...   \n",
       "2  [straße, frankenthal, sowie, werden, stadt, ba...   \n",
       "3  [anlage, xiv, baugb, frankenthal, bebauungspla...   \n",
       "4  [stadtklinik, frankenthal, höhe, pfalz, eur, 2...   \n",
       "5  [spd, stadtratsfraktion, stadtrat, stimmen, fr...   \n",
       "6  [cdu, stadtratsfraktion, stadtrat, stimmen, hi...   \n",
       "7  [stufe, dm, 00, abs, iii, ii, anlage, baugb, 5...   \n",
       "8  [nr, flurstück, cm, straße, grundstücks, foltz...   \n",
       "\n",
       "                                 Representative_Docs  \n",
       "0  [Beratungsergebnis: Gremium Sitzung Top Öffent...  \n",
       "1  [Beratungsergebnis: Gremium Sitzung Top Öffent...  \n",
       "2  [Beratungsergebnis: Gremium Sitzung Top Öffent...  \n",
       "3  [Beratungsergebnis: Gremium Sitzung Top Öffent...  \n",
       "4  [Beratungsergebnis: Gremium Sitzung Top Öffent...  \n",
       "5  [Beratungsergebnis: Gremium Sitzung Top Öffent...  \n",
       "6  [Beratungsergebnis: Gremium Sitzung Top Öffent...  \n",
       "7  [Beratungsergebnis: Gremium Sitzung Top Öffent...  \n",
       "8  [Beratungsergebnis: Gremium Sitzung Top Öffent...  "
      ]
     },
     "execution_count": 26,
     "metadata": {},
     "output_type": "execute_result"
    }
   ],
   "source": [
    "model.get_topic_info()"
   ]
  },
  {
   "cell_type": "code",
   "execution_count": 32,
   "id": "c5526235-4428-4e0a-b636-1d3778d0106d",
   "metadata": {},
   "outputs": [
    {
     "data": {
      "text/plain": [
       "[('stadtklinik', 0.03690397977792315),\n",
       " ('frankenthal', 0.030592382905206782),\n",
       " ('höhe', 0.02411694415842366),\n",
       " ('pfalz', 0.020442105431458274),\n",
       " ('eur', 0.020363251684974482),\n",
       " ('2007', 0.01901279926109363),\n",
       " ('teur', 0.017959198172514502),\n",
       " ('jahren', 0.0179524737702795),\n",
       " ('kinder', 0.01738527761386893),\n",
       " ('krankenhausausschuss', 0.01657168093249978)]"
      ]
     },
     "execution_count": 32,
     "metadata": {},
     "output_type": "execute_result"
    }
   ],
   "source": [
    "model.get_topic(3)"
   ]
  },
  {
   "cell_type": "code",
   "execution_count": 33,
   "id": "65c6a028-0c66-4901-88e3-a25962f8ecbf",
   "metadata": {},
   "outputs": [],
   "source": [
    "model.update_topics(verkehr_nostop, n_gram_range=(1, 3))"
   ]
  },
  {
   "cell_type": "code",
   "execution_count": 34,
   "id": "1bcf1996-0dd5-4b76-90f0-4a31e0595ba6",
   "metadata": {},
   "outputs": [
    {
     "data": {
      "text/html": [
       "<div>\n",
       "<style scoped>\n",
       "    .dataframe tbody tr th:only-of-type {\n",
       "        vertical-align: middle;\n",
       "    }\n",
       "\n",
       "    .dataframe tbody tr th {\n",
       "        vertical-align: top;\n",
       "    }\n",
       "\n",
       "    .dataframe thead th {\n",
       "        text-align: right;\n",
       "    }\n",
       "</style>\n",
       "<table border=\"1\" class=\"dataframe\">\n",
       "  <thead>\n",
       "    <tr style=\"text-align: right;\">\n",
       "      <th></th>\n",
       "      <th>Topic</th>\n",
       "      <th>Count</th>\n",
       "      <th>Name</th>\n",
       "      <th>Representation</th>\n",
       "      <th>Representative_Docs</th>\n",
       "    </tr>\n",
       "  </thead>\n",
       "  <tbody>\n",
       "    <tr>\n",
       "      <th>0</th>\n",
       "      <td>-1</td>\n",
       "      <td>9</td>\n",
       "      <td>-1_m²_lfdm_00_je</td>\n",
       "      <td>[m², lfdm, 00, je, laufbahn, anlage, werden, f...</td>\n",
       "      <td>[Beratungsergebnis: Gremium Sitzung Top Öffent...</td>\n",
       "    </tr>\n",
       "    <tr>\n",
       "      <th>1</th>\n",
       "      <td>0</td>\n",
       "      <td>592</td>\n",
       "      <td>0_frankenthal_pfalz_stadt_frankenthal pfalz</td>\n",
       "      <td>[frankenthal, pfalz, stadt, frankenthal pfalz,...</td>\n",
       "      <td>[Beratungsergebnis: Gremium Sitzung Top Öffent...</td>\n",
       "    </tr>\n",
       "    <tr>\n",
       "      <th>2</th>\n",
       "      <td>1</td>\n",
       "      <td>80</td>\n",
       "      <td>1_straße_frankenthal_sowie_werden</td>\n",
       "      <td>[straße, frankenthal, sowie, werden, stadt, an...</td>\n",
       "      <td>[Beratungsergebnis: Gremium Sitzung Top Öffent...</td>\n",
       "    </tr>\n",
       "    <tr>\n",
       "      <th>3</th>\n",
       "      <td>2</td>\n",
       "      <td>41</td>\n",
       "      <td>2_anlage_xiv_frankenthal_baugb</td>\n",
       "      <td>[anlage, xiv, frankenthal, baugb, abs, bebauun...</td>\n",
       "      <td>[Beratungsergebnis: Gremium Sitzung Top Öffent...</td>\n",
       "    </tr>\n",
       "    <tr>\n",
       "      <th>4</th>\n",
       "      <td>3</td>\n",
       "      <td>31</td>\n",
       "      <td>3_stadtklinik_frankenthal_stadtklinik frankent...</td>\n",
       "      <td>[stadtklinik, frankenthal, stadtklinik franken...</td>\n",
       "      <td>[Beratungsergebnis: Gremium Sitzung Top Öffent...</td>\n",
       "    </tr>\n",
       "    <tr>\n",
       "      <th>5</th>\n",
       "      <td>4</td>\n",
       "      <td>30</td>\n",
       "      <td>4_spd stadtratsfraktion_spd_stadtratsfraktion_...</td>\n",
       "      <td>[spd stadtratsfraktion, spd, stadtratsfraktion...</td>\n",
       "      <td>[Beratungsergebnis: Gremium Sitzung Top Öffent...</td>\n",
       "    </tr>\n",
       "    <tr>\n",
       "      <th>6</th>\n",
       "      <td>5</td>\n",
       "      <td>18</td>\n",
       "      <td>5_cdu_cdu stadtratsfraktion_stadtrat_stadtrats...</td>\n",
       "      <td>[cdu, cdu stadtratsfraktion, stadtrat, stadtra...</td>\n",
       "      <td>[Beratungsergebnis: Gremium Sitzung Top Öffent...</td>\n",
       "    </tr>\n",
       "    <tr>\n",
       "      <th>7</th>\n",
       "      <td>6</td>\n",
       "      <td>17</td>\n",
       "      <td>6_stufe_dm_00_00 dm</td>\n",
       "      <td>[stufe, dm, 00, 00 dm, abs, iii, stufe ii, stu...</td>\n",
       "      <td>[Beratungsergebnis: Gremium Sitzung Top Öffent...</td>\n",
       "    </tr>\n",
       "    <tr>\n",
       "      <th>8</th>\n",
       "      <td>7</td>\n",
       "      <td>15</td>\n",
       "      <td>7_nr_flurstück nr_flurstück_straße</td>\n",
       "      <td>[nr, flurstück nr, flurstück, straße, frankent...</td>\n",
       "      <td>[Beratungsergebnis: Gremium Sitzung Top Öffent...</td>\n",
       "    </tr>\n",
       "  </tbody>\n",
       "</table>\n",
       "</div>"
      ],
      "text/plain": [
       "   Topic  Count                                               Name  \\\n",
       "0     -1      9                                   -1_m²_lfdm_00_je   \n",
       "1      0    592        0_frankenthal_pfalz_stadt_frankenthal pfalz   \n",
       "2      1     80                  1_straße_frankenthal_sowie_werden   \n",
       "3      2     41                     2_anlage_xiv_frankenthal_baugb   \n",
       "4      3     31  3_stadtklinik_frankenthal_stadtklinik frankent...   \n",
       "5      4     30  4_spd stadtratsfraktion_spd_stadtratsfraktion_...   \n",
       "6      5     18  5_cdu_cdu stadtratsfraktion_stadtrat_stadtrats...   \n",
       "7      6     17                                6_stufe_dm_00_00 dm   \n",
       "8      7     15                 7_nr_flurstück nr_flurstück_straße   \n",
       "\n",
       "                                      Representation  \\\n",
       "0  [m², lfdm, 00, je, laufbahn, anlage, werden, f...   \n",
       "1  [frankenthal, pfalz, stadt, frankenthal pfalz,...   \n",
       "2  [straße, frankenthal, sowie, werden, stadt, an...   \n",
       "3  [anlage, xiv, frankenthal, baugb, abs, bebauun...   \n",
       "4  [stadtklinik, frankenthal, stadtklinik franken...   \n",
       "5  [spd stadtratsfraktion, spd, stadtratsfraktion...   \n",
       "6  [cdu, cdu stadtratsfraktion, stadtrat, stadtra...   \n",
       "7  [stufe, dm, 00, 00 dm, abs, iii, stufe ii, stu...   \n",
       "8  [nr, flurstück nr, flurstück, straße, frankent...   \n",
       "\n",
       "                                 Representative_Docs  \n",
       "0  [Beratungsergebnis: Gremium Sitzung Top Öffent...  \n",
       "1  [Beratungsergebnis: Gremium Sitzung Top Öffent...  \n",
       "2  [Beratungsergebnis: Gremium Sitzung Top Öffent...  \n",
       "3  [Beratungsergebnis: Gremium Sitzung Top Öffent...  \n",
       "4  [Beratungsergebnis: Gremium Sitzung Top Öffent...  \n",
       "5  [Beratungsergebnis: Gremium Sitzung Top Öffent...  \n",
       "6  [Beratungsergebnis: Gremium Sitzung Top Öffent...  \n",
       "7  [Beratungsergebnis: Gremium Sitzung Top Öffent...  \n",
       "8  [Beratungsergebnis: Gremium Sitzung Top Öffent...  "
      ]
     },
     "execution_count": 34,
     "metadata": {},
     "output_type": "execute_result"
    }
   ],
   "source": [
    "model.get_topic_info()"
   ]
  },
  {
   "cell_type": "markdown",
   "id": "d5638a95-9ae9-4387-9bc2-1b485105a29e",
   "metadata": {},
   "source": [
    "## Erkentnisse\n",
    "- Ergebnisse sind sehr unkonkret\n",
    "- Die Klinik scheint ein Thema gewesen zu sein.\n",
    "- Bauen war auch ein Thema"
   ]
  },
  {
   "cell_type": "markdown",
   "id": "69b1c4b5-2fe8-495e-bc4e-e855f2a9c44e",
   "metadata": {},
   "source": [
    "# TODO\n",
    "- Visualisierungen funktionieren noch nicht\n",
    "- Methodik evtl verbessern"
   ]
  }
 ],
 "metadata": {
  "kernelspec": {
   "display_name": "Python 3 (ipykernel)",
   "language": "python",
   "name": "python3"
  },
  "language_info": {
   "codemirror_mode": {
    "name": "ipython",
    "version": 3
   },
   "file_extension": ".py",
   "mimetype": "text/x-python",
   "name": "python",
   "nbconvert_exporter": "python",
   "pygments_lexer": "ipython3",
   "version": "3.10.11"
  }
 },
 "nbformat": 4,
 "nbformat_minor": 5
}
