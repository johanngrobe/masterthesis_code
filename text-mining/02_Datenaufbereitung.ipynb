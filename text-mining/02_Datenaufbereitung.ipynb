{
 "cells": [
  {
   "attachments": {},
   "cell_type": "markdown",
   "metadata": {},
   "source": [
    "# Datenaufbereitung"
   ]
  },
  {
   "cell_type": "code",
   "execution_count": 1,
   "metadata": {},
   "outputs": [],
   "source": [
    "import pandas as pd\n",
    "import numpy as np\n",
    "import datetime as dt"
   ]
  },
  {
   "cell_type": "code",
   "execution_count": 62,
   "metadata": {},
   "outputs": [],
   "source": [
    "df = pd.read_parquet(\"2023-03-25_gesamt_ocr_rhein_neckar.parquet\")\n",
    "df = df.rename(columns={'doc_typ': 'doc_typ_old'})"
   ]
  },
  {
   "attachments": {},
   "cell_type": "markdown",
   "metadata": {},
   "source": [
    "## Dokumenten-Typ berabeiten"
   ]
  },
  {
   "cell_type": "code",
   "execution_count": null,
   "metadata": {},
   "outputs": [],
   "source": [
    "doc_typ = df['doc_typ'].unique()\n",
    "df_doc_typ = pd.DataFrame(doc_typ)\n",
    "df_doc_typ.to_csv('doc_typ.csv')"
   ]
  },
  {
   "cell_type": "code",
   "execution_count": null,
   "metadata": {},
   "outputs": [],
   "source": [
    "doc_typ_2 = df[(pd.isnull(df['doc_typ_old']) == True) | (df['doc_typ_old'] == \"Sitzungsunterlagen und Beschlüsse\")]\n",
    "doc_typ_2.to_csv('doc_typ_2.csv')"
   ]
  },
  {
   "cell_type": "code",
   "execution_count": 64,
   "metadata": {},
   "outputs": [],
   "source": [
    "doc_typ_reclass = pd.read_excel(\"doc_typ_reclass.xlsx\")\n",
    "doc_typ_2_reclass = pd.read_excel(\"doc_typ_2_reclass.xlsx\")"
   ]
  },
  {
   "cell_type": "code",
   "execution_count": 65,
   "metadata": {},
   "outputs": [],
   "source": [
    "df = df.merge(doc_typ_reclass, on='doc_typ_old', how=\"left\")\n",
    "df = df.merge(doc_typ_2_reclass, left_index=True, right_on='index', how='left')\n",
    "df['doc_typ'] = df['doc_typ_x'].combine_first(df['doc_typ_y'])\n",
    "df.drop(['doc_typ_old','doc_typ_x','doc_typ_y', 'doc_name_y' ,'id', 'index'], axis=1, inplace=True)"
   ]
  },
  {
   "cell_type": "code",
   "execution_count": 72,
   "metadata": {},
   "outputs": [],
   "source": [
    "df['doc_typ'] = df['doc_typ'].astype('category')\n",
    "df.to_parquet(\"2023-04-03_gesamt_rhein_neckar.parquet\")"
   ]
  },
  {
   "cell_type": "code",
   "execution_count": 12,
   "metadata": {},
   "outputs": [
    {
     "data": {
      "text/plain": [
       "Vorlage             26793\n",
       "Anhang Vorlage      25528\n",
       "Beschluss            4738\n",
       "Niederschrift        4690\n",
       "Anhang Sitzung       1644\n",
       "Bekanntmachung       1598\n",
       "Anfrage              1117\n",
       "Antrag                881\n",
       "Anhang Beschluss      777\n",
       "Name: doc_typ, dtype: int64"
      ]
     },
     "execution_count": 12,
     "metadata": {},
     "output_type": "execute_result"
    }
   ],
   "source": [
    "df['doc_typ'].value_counts()"
   ]
  },
  {
   "attachments": {},
   "cell_type": "markdown",
   "metadata": {},
   "source": [
    "## Mobilitätsbezug (ja/nein)"
   ]
  },
  {
   "cell_type": "code",
   "execution_count": 76,
   "metadata": {},
   "outputs": [],
   "source": [
    "bag_of_words = [\"verkehr\", \"mobilität\", \n",
    "                \"miv\",\"automobil\", \"pkw\", \"personenkraftw\", \"kfz\", \"kraftfahrzeug\", \"lkw\", \"motorrad\",\n",
    "                \"stvo\", \"höchstgeschwindigkeit\",\"führerschein\",\n",
    "                \"modal split\", \"umweltverbund\",\n",
    "                \"tankstelle\", \"ladesäule\",\n",
    "                \"ampel\", \"lsa\", \"lichtsignalanlage\",\n",
    "                # \"stau\", \"cargo\", \"logistik\",\n",
    "                \"fahrrad\", \"radverkehr\", \"schutzstreifen\", \"radfahr\", \"abstellanlage\", \"lastenrad\",\n",
    "                \"zu fuß\", \"fußgäng\", \"gehweg\", \"zufußgehen\",\n",
    "                \"öpnv\", \"bus\", \"bahn\", \"tram\", \"haltestelle\",\n",
    "                \"car\", \"bike\" ,\"roller\", \"scooter\", \"sharing\",\n",
    "                \"parken\", \"parkpl\", \"stellpl\", \"parkhaus\", \"garage\",\n",
    "                ]"
   ]
  },
  {
   "cell_type": "code",
   "execution_count": 77,
   "metadata": {},
   "outputs": [],
   "source": [
    "df['verkehrsbezug'] = df['content'].str.contains('|'.join(bag_of_words), case=False)"
   ]
  },
  {
   "cell_type": "code",
   "execution_count": 16,
   "metadata": {},
   "outputs": [
    {
     "data": {
      "text/plain": [
       "False    41090\n",
       "True     28041\n",
       "Name: verkehrsbezug, dtype: Int64"
      ]
     },
     "execution_count": 16,
     "metadata": {},
     "output_type": "execute_result"
    }
   ],
   "source": [
    "df['verkehrsbezug'].value_counts()"
   ]
  },
  {
   "cell_type": "code",
   "execution_count": 80,
   "metadata": {},
   "outputs": [],
   "source": [
    "df.to_parquet(\"2023-04-03_gesamt_rhein_neckar.parquet\")"
   ]
  },
  {
   "attachments": {},
   "cell_type": "markdown",
   "metadata": {},
   "source": [
    "## Beschlussstatus"
   ]
  },
  {
   "cell_type": "code",
   "execution_count": 86,
   "metadata": {},
   "outputs": [],
   "source": [
    "import re"
   ]
  },
  {
   "cell_type": "code",
   "execution_count": 14,
   "metadata": {},
   "outputs": [
    {
     "data": {
      "text/plain": [
       "False    52812\n",
       "True     16605\n",
       "Name: status, dtype: int64"
      ]
     },
     "execution_count": 14,
     "metadata": {},
     "output_type": "execute_result"
    }
   ],
   "source": [
    "pd.notnull(df['status']).value_counts()"
   ]
  },
  {
   "cell_type": "code",
   "execution_count": 83,
   "metadata": {},
   "outputs": [],
   "source": [
    "status = df['status'].unique()\n",
    "df_status = pd.DataFrame(status)\n",
    "df_status.to_excel('status.xlsx')"
   ]
  },
  {
   "cell_type": "code",
   "execution_count": 96,
   "metadata": {},
   "outputs": [],
   "source": [
    "status_list = [r\"Beschluss:\\s*(\\d+\\s[-(),\\w]+\\s*)*\",\n",
    "               \"abgelehnt\",\n",
    "               \"abgesetzt\",\n",
    "               r\"mehrheitlich(?:[^\\wäöüÄÖÜß'-]+[\\wäöüÄÖÜß'-]+){0,5}\"\n",
    "               \"Absetzung von der Tagesordnung\",\n",
    "               \"einstimmig(?:[^\\wäöüÄÖÜß'-]+[\\wäöüÄÖÜß'-]+){0,5}\",\n",
    "               r\"mehrheitlich(?:[^\\wäöüÄÖÜß'-]+[\\wäöüÄÖÜß'-]+){0,5}\",\n",
    "               r\"keine Einigung(?:[^\\wäöüÄÖÜß'-]+[\\wäöüÄÖÜß'-]+){0,5}\",\n",
    "               \"ohne Abstimmung\",\n",
    "               \"nicht in der Tagesordnung aufgenommen\",\n",
    "               \"teilweise\",\n",
    "               \"Vertagung\",\n",
    "               \"vertagt\"\n",
    "               \"zur Kenntnis genommen\",\n",
    "               r\"zurückgestellt(?:[^\\wäöüÄÖÜß'-]+[\\wäöüÄÖÜß'-]+){0,5}\",\n",
    "               \"zurückgewiesen\",\n",
    "               r\"Zurückweisung(?:[^\\wäöüÄÖÜß'-]+[\\wäöüÄÖÜß'-]+){0,5}\",\n",
    "               \"offen\"\n",
    "\n",
    "               ]\n",
    "\n",
    "status_re = r\"(Beschluss(?:[^\\wäöüÄÖÜß'-]+[\\wäöüÄÖÜß'-]+){0,50})\""
   ]
  },
  {
   "cell_type": "code",
   "execution_count": 112,
   "metadata": {},
   "outputs": [],
   "source": [
    "no_status = df[pd.isnull(df['status']) == True]"
   ]
  },
  {
   "cell_type": "code",
   "execution_count": 120,
   "metadata": {},
   "outputs": [],
   "source": [
    "df = df.reset_index()"
   ]
  },
  {
   "cell_type": "code",
   "execution_count": 122,
   "metadata": {},
   "outputs": [],
   "source": [
    "no_status_filtered = no_status[no_status['doc_typ'] == ('Beschluss' or'Vorlage' or'Antrag'or'Anfrage') ]"
   ]
  },
  {
   "cell_type": "code",
   "execution_count": 129,
   "metadata": {},
   "outputs": [],
   "source": [
    "df.drop('status_extract', axis=1, inplace=True)"
   ]
  },
  {
   "cell_type": "code",
   "execution_count": 132,
   "metadata": {},
   "outputs": [],
   "source": [
    "status_extract_all = no_status_filtered['content'].str.extractall(status_re, flags=re.IGNORECASE)"
   ]
  },
  {
   "cell_type": "code",
   "execution_count": 126,
   "metadata": {},
   "outputs": [],
   "source": [
    "df_status_extract = df[pd.notnull(df['status_extract']) == True]"
   ]
  },
  {
   "cell_type": "code",
   "execution_count": 127,
   "metadata": {},
   "outputs": [],
   "source": [
    "status_extract_all.to_csv(\"status_extract_all.csv\")"
   ]
  },
  {
   "cell_type": "code",
   "execution_count": 128,
   "metadata": {},
   "outputs": [
    {
     "data": {
      "text/plain": [
       "'S T A D T  L A M P E R T H E I M  \\nLampertheim, den 24.09.2007 \\n \\n \\n \\nB E S C H L U S S  N r .   \\n \\nder Sitzung der Stadtverordnetenversammlung der Stadt Lampertheim \\n \\nvom Freitag, den 14.09.2007 um 19:03 Uhr \\n \\nim Sitzungssaal des Stadthauses, Römerstraße 102, 68623 Lampertheim \\n \\nEs waren anwesend: \\nStass, Brigitte - Stadtverordnetenvorsteherin  \\nBauer, Lothar - Stadtverordneter \\n \\nBerg, Karl-Heinz - Stadtverordneter  \\nBittner, Thomas - Stadtverordneter  \\nBlepp, Dieter - Stadtverordneter \\n \\nBrechenser, Dieter - Stadtverordneter \\n \\nBuschmann, Irma - Stadtverordnete  \\nEbert, Rita - Stadtverordnete  \\nGalvagno, Nunzio - Stadtverordneter \\n \\nGötz, Fritz - Stadtverordneter \\n \\nHahn, Hans - Stadtverordneter \\n \\nHartmann, Sabine - Stadtverordnete  \\nHofmann, Werner - Stadtverordneter \\n \\nHorstfeld, Karl-Heinz - Stellvertretender Stadtverordnetenvorsteher \\n \\nHummel, Helmut - Stadtverordneter  \\nJacobi, Michael - Stadtverordneter  \\nKirsch, Walter - Stadtverordneter \\n \\nKlingler, Jens - Stadtverordneter \\n \\nKorb, Franz - Stadtverordneter \\n \\nKronauer, Bärbel - Stadtverordnete  \\nKühn, Wolfgang - Stadtverordneter  \\nKunz, Carmen - Stadtverordnete \\n \\nLenhardt, Robert - Stadtverordneter  \\nLidke, Dietmar - Stadtverordneter \\n \\nMeyer, Dieter - Stellvertretender Stadtverordnetenvorsteher \\n \\nNeuhaus, Peter - Stadtverordneter  \\nOhl, Gottlieb - Stellvertretender Stadtverordnetenvorsteher \\n \\nOhl, Regine - Stadtverordnete \\n \\nOtten, Markus - Stadtverordneter \\n \\nPlenert, Maximilian - Stadtverordneter \\n \\nReipa, Manfred - Stadtverordneter  \\nReppert, Detlev - Stadtverordneter  \\nRiesner, Raphael - Stadtverordneter  \\nRisse, Eva-Maria - Stadtverordnete  \\nSchmitt, Walter - Stellvertretender Stadtverordnetenvorsteher \\n \\nSimon, Gregor - Stadtverordneter \\n \\nStöwesand, Edwin - Stadtverordneter \\n \\nWeihmann, Martin - Stellvertretender Stadtverordnetenvorsteher  \\nWinter, Lydia - Stadtverordnete \\n \\nBauer, Gerd Werner - Stadtrat \\n \\nBreckner, Albert - Stadtrat \\n \\nHinz, Peter - Stadtrat  \\nBeschluss der Sitzung der Stadtverordnetenversammlung der Stadt Lampertheim vom 14.09.2007 \\nSeite 2 \\nHofmann, Margareta - Stadträtin \\n \\nKrotz, Christiane - Stadträtin  \\nMarconi, Pietro - Stadtrat \\n \\nSchlatter, Hans - Stadtrat \\n \\nStumpf, Joachim - Stadtrat 19:03 - 20:30 Uhr \\n \\nWittgruber, Otmar - Stadtrat  \\n \\n \\n1.5.2 \\nMagistratsbericht \\nfür die Zeit vom 09.07. bis 03.09.2007 \\n2007/171 \\n \\nMitteilung: \\n \\n \\nBeratungsergebnis:  \\n \\n \\n'"
      ]
     },
     "execution_count": 128,
     "metadata": {},
     "output_type": "execute_result"
    }
   ],
   "source": [
    "df['content'][23106]"
   ]
  },
  {
   "attachments": {},
   "cell_type": "markdown",
   "metadata": {},
   "source": [
    "## Allgemeine Informationen über Datensatz"
   ]
  },
  {
   "cell_type": "code",
   "execution_count": 2,
   "metadata": {},
   "outputs": [],
   "source": [
    "df = pd.read_parquet(\"2023-04-03_gesamt_rhein_neckar.parquet\")"
   ]
  },
  {
   "cell_type": "code",
   "execution_count": 3,
   "metadata": {},
   "outputs": [],
   "source": [
    "df['kommune'] = df[\"kommune\"].cat.rename_categories({\"Kreis_Heilbronn\": \"Kreis Heilbronn\",\n",
    "                          \"Rhein_Neckar_Kreis\": \"Rhein-Neckar-Kreis\",\n",
    "                          \"Bad Duerkheim\": \"Bad Dürkheim\",\n",
    "                          })"
   ]
  },
  {
   "cell_type": "code",
   "execution_count": 4,
   "metadata": {},
   "outputs": [],
   "source": [
    "df = df[df[\"date\"] < \"2022-12-31\"]"
   ]
  },
  {
   "cell_type": "code",
   "execution_count": 5,
   "metadata": {},
   "outputs": [],
   "source": [
    "df['date_print'] = df['date'].dt.strftime('%d.%m.%Y')"
   ]
  },
  {
   "cell_type": "code",
   "execution_count": 43,
   "metadata": {},
   "outputs": [],
   "source": [
    "df_date = pd.crosstab(index=df['kommune'], columns='Aggregat', values=df['date'], aggfunc=[min,max])"
   ]
  },
  {
   "cell_type": "code",
   "execution_count": 44,
   "metadata": {},
   "outputs": [],
   "source": [
    "df_date['diff_years'] = (df_date['max'] - df_date['min']) / np.timedelta64(1,'Y')"
   ]
  },
  {
   "cell_type": "code",
   "execution_count": 47,
   "metadata": {},
   "outputs": [
    {
     "data": {
      "text/html": [
       "<div>\n",
       "<style scoped>\n",
       "    .dataframe tbody tr th:only-of-type {\n",
       "        vertical-align: middle;\n",
       "    }\n",
       "\n",
       "    .dataframe tbody tr th {\n",
       "        vertical-align: top;\n",
       "    }\n",
       "\n",
       "    .dataframe thead tr th {\n",
       "        text-align: left;\n",
       "    }\n",
       "\n",
       "    .dataframe thead tr:last-of-type th {\n",
       "        text-align: right;\n",
       "    }\n",
       "</style>\n",
       "<table border=\"1\" class=\"dataframe\">\n",
       "  <thead>\n",
       "    <tr>\n",
       "      <th></th>\n",
       "      <th>min</th>\n",
       "      <th>max</th>\n",
       "      <th>diff_years</th>\n",
       "    </tr>\n",
       "    <tr>\n",
       "      <th>col_0</th>\n",
       "      <th>Aggregat</th>\n",
       "      <th>Aggregat</th>\n",
       "      <th></th>\n",
       "    </tr>\n",
       "    <tr>\n",
       "      <th>kommune</th>\n",
       "      <th></th>\n",
       "      <th></th>\n",
       "      <th></th>\n",
       "    </tr>\n",
       "  </thead>\n",
       "  <tbody>\n",
       "    <tr>\n",
       "      <th>Bad Dürkheim</th>\n",
       "      <td>2006-12-12</td>\n",
       "      <td>2022-12-13</td>\n",
       "      <td>16.003066</td>\n",
       "    </tr>\n",
       "    <tr>\n",
       "      <th>Bad Friedrichshall</th>\n",
       "      <td>2011-02-22</td>\n",
       "      <td>2022-12-16</td>\n",
       "      <td>11.814069</td>\n",
       "    </tr>\n",
       "    <tr>\n",
       "      <th>Bad Rappenau</th>\n",
       "      <td>2016-01-28</td>\n",
       "      <td>2022-12-15</td>\n",
       "      <td>6.880360</td>\n",
       "    </tr>\n",
       "    <tr>\n",
       "      <th>Bensheim</th>\n",
       "      <td>2014-02-01</td>\n",
       "      <td>2022-07-01</td>\n",
       "      <td>8.410850</td>\n",
       "    </tr>\n",
       "    <tr>\n",
       "      <th>Frankenthal</th>\n",
       "      <td>2004-07-07</td>\n",
       "      <td>2022-12-14</td>\n",
       "      <td>18.437066</td>\n",
       "    </tr>\n",
       "    <tr>\n",
       "      <th>Hassloch</th>\n",
       "      <td>2010-04-28</td>\n",
       "      <td>2022-12-14</td>\n",
       "      <td>12.629965</td>\n",
       "    </tr>\n",
       "    <tr>\n",
       "      <th>Heppenheim</th>\n",
       "      <td>2012-05-15</td>\n",
       "      <td>2022-12-01</td>\n",
       "      <td>10.546418</td>\n",
       "    </tr>\n",
       "    <tr>\n",
       "      <th>Hockenheim</th>\n",
       "      <td>2018-01-22</td>\n",
       "      <td>2022-12-14</td>\n",
       "      <td>4.892640</td>\n",
       "    </tr>\n",
       "    <tr>\n",
       "      <th>Homburg</th>\n",
       "      <td>2019-07-04</td>\n",
       "      <td>2022-12-15</td>\n",
       "      <td>3.449763</td>\n",
       "    </tr>\n",
       "    <tr>\n",
       "      <th>Kreis Bad Dürkheim</th>\n",
       "      <td>2004-07-09</td>\n",
       "      <td>2022-12-21</td>\n",
       "      <td>18.450755</td>\n",
       "    </tr>\n",
       "    <tr>\n",
       "      <th>Kreis Bergstraße</th>\n",
       "      <td>2006-05-08</td>\n",
       "      <td>2022-12-12</td>\n",
       "      <td>16.597192</td>\n",
       "    </tr>\n",
       "    <tr>\n",
       "      <th>Kreis Germersheim</th>\n",
       "      <td>2009-07-01</td>\n",
       "      <td>2022-12-12</td>\n",
       "      <td>13.448599</td>\n",
       "    </tr>\n",
       "    <tr>\n",
       "      <th>Kreis Heilbronn</th>\n",
       "      <td>2008-04-28</td>\n",
       "      <td>2022-12-12</td>\n",
       "      <td>14.623161</td>\n",
       "    </tr>\n",
       "    <tr>\n",
       "      <th>Lampertheim</th>\n",
       "      <td>2006-10-13</td>\n",
       "      <td>2022-12-16</td>\n",
       "      <td>16.175555</td>\n",
       "    </tr>\n",
       "    <tr>\n",
       "      <th>Landau</th>\n",
       "      <td>2009-08-25</td>\n",
       "      <td>2022-12-13</td>\n",
       "      <td>13.300752</td>\n",
       "    </tr>\n",
       "    <tr>\n",
       "      <th>Leimen</th>\n",
       "      <td>2018-03-22</td>\n",
       "      <td>2022-12-22</td>\n",
       "      <td>4.753007</td>\n",
       "    </tr>\n",
       "    <tr>\n",
       "      <th>Pirmasens</th>\n",
       "      <td>2019-06-24</td>\n",
       "      <td>2022-12-12</td>\n",
       "      <td>3.468928</td>\n",
       "    </tr>\n",
       "    <tr>\n",
       "      <th>Rhein-Pfalz-Kreis</th>\n",
       "      <td>2004-07-12</td>\n",
       "      <td>2022-09-26</td>\n",
       "      <td>18.207082</td>\n",
       "    </tr>\n",
       "    <tr>\n",
       "      <th>Rhein-Neckar-Kreis</th>\n",
       "      <td>2009-03-31</td>\n",
       "      <td>2022-12-13</td>\n",
       "      <td>13.703225</td>\n",
       "    </tr>\n",
       "    <tr>\n",
       "      <th>Saarpfalz-Kreis</th>\n",
       "      <td>2014-03-01</td>\n",
       "      <td>2022-12-01</td>\n",
       "      <td>8.753089</td>\n",
       "    </tr>\n",
       "    <tr>\n",
       "      <th>Schifferstadt</th>\n",
       "      <td>2000-02-10</td>\n",
       "      <td>2022-12-01</td>\n",
       "      <td>22.806765</td>\n",
       "    </tr>\n",
       "    <tr>\n",
       "      <th>Schwetzingen</th>\n",
       "      <td>2005-04-14</td>\n",
       "      <td>2022-12-15</td>\n",
       "      <td>17.670452</td>\n",
       "    </tr>\n",
       "    <tr>\n",
       "      <th>Speyer</th>\n",
       "      <td>2005-03-03</td>\n",
       "      <td>2022-12-15</td>\n",
       "      <td>17.785444</td>\n",
       "    </tr>\n",
       "    <tr>\n",
       "      <th>Viernheim</th>\n",
       "      <td>2001-05-22</td>\n",
       "      <td>2022-12-15</td>\n",
       "      <td>21.566493</td>\n",
       "    </tr>\n",
       "    <tr>\n",
       "      <th>Weinheim</th>\n",
       "      <td>2008-01-30</td>\n",
       "      <td>2022-12-14</td>\n",
       "      <td>14.872311</td>\n",
       "    </tr>\n",
       "    <tr>\n",
       "      <th>Wiesloch</th>\n",
       "      <td>2021-09-15</td>\n",
       "      <td>2022-12-14</td>\n",
       "      <td>1.245748</td>\n",
       "    </tr>\n",
       "    <tr>\n",
       "      <th>Wörth am Rhein</th>\n",
       "      <td>2009-02-26</td>\n",
       "      <td>2022-12-19</td>\n",
       "      <td>13.810003</td>\n",
       "    </tr>\n",
       "  </tbody>\n",
       "</table>\n",
       "</div>"
      ],
      "text/plain": [
       "                          min        max diff_years\n",
       "col_0                Aggregat   Aggregat           \n",
       "kommune                                            \n",
       "Bad Dürkheim       2006-12-12 2022-12-13  16.003066\n",
       "Bad Friedrichshall 2011-02-22 2022-12-16  11.814069\n",
       "Bad Rappenau       2016-01-28 2022-12-15   6.880360\n",
       "Bensheim           2014-02-01 2022-07-01   8.410850\n",
       "Frankenthal        2004-07-07 2022-12-14  18.437066\n",
       "Hassloch           2010-04-28 2022-12-14  12.629965\n",
       "Heppenheim         2012-05-15 2022-12-01  10.546418\n",
       "Hockenheim         2018-01-22 2022-12-14   4.892640\n",
       "Homburg            2019-07-04 2022-12-15   3.449763\n",
       "Kreis Bad Dürkheim 2004-07-09 2022-12-21  18.450755\n",
       "Kreis Bergstraße   2006-05-08 2022-12-12  16.597192\n",
       "Kreis Germersheim  2009-07-01 2022-12-12  13.448599\n",
       "Kreis Heilbronn    2008-04-28 2022-12-12  14.623161\n",
       "Lampertheim        2006-10-13 2022-12-16  16.175555\n",
       "Landau             2009-08-25 2022-12-13  13.300752\n",
       "Leimen             2018-03-22 2022-12-22   4.753007\n",
       "Pirmasens          2019-06-24 2022-12-12   3.468928\n",
       "Rhein-Pfalz-Kreis  2004-07-12 2022-09-26  18.207082\n",
       "Rhein-Neckar-Kreis 2009-03-31 2022-12-13  13.703225\n",
       "Saarpfalz-Kreis    2014-03-01 2022-12-01   8.753089\n",
       "Schifferstadt      2000-02-10 2022-12-01  22.806765\n",
       "Schwetzingen       2005-04-14 2022-12-15  17.670452\n",
       "Speyer             2005-03-03 2022-12-15  17.785444\n",
       "Viernheim          2001-05-22 2022-12-15  21.566493\n",
       "Weinheim           2008-01-30 2022-12-14  14.872311\n",
       "Wiesloch           2021-09-15 2022-12-14   1.245748\n",
       "Wörth am Rhein     2009-02-26 2022-12-19  13.810003"
      ]
     },
     "execution_count": 47,
     "metadata": {},
     "output_type": "execute_result"
    }
   ],
   "source": [
    "df_date"
   ]
  },
  {
   "cell_type": "code",
   "execution_count": 48,
   "metadata": {},
   "outputs": [
    {
     "name": "stderr",
     "output_type": "stream",
     "text": [
      "C:\\Users\\johan\\AppData\\Local\\Temp\\ipykernel_14556\\3816574112.py:1: FutureWarning: In future versions `DataFrame.to_latex` is expected to utilise the base implementation of `Styler.to_latex` for formatting and rendering. The arguments signature may therefore change. It is recommended instead to use `DataFrame.style.to_latex` which also contains additional functionality.\n",
      "  df_date.to_latex(\"../../latex/Tables/Kommunen_Datum_Min_Max_Duration.tex\",\n"
     ]
    }
   ],
   "source": [
    "df_date.to_latex(\"../../latex/Tables/Kommunen_Datum_Min_Max_Duration.tex\", \n",
    "                caption=\"Zeitspanne der erhobenen Daten\",\n",
    "                label=\"tab:zeitspanne_daten\",\n",
    "                column_format=\"lccr\"\n",
    "                )"
   ]
  },
  {
   "cell_type": "code",
   "execution_count": 11,
   "metadata": {},
   "outputs": [
    {
     "data": {
      "text/plain": [
       "Vorlage             26793\n",
       "Anhang Vorlage      25528\n",
       "Beschluss            4738\n",
       "Niederschrift        4690\n",
       "Anhang Sitzung       1644\n",
       "Bekanntmachung       1598\n",
       "Anfrage              1117\n",
       "Antrag                881\n",
       "Anhang Beschluss      777\n",
       "Name: doc_typ, dtype: int64"
      ]
     },
     "execution_count": 11,
     "metadata": {},
     "output_type": "execute_result"
    }
   ],
   "source": [
    "df['doc_typ'].value_counts()"
   ]
  },
  {
   "cell_type": "code",
   "execution_count": null,
   "metadata": {},
   "outputs": [],
   "source": [
    "df['doc_typ'].value_counts().to_latex(\"../../latex/Tables/dokumententypen.tex\", \n",
    "                caption=\"Dokumententypen des gesamten Datensatzes\",\n",
    "                label=\"tab:dokumententypen\",\n",
    "                column_format=\"lr\"\n",
    "                )"
   ]
  },
  {
   "cell_type": "code",
   "execution_count": 15,
   "metadata": {},
   "outputs": [],
   "source": [
    "df['verkehrsbezug'] = df['verkehrsbezug'].astype('boolean')"
   ]
  },
  {
   "cell_type": "code",
   "execution_count": 50,
   "metadata": {},
   "outputs": [],
   "source": [
    "df.to_parquet('2023-05-22_gesamtdaten_bis_2022.parquet')"
   ]
  },
  {
   "cell_type": "code",
   "execution_count": 6,
   "metadata": {},
   "outputs": [],
   "source": [
    "df = pd.read_parquet('2023-05-22_gesamtdaten_bis_2022.parquet')"
   ]
  },
  {
   "cell_type": "code",
   "execution_count": 18,
   "metadata": {},
   "outputs": [
    {
     "data": {
      "text/plain": [
       "False    69131\n",
       "True       286\n",
       "Name: content, dtype: int64"
      ]
     },
     "execution_count": 18,
     "metadata": {},
     "output_type": "execute_result"
    }
   ],
   "source": [
    "pd.isnull(df['content']).value_counts()"
   ]
  },
  {
   "cell_type": "code",
   "execution_count": 19,
   "metadata": {},
   "outputs": [
    {
     "data": {
      "text/html": [
       "<div>\n",
       "<style scoped>\n",
       "    .dataframe tbody tr th:only-of-type {\n",
       "        vertical-align: middle;\n",
       "    }\n",
       "\n",
       "    .dataframe tbody tr th {\n",
       "        vertical-align: top;\n",
       "    }\n",
       "\n",
       "    .dataframe thead th {\n",
       "        text-align: right;\n",
       "    }\n",
       "</style>\n",
       "<table border=\"1\" class=\"dataframe\">\n",
       "  <thead>\n",
       "    <tr style=\"text-align: right;\">\n",
       "      <th></th>\n",
       "      <th>content</th>\n",
       "      <th>date</th>\n",
       "      <th>doc_name_x</th>\n",
       "      <th>file_urls</th>\n",
       "      <th>gremium</th>\n",
       "      <th>kommunale_ebene</th>\n",
       "      <th>kommune</th>\n",
       "      <th>pdf_name</th>\n",
       "      <th>rel_path_to_file</th>\n",
       "      <th>sitzung_nr</th>\n",
       "      <th>status</th>\n",
       "      <th>top_name</th>\n",
       "      <th>top_nr</th>\n",
       "      <th>vorlage_nr</th>\n",
       "      <th>ocr</th>\n",
       "      <th>doc_typ</th>\n",
       "      <th>verkehrsbezug</th>\n",
       "      <th>date_print</th>\n",
       "    </tr>\n",
       "    <tr>\n",
       "      <th>index</th>\n",
       "      <th></th>\n",
       "      <th></th>\n",
       "      <th></th>\n",
       "      <th></th>\n",
       "      <th></th>\n",
       "      <th></th>\n",
       "      <th></th>\n",
       "      <th></th>\n",
       "      <th></th>\n",
       "      <th></th>\n",
       "      <th></th>\n",
       "      <th></th>\n",
       "      <th></th>\n",
       "      <th></th>\n",
       "      <th></th>\n",
       "      <th></th>\n",
       "      <th></th>\n",
       "      <th></th>\n",
       "    </tr>\n",
       "  </thead>\n",
       "  <tbody>\n",
       "    <tr>\n",
       "      <th>15814.0</th>\n",
       "      <td>\\n \\n \\nBeschlußvorlage \\nöffentlich \\n \\nFac...</td>\n",
       "      <td>2007-02-13</td>\n",
       "      <td>Vorlage</td>\n",
       "      <td>https://sessionnet.krz.de/bad-duerkheim/bi/get...</td>\n",
       "      <td>Stadtrat</td>\n",
       "      <td>Stadt</td>\n",
       "      <td>Bad Dürkheim</td>\n",
       "      <td>2007-02-13_Bad_Duerkheim_60212.pdf</td>\n",
       "      <td>Dateien/Kommunen/Bad_Duerkheim/2007-02-13_Bad_...</td>\n",
       "      <td>60212.0</td>\n",
       "      <td>None</td>\n",
       "      <td>Tätigkeitsbericht der Agenda 21</td>\n",
       "      <td>2.0</td>\n",
       "      <td>20070019/1.1</td>\n",
       "      <td>False</td>\n",
       "      <td>Vorlage</td>\n",
       "      <td>True</td>\n",
       "      <td>13.02.2007</td>\n",
       "    </tr>\n",
       "    <tr>\n",
       "      <th>15815.0</th>\n",
       "      <td>\\n \\n \\nBeschlußvorlage \\nnicht öffentlich \\n...</td>\n",
       "      <td>2007-02-13</td>\n",
       "      <td>Vorlage</td>\n",
       "      <td>https://sessionnet.krz.de/bad-duerkheim/bi/get...</td>\n",
       "      <td>Stadtrat</td>\n",
       "      <td>Stadt</td>\n",
       "      <td>Bad Dürkheim</td>\n",
       "      <td>2007-02-13_Bad_Duerkheim_60204.pdf</td>\n",
       "      <td>Dateien/Kommunen/Bad_Duerkheim/2007-02-13_Bad_...</td>\n",
       "      <td>60204.0</td>\n",
       "      <td>None</td>\n",
       "      <td>Prüfung der Stadtkasse hier: Unterrichtung übe...</td>\n",
       "      <td>3.0</td>\n",
       "      <td>20070018/1.7</td>\n",
       "      <td>False</td>\n",
       "      <td>Vorlage</td>\n",
       "      <td>False</td>\n",
       "      <td>13.02.2007</td>\n",
       "    </tr>\n",
       "    <tr>\n",
       "      <th>21130.0</th>\n",
       "      <td>Unvermutete überörtliche Prüfung der Stadtkass...</td>\n",
       "      <td>2007-02-13</td>\n",
       "      <td>Auszug aus Bericht Kassenprüfung</td>\n",
       "      <td>https://sessionnet.krz.de/bad-duerkheim/bi/get...</td>\n",
       "      <td>Stadtrat</td>\n",
       "      <td>Stadt</td>\n",
       "      <td>Bad Dürkheim</td>\n",
       "      <td>2007-02-13_Bad_Duerkheim_60220.pdf</td>\n",
       "      <td>Dateien/Kommunen/Bad_Duerkheim/2007-02-13_Bad_...</td>\n",
       "      <td>60220.0</td>\n",
       "      <td>None</td>\n",
       "      <td>Prüfung der Stadtkasse hier: Unterrichtung übe...</td>\n",
       "      <td>3.0</td>\n",
       "      <td>20070018/1.7</td>\n",
       "      <td>True</td>\n",
       "      <td>Anhang Vorlage</td>\n",
       "      <td>True</td>\n",
       "      <td>13.02.2007</td>\n",
       "    </tr>\n",
       "    <tr>\n",
       "      <th>15816.0</th>\n",
       "      <td>\\n \\n \\nBeschlußvorlage \\nnichtöffentlich \\n ...</td>\n",
       "      <td>2007-02-13</td>\n",
       "      <td>Vorlage</td>\n",
       "      <td>https://sessionnet.krz.de/bad-duerkheim/bi/get...</td>\n",
       "      <td>Stadtrat</td>\n",
       "      <td>Stadt</td>\n",
       "      <td>Bad Dürkheim</td>\n",
       "      <td>2007-02-13_Bad_Duerkheim_60195.pdf</td>\n",
       "      <td>Dateien/Kommunen/Bad_Duerkheim/2007-02-13_Bad_...</td>\n",
       "      <td>60195.0</td>\n",
       "      <td>None</td>\n",
       "      <td>Neubesetzung städtischer Ausschüsse</td>\n",
       "      <td>5.0</td>\n",
       "      <td>20070014/FB1</td>\n",
       "      <td>False</td>\n",
       "      <td>Vorlage</td>\n",
       "      <td>False</td>\n",
       "      <td>13.02.2007</td>\n",
       "    </tr>\n",
       "    <tr>\n",
       "      <th>28204.0</th>\n",
       "      <td>\"REPUBLIKANER R EP\\n\\nStadtratsfraktion Bad Dü...</td>\n",
       "      <td>2007-02-13</td>\n",
       "      <td>Schreiben der REP-Stadtratsfraktion vom 10.01....</td>\n",
       "      <td>https://sessionnet.krz.de/bad-duerkheim/bi/get...</td>\n",
       "      <td>Stadtrat</td>\n",
       "      <td>Stadt</td>\n",
       "      <td>Bad Dürkheim</td>\n",
       "      <td>2007-02-13_Bad_Duerkheim_60213.pdf</td>\n",
       "      <td>Dateien/Kommunen/Bad_Duerkheim/2007-02-13_Bad_...</td>\n",
       "      <td>60213.0</td>\n",
       "      <td>None</td>\n",
       "      <td>Neubesetzung städtischer Ausschüsse</td>\n",
       "      <td>5.0</td>\n",
       "      <td>20070014/FB1</td>\n",
       "      <td>True</td>\n",
       "      <td>Anhang Vorlage</td>\n",
       "      <td>False</td>\n",
       "      <td>13.02.2007</td>\n",
       "    </tr>\n",
       "  </tbody>\n",
       "</table>\n",
       "</div>"
      ],
      "text/plain": [
       "                                                   content       date  \\\n",
       "index                                                                   \n",
       "15814.0   \\n \\n \\nBeschlußvorlage \\nöffentlich \\n \\nFac... 2007-02-13   \n",
       "15815.0   \\n \\n \\nBeschlußvorlage \\nnicht öffentlich \\n... 2007-02-13   \n",
       "21130.0  Unvermutete überörtliche Prüfung der Stadtkass... 2007-02-13   \n",
       "15816.0   \\n \\n \\nBeschlußvorlage \\nnichtöffentlich \\n ... 2007-02-13   \n",
       "28204.0  \"REPUBLIKANER R EP\\n\\nStadtratsfraktion Bad Dü... 2007-02-13   \n",
       "\n",
       "                                                doc_name_x  \\\n",
       "index                                                        \n",
       "15814.0                                            Vorlage   \n",
       "15815.0                                            Vorlage   \n",
       "21130.0                   Auszug aus Bericht Kassenprüfung   \n",
       "15816.0                                            Vorlage   \n",
       "28204.0  Schreiben der REP-Stadtratsfraktion vom 10.01....   \n",
       "\n",
       "                                                 file_urls   gremium  \\\n",
       "index                                                                  \n",
       "15814.0  https://sessionnet.krz.de/bad-duerkheim/bi/get...  Stadtrat   \n",
       "15815.0  https://sessionnet.krz.de/bad-duerkheim/bi/get...  Stadtrat   \n",
       "21130.0  https://sessionnet.krz.de/bad-duerkheim/bi/get...  Stadtrat   \n",
       "15816.0  https://sessionnet.krz.de/bad-duerkheim/bi/get...  Stadtrat   \n",
       "28204.0  https://sessionnet.krz.de/bad-duerkheim/bi/get...  Stadtrat   \n",
       "\n",
       "        kommunale_ebene       kommune                            pdf_name  \\\n",
       "index                                                                       \n",
       "15814.0           Stadt  Bad Dürkheim  2007-02-13_Bad_Duerkheim_60212.pdf   \n",
       "15815.0           Stadt  Bad Dürkheim  2007-02-13_Bad_Duerkheim_60204.pdf   \n",
       "21130.0           Stadt  Bad Dürkheim  2007-02-13_Bad_Duerkheim_60220.pdf   \n",
       "15816.0           Stadt  Bad Dürkheim  2007-02-13_Bad_Duerkheim_60195.pdf   \n",
       "28204.0           Stadt  Bad Dürkheim  2007-02-13_Bad_Duerkheim_60213.pdf   \n",
       "\n",
       "                                          rel_path_to_file  sitzung_nr status  \\\n",
       "index                                                                           \n",
       "15814.0  Dateien/Kommunen/Bad_Duerkheim/2007-02-13_Bad_...     60212.0   None   \n",
       "15815.0  Dateien/Kommunen/Bad_Duerkheim/2007-02-13_Bad_...     60204.0   None   \n",
       "21130.0  Dateien/Kommunen/Bad_Duerkheim/2007-02-13_Bad_...     60220.0   None   \n",
       "15816.0  Dateien/Kommunen/Bad_Duerkheim/2007-02-13_Bad_...     60195.0   None   \n",
       "28204.0  Dateien/Kommunen/Bad_Duerkheim/2007-02-13_Bad_...     60213.0   None   \n",
       "\n",
       "                                                  top_name top_nr  \\\n",
       "index                                                               \n",
       "15814.0                    Tätigkeitsbericht der Agenda 21    2.0   \n",
       "15815.0  Prüfung der Stadtkasse hier: Unterrichtung übe...    3.0   \n",
       "21130.0  Prüfung der Stadtkasse hier: Unterrichtung übe...    3.0   \n",
       "15816.0                Neubesetzung städtischer Ausschüsse    5.0   \n",
       "28204.0                Neubesetzung städtischer Ausschüsse    5.0   \n",
       "\n",
       "           vorlage_nr    ocr         doc_typ  verkehrsbezug  date_print  \n",
       "index                                                                    \n",
       "15814.0  20070019/1.1  False         Vorlage           True  13.02.2007  \n",
       "15815.0  20070018/1.7  False         Vorlage          False  13.02.2007  \n",
       "21130.0  20070018/1.7   True  Anhang Vorlage           True  13.02.2007  \n",
       "15816.0  20070014/FB1  False         Vorlage          False  13.02.2007  \n",
       "28204.0  20070014/FB1   True  Anhang Vorlage          False  13.02.2007  "
      ]
     },
     "execution_count": 19,
     "metadata": {},
     "output_type": "execute_result"
    }
   ],
   "source": [
    "df.head()"
   ]
  },
  {
   "cell_type": "code",
   "execution_count": 7,
   "metadata": {},
   "outputs": [],
   "source": [
    "# Wenn es keinen Inhalt gibt, dann auslassen\n",
    "df = df[df['content'].notna()]"
   ]
  },
  {
   "cell_type": "code",
   "execution_count": 21,
   "metadata": {},
   "outputs": [
    {
     "data": {
      "text/plain": [
       "False    69131\n",
       "Name: content, dtype: int64"
      ]
     },
     "execution_count": 21,
     "metadata": {},
     "output_type": "execute_result"
    }
   ],
   "source": [
    "pd.isnull(df['content']).value_counts()"
   ]
  },
  {
   "cell_type": "code",
   "execution_count": 6,
   "metadata": {},
   "outputs": [
    {
     "name": "stderr",
     "output_type": "stream",
     "text": [
      "C:\\Users\\johan\\AppData\\Local\\Temp\\ipykernel_14556\\3476177009.py:1: FutureWarning: In future versions `DataFrame.to_latex` is expected to utilise the base implementation of `Styler.to_latex` for formatting and rendering. The arguments signature may therefore change. It is recommended instead to use `DataFrame.style.to_latex` which also contains additional functionality.\n",
      "  pd.crosstab(index=df['kommune'], columns=df['doc_typ']).to_latex(\"../../latex/Tables/Kommunen_Dokumententypen.tex\",\n"
     ]
    }
   ],
   "source": [
    "pd.crosstab(index=df['kommune'], columns=df['doc_typ']).to_latex(\"../../latex/Tables/Kommunen_Dokumententypen.tex\", \n",
    "                caption=\"Dokumententyp je Kommune\",\n",
    "                label=\"tab:kommune dokumententypen\",\n",
    "                )"
   ]
  },
  {
   "cell_type": "code",
   "execution_count": 12,
   "metadata": {},
   "outputs": [
    {
     "data": {
      "text/html": [
       "<div>\n",
       "<style scoped>\n",
       "    .dataframe tbody tr th:only-of-type {\n",
       "        vertical-align: middle;\n",
       "    }\n",
       "\n",
       "    .dataframe tbody tr th {\n",
       "        vertical-align: top;\n",
       "    }\n",
       "\n",
       "    .dataframe thead th {\n",
       "        text-align: right;\n",
       "    }\n",
       "</style>\n",
       "<table border=\"1\" class=\"dataframe\">\n",
       "  <thead>\n",
       "    <tr style=\"text-align: right;\">\n",
       "      <th>col_0</th>\n",
       "      <th>Count</th>\n",
       "    </tr>\n",
       "    <tr>\n",
       "      <th>kommune</th>\n",
       "      <th></th>\n",
       "    </tr>\n",
       "  </thead>\n",
       "  <tbody>\n",
       "    <tr>\n",
       "      <th>Bad Dürkheim</th>\n",
       "      <td>1817</td>\n",
       "    </tr>\n",
       "    <tr>\n",
       "      <th>Bad Friedrichshall</th>\n",
       "      <td>2401</td>\n",
       "    </tr>\n",
       "    <tr>\n",
       "      <th>Bad Rappenau</th>\n",
       "      <td>1402</td>\n",
       "    </tr>\n",
       "    <tr>\n",
       "      <th>Bensheim</th>\n",
       "      <td>56</td>\n",
       "    </tr>\n",
       "    <tr>\n",
       "      <th>Frankenthal</th>\n",
       "      <td>7368</td>\n",
       "    </tr>\n",
       "    <tr>\n",
       "      <th>Hassloch</th>\n",
       "      <td>2716</td>\n",
       "    </tr>\n",
       "    <tr>\n",
       "      <th>Heppenheim</th>\n",
       "      <td>2660</td>\n",
       "    </tr>\n",
       "    <tr>\n",
       "      <th>Hockenheim</th>\n",
       "      <td>1746</td>\n",
       "    </tr>\n",
       "    <tr>\n",
       "      <th>Homburg</th>\n",
       "      <td>1006</td>\n",
       "    </tr>\n",
       "    <tr>\n",
       "      <th>Kreis Bad Dürkheim</th>\n",
       "      <td>1626</td>\n",
       "    </tr>\n",
       "    <tr>\n",
       "      <th>Kreis Bergstraße</th>\n",
       "      <td>5218</td>\n",
       "    </tr>\n",
       "    <tr>\n",
       "      <th>Kreis Germersheim</th>\n",
       "      <td>836</td>\n",
       "    </tr>\n",
       "    <tr>\n",
       "      <th>Kreis Heilbronn</th>\n",
       "      <td>1970</td>\n",
       "    </tr>\n",
       "    <tr>\n",
       "      <th>Lampertheim</th>\n",
       "      <td>5796</td>\n",
       "    </tr>\n",
       "    <tr>\n",
       "      <th>Landau</th>\n",
       "      <td>6092</td>\n",
       "    </tr>\n",
       "    <tr>\n",
       "      <th>Leimen</th>\n",
       "      <td>213</td>\n",
       "    </tr>\n",
       "    <tr>\n",
       "      <th>Pirmasens</th>\n",
       "      <td>1555</td>\n",
       "    </tr>\n",
       "    <tr>\n",
       "      <th>Rhein-Pfalz-Kreis</th>\n",
       "      <td>3633</td>\n",
       "    </tr>\n",
       "    <tr>\n",
       "      <th>Rhein-Neckar-Kreis</th>\n",
       "      <td>1351</td>\n",
       "    </tr>\n",
       "    <tr>\n",
       "      <th>Saarpfalz-Kreis</th>\n",
       "      <td>47</td>\n",
       "    </tr>\n",
       "    <tr>\n",
       "      <th>Schifferstadt</th>\n",
       "      <td>3794</td>\n",
       "    </tr>\n",
       "    <tr>\n",
       "      <th>Schwetzingen</th>\n",
       "      <td>4109</td>\n",
       "    </tr>\n",
       "    <tr>\n",
       "      <th>Speyer</th>\n",
       "      <td>5718</td>\n",
       "    </tr>\n",
       "    <tr>\n",
       "      <th>Viernheim</th>\n",
       "      <td>3817</td>\n",
       "    </tr>\n",
       "    <tr>\n",
       "      <th>Weinheim</th>\n",
       "      <td>206</td>\n",
       "    </tr>\n",
       "    <tr>\n",
       "      <th>Wiesloch</th>\n",
       "      <td>645</td>\n",
       "    </tr>\n",
       "    <tr>\n",
       "      <th>Wörth am Rhein</th>\n",
       "      <td>1333</td>\n",
       "    </tr>\n",
       "  </tbody>\n",
       "</table>\n",
       "</div>"
      ],
      "text/plain": [
       "col_0               Count\n",
       "kommune                  \n",
       "Bad Dürkheim         1817\n",
       "Bad Friedrichshall   2401\n",
       "Bad Rappenau         1402\n",
       "Bensheim               56\n",
       "Frankenthal          7368\n",
       "Hassloch             2716\n",
       "Heppenheim           2660\n",
       "Hockenheim           1746\n",
       "Homburg              1006\n",
       "Kreis Bad Dürkheim   1626\n",
       "Kreis Bergstraße     5218\n",
       "Kreis Germersheim     836\n",
       "Kreis Heilbronn      1970\n",
       "Lampertheim          5796\n",
       "Landau               6092\n",
       "Leimen                213\n",
       "Pirmasens            1555\n",
       "Rhein-Pfalz-Kreis    3633\n",
       "Rhein-Neckar-Kreis   1351\n",
       "Saarpfalz-Kreis        47\n",
       "Schifferstadt        3794\n",
       "Schwetzingen         4109\n",
       "Speyer               5718\n",
       "Viernheim            3817\n",
       "Weinheim              206\n",
       "Wiesloch              645\n",
       "Wörth am Rhein       1333"
      ]
     },
     "execution_count": 12,
     "metadata": {},
     "output_type": "execute_result"
    }
   ],
   "source": [
    "pd.crosstab(index=df['kommune'], columns='Count')"
   ]
  },
  {
   "cell_type": "code",
   "execution_count": 13,
   "metadata": {},
   "outputs": [
    {
     "name": "stderr",
     "output_type": "stream",
     "text": [
      "C:\\Users\\johan\\AppData\\Local\\Temp\\ipykernel_14556\\1050045831.py:1: FutureWarning: In future versions `DataFrame.to_latex` is expected to utilise the base implementation of `Styler.to_latex` for formatting and rendering. The arguments signature may therefore change. It is recommended instead to use `DataFrame.style.to_latex` which also contains additional functionality.\n",
      "  pd.crosstab(index=df['kommune'], columns='Count').to_latex(\"../../latex/Tables/Kommunen_Anzahl_Dokumente.tex\",\n"
     ]
    }
   ],
   "source": [
    "pd.crosstab(index=df['kommune'], columns='Count').to_latex(\"../../latex/Tables/Kommunen_Anzahl_Dokumente.tex\", \n",
    "                caption=\"Anzahl der Dokumente pro Kommune\",\n",
    "                label=\"tab:kommunen_anzahl_dokumente\",\n",
    "                )"
   ]
  },
  {
   "cell_type": "code",
   "execution_count": 10,
   "metadata": {},
   "outputs": [
    {
     "data": {
      "text/html": [
       "<div>\n",
       "<style scoped>\n",
       "    .dataframe tbody tr th:only-of-type {\n",
       "        vertical-align: middle;\n",
       "    }\n",
       "\n",
       "    .dataframe tbody tr th {\n",
       "        vertical-align: top;\n",
       "    }\n",
       "\n",
       "    .dataframe thead tr th {\n",
       "        text-align: left;\n",
       "    }\n",
       "\n",
       "    .dataframe thead tr:last-of-type th {\n",
       "        text-align: right;\n",
       "    }\n",
       "</style>\n",
       "<table border=\"1\" class=\"dataframe\">\n",
       "  <thead>\n",
       "    <tr>\n",
       "      <th></th>\n",
       "      <th>sum</th>\n",
       "    </tr>\n",
       "    <tr>\n",
       "      <th>col_0</th>\n",
       "      <th>Aggregat</th>\n",
       "    </tr>\n",
       "    <tr>\n",
       "      <th>kommune</th>\n",
       "      <th></th>\n",
       "    </tr>\n",
       "  </thead>\n",
       "  <tbody>\n",
       "    <tr>\n",
       "      <th>Bad Dürkheim</th>\n",
       "      <td>897</td>\n",
       "    </tr>\n",
       "    <tr>\n",
       "      <th>Bad Friedrichshall</th>\n",
       "      <td>768</td>\n",
       "    </tr>\n",
       "    <tr>\n",
       "      <th>Bad Rappenau</th>\n",
       "      <td>568</td>\n",
       "    </tr>\n",
       "    <tr>\n",
       "      <th>Bensheim</th>\n",
       "      <td>56</td>\n",
       "    </tr>\n",
       "    <tr>\n",
       "      <th>Frankenthal</th>\n",
       "      <td>2799</td>\n",
       "    </tr>\n",
       "    <tr>\n",
       "      <th>Hassloch</th>\n",
       "      <td>1068</td>\n",
       "    </tr>\n",
       "    <tr>\n",
       "      <th>Heppenheim</th>\n",
       "      <td>1337</td>\n",
       "    </tr>\n",
       "    <tr>\n",
       "      <th>Hockenheim</th>\n",
       "      <td>846</td>\n",
       "    </tr>\n",
       "    <tr>\n",
       "      <th>Homburg</th>\n",
       "      <td>149</td>\n",
       "    </tr>\n",
       "    <tr>\n",
       "      <th>Kreis Bad Dürkheim</th>\n",
       "      <td>683</td>\n",
       "    </tr>\n",
       "    <tr>\n",
       "      <th>Kreis Bergstraße</th>\n",
       "      <td>1580</td>\n",
       "    </tr>\n",
       "    <tr>\n",
       "      <th>Kreis Germersheim</th>\n",
       "      <td>144</td>\n",
       "    </tr>\n",
       "    <tr>\n",
       "      <th>Kreis Heilbronn</th>\n",
       "      <td>772</td>\n",
       "    </tr>\n",
       "    <tr>\n",
       "      <th>Lampertheim</th>\n",
       "      <td>2688</td>\n",
       "    </tr>\n",
       "    <tr>\n",
       "      <th>Landau</th>\n",
       "      <td>2610</td>\n",
       "    </tr>\n",
       "    <tr>\n",
       "      <th>Leimen</th>\n",
       "      <td>167</td>\n",
       "    </tr>\n",
       "    <tr>\n",
       "      <th>Pirmasens</th>\n",
       "      <td>707</td>\n",
       "    </tr>\n",
       "    <tr>\n",
       "      <th>Rhein-Pfalz-Kreis</th>\n",
       "      <td>754</td>\n",
       "    </tr>\n",
       "    <tr>\n",
       "      <th>Rhein-Neckar-Kreis</th>\n",
       "      <td>612</td>\n",
       "    </tr>\n",
       "    <tr>\n",
       "      <th>Saarpfalz-Kreis</th>\n",
       "      <td>47</td>\n",
       "    </tr>\n",
       "    <tr>\n",
       "      <th>Schifferstadt</th>\n",
       "      <td>1108</td>\n",
       "    </tr>\n",
       "    <tr>\n",
       "      <th>Schwetzingen</th>\n",
       "      <td>1919</td>\n",
       "    </tr>\n",
       "    <tr>\n",
       "      <th>Speyer</th>\n",
       "      <td>2803</td>\n",
       "    </tr>\n",
       "    <tr>\n",
       "      <th>Viernheim</th>\n",
       "      <td>1847</td>\n",
       "    </tr>\n",
       "    <tr>\n",
       "      <th>Weinheim</th>\n",
       "      <td>162</td>\n",
       "    </tr>\n",
       "    <tr>\n",
       "      <th>Wiesloch</th>\n",
       "      <td>274</td>\n",
       "    </tr>\n",
       "    <tr>\n",
       "      <th>Wörth am Rhein</th>\n",
       "      <td>676</td>\n",
       "    </tr>\n",
       "  </tbody>\n",
       "</table>\n",
       "</div>"
      ],
      "text/plain": [
       "                        sum\n",
       "col_0              Aggregat\n",
       "kommune                    \n",
       "Bad Dürkheim            897\n",
       "Bad Friedrichshall      768\n",
       "Bad Rappenau            568\n",
       "Bensheim                 56\n",
       "Frankenthal            2799\n",
       "Hassloch               1068\n",
       "Heppenheim             1337\n",
       "Hockenheim              846\n",
       "Homburg                 149\n",
       "Kreis Bad Dürkheim      683\n",
       "Kreis Bergstraße       1580\n",
       "Kreis Germersheim       144\n",
       "Kreis Heilbronn         772\n",
       "Lampertheim            2688\n",
       "Landau                 2610\n",
       "Leimen                  167\n",
       "Pirmasens               707\n",
       "Rhein-Pfalz-Kreis       754\n",
       "Rhein-Neckar-Kreis      612\n",
       "Saarpfalz-Kreis          47\n",
       "Schifferstadt          1108\n",
       "Schwetzingen           1919\n",
       "Speyer                 2803\n",
       "Viernheim              1847\n",
       "Weinheim                162\n",
       "Wiesloch                274\n",
       "Wörth am Rhein          676"
      ]
     },
     "execution_count": 10,
     "metadata": {},
     "output_type": "execute_result"
    }
   ],
   "source": [
    "pd.crosstab(index=df['kommune'], columns=\"Aggregat\", values=df['verkehrsbezug'], aggfunc=[sum])"
   ]
  },
  {
   "cell_type": "code",
   "execution_count": 11,
   "metadata": {},
   "outputs": [
    {
     "name": "stderr",
     "output_type": "stream",
     "text": [
      "C:\\Users\\johan\\AppData\\Local\\Temp\\ipykernel_14556\\1696818246.py:1: FutureWarning: In future versions `DataFrame.to_latex` is expected to utilise the base implementation of `Styler.to_latex` for formatting and rendering. The arguments signature may therefore change. It is recommended instead to use `DataFrame.style.to_latex` which also contains additional functionality.\n",
      "  pd.crosstab(index=df['kommune'], columns=\"Aggregat\", values=df['verkehrsbezug'], aggfunc=[sum]).to_latex(\"../../latex/Tables/Kommunen_Dokumente_Verkehrsbezug.tex\",\n"
     ]
    }
   ],
   "source": [
    "pd.crosstab(index=df['kommune'], columns=\"Aggregat\", values=df['verkehrsbezug'], aggfunc=[sum]).to_latex(\"../../latex/Tables/Kommunen_Dokumente_Verkehrsbezug.tex\", \n",
    "                caption=\"Anzahl der Dokumente mit Verkehrsbezug pro Kommune\",\n",
    "                label=\"tab:kommunen_anzahl_dokumente_verkehr\",\n",
    "                )"
   ]
  },
  {
   "cell_type": "code",
   "execution_count": 8,
   "metadata": {},
   "outputs": [],
   "source": [
    "frankenthal = df[df['kommune'] == 'Frankenthal']"
   ]
  },
  {
   "cell_type": "code",
   "execution_count": null,
   "metadata": {},
   "outputs": [],
   "source": [
    "frankenthal.to_parquet('frankthal.parquet')"
   ]
  }
 ],
 "metadata": {
  "kernelspec": {
   "display_name": "py_env_masterthesis",
   "language": "python",
   "name": "python3"
  },
  "language_info": {
   "codemirror_mode": {
    "name": "ipython",
    "version": 3
   },
   "file_extension": ".py",
   "mimetype": "text/x-python",
   "name": "python",
   "nbconvert_exporter": "python",
   "pygments_lexer": "ipython3",
   "version": "3.10.11"
  },
  "orig_nbformat": 4
 },
 "nbformat": 4,
 "nbformat_minor": 2
}
