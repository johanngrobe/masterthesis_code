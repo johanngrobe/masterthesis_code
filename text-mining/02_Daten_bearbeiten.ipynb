{
 "cells": [
  {
   "attachments": {},
   "cell_type": "markdown",
   "metadata": {},
   "source": [
    "# Daten bearbeiten"
   ]
  },
  {
   "cell_type": "code",
   "execution_count": 2,
   "metadata": {},
   "outputs": [],
   "source": [
    "import pandas as pd\n",
    "import numpy as np"
   ]
  },
  {
   "cell_type": "code",
   "execution_count": 62,
   "metadata": {},
   "outputs": [],
   "source": [
    "df = pd.read_parquet(\"2023-03-25_gesamt_ocr_rhein_neckar.parquet\")\n",
    "df = df.rename(columns={'doc_typ': 'doc_typ_old'})"
   ]
  },
  {
   "attachments": {},
   "cell_type": "markdown",
   "metadata": {},
   "source": [
    "## Dokumenten-Typ berabeiten"
   ]
  },
  {
   "cell_type": "code",
   "execution_count": null,
   "metadata": {},
   "outputs": [],
   "source": [
    "doc_typ = df['doc_typ'].unique()\n",
    "df_doc_typ = pd.DataFrame(doc_typ)\n",
    "df_doc_typ.to_csv('doc_typ.csv')"
   ]
  },
  {
   "cell_type": "code",
   "execution_count": null,
   "metadata": {},
   "outputs": [],
   "source": [
    "doc_typ_2 = df[(pd.isnull(df['doc_typ_old']) == True) | (df['doc_typ_old'] == \"Sitzungsunterlagen und Beschlüsse\")]\n",
    "doc_typ_2.to_csv('doc_typ_2.csv')"
   ]
  },
  {
   "cell_type": "code",
   "execution_count": 64,
   "metadata": {},
   "outputs": [],
   "source": [
    "doc_typ_reclass = pd.read_excel(\"doc_typ_reclass.xlsx\")\n",
    "doc_typ_2_reclass = pd.read_excel(\"doc_typ_2_reclass.xlsx\")"
   ]
  },
  {
   "cell_type": "code",
   "execution_count": 65,
   "metadata": {},
   "outputs": [],
   "source": [
    "df = df.merge(doc_typ_reclass, on='doc_typ_old', how=\"left\")\n",
    "df = df.merge(doc_typ_2_reclass, left_index=True, right_on='index', how='left')\n",
    "df['doc_typ'] = df['doc_typ_x'].combine_first(df['doc_typ_y'])\n",
    "df.drop(['doc_typ_old','doc_typ_x','doc_typ_y', 'doc_name_y' ,'id', 'index'], axis=1, inplace=True)"
   ]
  },
  {
   "cell_type": "code",
   "execution_count": 72,
   "metadata": {},
   "outputs": [],
   "source": [
    "df['doc_typ'] = df['doc_typ'].astype('category')\n",
    "df.to_parquet(\"2023-04-03_gesamt_rhein_neckar.parquet\")"
   ]
  },
  {
   "cell_type": "code",
   "execution_count": 79,
   "metadata": {},
   "outputs": [
    {
     "data": {
      "text/plain": [
       "Vorlage             26814\n",
       "Anhang Vorlage      26152\n",
       "Beschluss            4738\n",
       "Niederschrift        4696\n",
       "Anhang Sitzung       1644\n",
       "Bekanntmachung       1599\n",
       "Anfrage              1117\n",
       "Antrag                888\n",
       "Anhang Beschluss      777\n",
       "Name: doc_typ, dtype: int64"
      ]
     },
     "execution_count": 79,
     "metadata": {},
     "output_type": "execute_result"
    }
   ],
   "source": [
    "df['doc_typ'].value_counts()"
   ]
  },
  {
   "cell_type": "markdown",
   "metadata": {},
   "source": [
    "## Mobilitätsbezug (ja/nein)"
   ]
  },
  {
   "cell_type": "code",
   "execution_count": 76,
   "metadata": {},
   "outputs": [],
   "source": [
    "bag_of_words = [\"verkehr\", \"mobilität\", \n",
    "                \"miv\",\"automobil\", \"pkw\", \"personenkraftw\", \"kfz\", \"kraftfahrzeug\", \"lkw\", \"motorrad\",\n",
    "                \"stvo\", \"höchstgeschwindigkeit\",\"führerschein\",\n",
    "                \"modal split\", \"umweltverbund\",\n",
    "                \"tankstelle\", \"ladesäule\",\n",
    "                \"ampel\", \"lsa\", \"lichtsignalanlage\",\n",
    "                # \"stau\", \"cargo\", \"logistik\",\n",
    "                \"fahrrad\", \"radverkehr\", \"schutzstreifen\", \"radfahr\", \"abstellanlage\", \"lastenrad\",\n",
    "                \"zu fuß\", \"fußgäng\", \"gehweg\", \"zufußgehen\",\n",
    "                \"öpnv\", \"bus\", \"bahn\", \"tram\", \"haltestelle\",\n",
    "                \"car\", \"bike\" ,\"roller\", \"scooter\", \"sharing\",\n",
    "                \"parken\", \"parkpl\", \"stellpl\", \"parkhaus\", \"garage\",\n",
    "                ]"
   ]
  },
  {
   "cell_type": "code",
   "execution_count": 77,
   "metadata": {},
   "outputs": [],
   "source": [
    "df['verkehrsbezug'] = df['content'].str.contains('|'.join(bag_of_words), case=False)"
   ]
  },
  {
   "cell_type": "code",
   "execution_count": 78,
   "metadata": {},
   "outputs": [
    {
     "data": {
      "text/plain": [
       "False    41486\n",
       "True     28311\n",
       "Name: verkehrsbezug, dtype: int64"
      ]
     },
     "execution_count": 78,
     "metadata": {},
     "output_type": "execute_result"
    }
   ],
   "source": [
    "df['verkehrsbezug'].value_counts()"
   ]
  },
  {
   "cell_type": "code",
   "execution_count": 80,
   "metadata": {},
   "outputs": [],
   "source": [
    "df.to_parquet(\"2023-04-03_gesamt_rhein_neckar.parquet\")"
   ]
  },
  {
   "attachments": {},
   "cell_type": "markdown",
   "metadata": {},
   "source": [
    "## Beschlussstatus"
   ]
  },
  {
   "cell_type": "code",
   "execution_count": 86,
   "metadata": {},
   "outputs": [],
   "source": [
    "import re"
   ]
  },
  {
   "cell_type": "code",
   "execution_count": null,
   "metadata": {},
   "outputs": [
    {
     "data": {
      "text/plain": [
       "False    52830\n",
       "True     17253\n",
       "Name: status, dtype: int64"
      ]
     },
     "execution_count": 38,
     "metadata": {},
     "output_type": "execute_result"
    }
   ],
   "source": [
    "pd.notnull(df['status']).value_counts()"
   ]
  },
  {
   "cell_type": "code",
   "execution_count": 83,
   "metadata": {},
   "outputs": [],
   "source": [
    "status = df['status'].unique()\n",
    "df_status = pd.DataFrame(status)\n",
    "df_status.to_excel('status.xlsx')"
   ]
  },
  {
   "cell_type": "code",
   "execution_count": 96,
   "metadata": {},
   "outputs": [],
   "source": [
    "status_list = [r\"Beschluss:\\s*(\\d+\\s[-(),\\w]+\\s*)*\",\n",
    "               \"abgelehnt\",\n",
    "               \"abgesetzt\",\n",
    "               r\"mehrheitlich(?:[^\\wäöüÄÖÜß'-]+[\\wäöüÄÖÜß'-]+){0,5}\"\n",
    "               \"Absetzung von der Tagesordnung\",\n",
    "               \"einstimmig(?:[^\\wäöüÄÖÜß'-]+[\\wäöüÄÖÜß'-]+){0,5}\",\n",
    "               r\"mehrheitlich(?:[^\\wäöüÄÖÜß'-]+[\\wäöüÄÖÜß'-]+){0,5}\",\n",
    "               r\"keine Einigung(?:[^\\wäöüÄÖÜß'-]+[\\wäöüÄÖÜß'-]+){0,5}\",\n",
    "               \"ohne Abstimmung\",\n",
    "               \"nicht in der Tagesordnung aufgenommen\",\n",
    "               \"teilweise\",\n",
    "               \"Vertagung\",\n",
    "               \"vertagt\"\n",
    "               \"zur Kenntnis genommen\",\n",
    "               r\"zurückgestellt(?:[^\\wäöüÄÖÜß'-]+[\\wäöüÄÖÜß'-]+){0,5}\",\n",
    "               \"zurückgewiesen\",\n",
    "               r\"Zurückweisung(?:[^\\wäöüÄÖÜß'-]+[\\wäöüÄÖÜß'-]+){0,5}\",\n",
    "               \"offen\"\n",
    "\n",
    "               ]\n",
    "\n",
    "status_re = r\"(Beschluss(?:[^\\wäöüÄÖÜß'-]+[\\wäöüÄÖÜß'-]+){0,50})\""
   ]
  },
  {
   "cell_type": "code",
   "execution_count": 112,
   "metadata": {},
   "outputs": [],
   "source": [
    "no_status = df[pd.isnull(df['status']) == True]"
   ]
  },
  {
   "cell_type": "code",
   "execution_count": 120,
   "metadata": {},
   "outputs": [],
   "source": [
    "df = df.reset_index()"
   ]
  },
  {
   "cell_type": "code",
   "execution_count": 122,
   "metadata": {},
   "outputs": [],
   "source": [
    "no_status_filtered = no_status[no_status['doc_typ'] == ('Beschluss' or'Vorlage' or'Antrag'or'Anfrage') ]"
   ]
  },
  {
   "cell_type": "code",
   "execution_count": 129,
   "metadata": {},
   "outputs": [],
   "source": [
    "df.drop('status_extract', axis=1, inplace=True)"
   ]
  },
  {
   "cell_type": "code",
   "execution_count": 132,
   "metadata": {},
   "outputs": [],
   "source": [
    "status_extract_all = no_status_filtered['content'].str.extractall(status_re, flags=re.IGNORECASE)"
   ]
  },
  {
   "cell_type": "code",
   "execution_count": 126,
   "metadata": {},
   "outputs": [],
   "source": [
    "df_status_extract = df[pd.notnull(df['status_extract']) == True]"
   ]
  },
  {
   "cell_type": "code",
   "execution_count": 127,
   "metadata": {},
   "outputs": [],
   "source": [
    "status_extract_all.to_csv(\"status_extract_all.csv\")"
   ]
  },
  {
   "cell_type": "code",
   "execution_count": 128,
   "metadata": {},
   "outputs": [
    {
     "data": {
      "text/plain": [
       "'S T A D T  L A M P E R T H E I M  \\nLampertheim, den 24.09.2007 \\n \\n \\n \\nB E S C H L U S S  N r .   \\n \\nder Sitzung der Stadtverordnetenversammlung der Stadt Lampertheim \\n \\nvom Freitag, den 14.09.2007 um 19:03 Uhr \\n \\nim Sitzungssaal des Stadthauses, Römerstraße 102, 68623 Lampertheim \\n \\nEs waren anwesend: \\nStass, Brigitte - Stadtverordnetenvorsteherin  \\nBauer, Lothar - Stadtverordneter \\n \\nBerg, Karl-Heinz - Stadtverordneter  \\nBittner, Thomas - Stadtverordneter  \\nBlepp, Dieter - Stadtverordneter \\n \\nBrechenser, Dieter - Stadtverordneter \\n \\nBuschmann, Irma - Stadtverordnete  \\nEbert, Rita - Stadtverordnete  \\nGalvagno, Nunzio - Stadtverordneter \\n \\nGötz, Fritz - Stadtverordneter \\n \\nHahn, Hans - Stadtverordneter \\n \\nHartmann, Sabine - Stadtverordnete  \\nHofmann, Werner - Stadtverordneter \\n \\nHorstfeld, Karl-Heinz - Stellvertretender Stadtverordnetenvorsteher \\n \\nHummel, Helmut - Stadtverordneter  \\nJacobi, Michael - Stadtverordneter  \\nKirsch, Walter - Stadtverordneter \\n \\nKlingler, Jens - Stadtverordneter \\n \\nKorb, Franz - Stadtverordneter \\n \\nKronauer, Bärbel - Stadtverordnete  \\nKühn, Wolfgang - Stadtverordneter  \\nKunz, Carmen - Stadtverordnete \\n \\nLenhardt, Robert - Stadtverordneter  \\nLidke, Dietmar - Stadtverordneter \\n \\nMeyer, Dieter - Stellvertretender Stadtverordnetenvorsteher \\n \\nNeuhaus, Peter - Stadtverordneter  \\nOhl, Gottlieb - Stellvertretender Stadtverordnetenvorsteher \\n \\nOhl, Regine - Stadtverordnete \\n \\nOtten, Markus - Stadtverordneter \\n \\nPlenert, Maximilian - Stadtverordneter \\n \\nReipa, Manfred - Stadtverordneter  \\nReppert, Detlev - Stadtverordneter  \\nRiesner, Raphael - Stadtverordneter  \\nRisse, Eva-Maria - Stadtverordnete  \\nSchmitt, Walter - Stellvertretender Stadtverordnetenvorsteher \\n \\nSimon, Gregor - Stadtverordneter \\n \\nStöwesand, Edwin - Stadtverordneter \\n \\nWeihmann, Martin - Stellvertretender Stadtverordnetenvorsteher  \\nWinter, Lydia - Stadtverordnete \\n \\nBauer, Gerd Werner - Stadtrat \\n \\nBreckner, Albert - Stadtrat \\n \\nHinz, Peter - Stadtrat  \\nBeschluss der Sitzung der Stadtverordnetenversammlung der Stadt Lampertheim vom 14.09.2007 \\nSeite 2 \\nHofmann, Margareta - Stadträtin \\n \\nKrotz, Christiane - Stadträtin  \\nMarconi, Pietro - Stadtrat \\n \\nSchlatter, Hans - Stadtrat \\n \\nStumpf, Joachim - Stadtrat 19:03 - 20:30 Uhr \\n \\nWittgruber, Otmar - Stadtrat  \\n \\n \\n1.5.2 \\nMagistratsbericht \\nfür die Zeit vom 09.07. bis 03.09.2007 \\n2007/171 \\n \\nMitteilung: \\n \\n \\nBeratungsergebnis:  \\n \\n \\n'"
      ]
     },
     "execution_count": 128,
     "metadata": {},
     "output_type": "execute_result"
    }
   ],
   "source": [
    "df['content'][23106]"
   ]
  },
  {
   "attachments": {},
   "cell_type": "markdown",
   "metadata": {},
   "source": [
    "## Allgemeine Informationen über Datensatz"
   ]
  },
  {
   "cell_type": "code",
   "execution_count": 23,
   "metadata": {},
   "outputs": [],
   "source": [
    "df = pd.read_parquet(\"2023-04-03_gesamt_rhein_neckar.parquet\")"
   ]
  },
  {
   "cell_type": "code",
   "execution_count": 33,
   "metadata": {},
   "outputs": [],
   "source": [
    "df['kommune'] = df[\"kommune\"].cat.rename_categories({\"Kreis_Heilbronn\": \"Kreis Heilbronn\",\n",
    "                          \"Rhein_Neckar_Kreis\": \"Rhein-Neckar-Kreis\",\n",
    "                          \"Bad Duerkheim\": \"Bad Dürkheim\",\n",
    "                          })"
   ]
  },
  {
   "cell_type": "code",
   "execution_count": 26,
   "metadata": {},
   "outputs": [],
   "source": [
    "df = df[df[\"date\"] < \"2022-12-31\"]"
   ]
  },
  {
   "cell_type": "code",
   "execution_count": 29,
   "metadata": {},
   "outputs": [],
   "source": [
    "df['date_print'] = df['date'].dt.strftime('%d.%m.%Y')"
   ]
  },
  {
   "cell_type": "code",
   "execution_count": 34,
   "metadata": {},
   "outputs": [
    {
     "name": "stderr",
     "output_type": "stream",
     "text": [
      "C:\\Users\\johan\\AppData\\Local\\Temp\\ipykernel_34136\\1255178200.py:1: FutureWarning: In future versions `DataFrame.to_latex` is expected to utilise the base implementation of `Styler.to_latex` for formatting and rendering. The arguments signature may therefore change. It is recommended instead to use `DataFrame.style.to_latex` which also contains additional functionality.\n",
      "  df.groupby(['kommune']).agg({'date_print': [min, max]}).to_latex(\"../../latex/Tables/Kommunen_Datum_Min_Max.tex\",\n"
     ]
    }
   ],
   "source": [
    "df.groupby(['kommune']).agg({'date_print': [min, max]}).to_latex(\"../../latex/Tables/Kommunen_Datum_Min_Max.tex\", \n",
    "                caption=\"Zeitspanne der erhobenen Daten\",\n",
    "                label=\"tab:zeitspanne_daten\",\n",
    "                column_format=\"lcc\"\n",
    "                )"
   ]
  },
  {
   "cell_type": "code",
   "execution_count": null,
   "metadata": {},
   "outputs": [],
   "source": []
  }
 ],
 "metadata": {
  "kernelspec": {
   "display_name": "py_env_masterthesis",
   "language": "python",
   "name": "python3"
  },
  "language_info": {
   "codemirror_mode": {
    "name": "ipython",
    "version": 3
   },
   "file_extension": ".py",
   "mimetype": "text/x-python",
   "name": "python",
   "nbconvert_exporter": "python",
   "pygments_lexer": "ipython3",
   "version": "3.10.11"
  },
  "orig_nbformat": 4
 },
 "nbformat": 4,
 "nbformat_minor": 2
}
