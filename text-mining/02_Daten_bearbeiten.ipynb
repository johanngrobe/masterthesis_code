{
 "cells": [
  {
   "attachments": {},
   "cell_type": "markdown",
   "metadata": {},
   "source": [
    "# Daten bearbeiten"
   ]
  },
  {
   "cell_type": "code",
   "execution_count": 17,
   "metadata": {},
   "outputs": [],
   "source": [
    "import pandas as pd\n",
    "import numpy as np\n",
    "import datetime as dt"
   ]
  },
  {
   "cell_type": "code",
   "execution_count": 62,
   "metadata": {},
   "outputs": [],
   "source": [
    "df = pd.read_parquet(\"2023-03-25_gesamt_ocr_rhein_neckar.parquet\")\n",
    "df = df.rename(columns={'doc_typ': 'doc_typ_old'})"
   ]
  },
  {
   "attachments": {},
   "cell_type": "markdown",
   "metadata": {},
   "source": [
    "## Dokumenten-Typ berabeiten"
   ]
  },
  {
   "cell_type": "code",
   "execution_count": null,
   "metadata": {},
   "outputs": [],
   "source": [
    "doc_typ = df['doc_typ'].unique()\n",
    "df_doc_typ = pd.DataFrame(doc_typ)\n",
    "df_doc_typ.to_csv('doc_typ.csv')"
   ]
  },
  {
   "cell_type": "code",
   "execution_count": null,
   "metadata": {},
   "outputs": [],
   "source": [
    "doc_typ_2 = df[(pd.isnull(df['doc_typ_old']) == True) | (df['doc_typ_old'] == \"Sitzungsunterlagen und Beschlüsse\")]\n",
    "doc_typ_2.to_csv('doc_typ_2.csv')"
   ]
  },
  {
   "cell_type": "code",
   "execution_count": 64,
   "metadata": {},
   "outputs": [],
   "source": [
    "doc_typ_reclass = pd.read_excel(\"doc_typ_reclass.xlsx\")\n",
    "doc_typ_2_reclass = pd.read_excel(\"doc_typ_2_reclass.xlsx\")"
   ]
  },
  {
   "cell_type": "code",
   "execution_count": 65,
   "metadata": {},
   "outputs": [],
   "source": [
    "df = df.merge(doc_typ_reclass, on='doc_typ_old', how=\"left\")\n",
    "df = df.merge(doc_typ_2_reclass, left_index=True, right_on='index', how='left')\n",
    "df['doc_typ'] = df['doc_typ_x'].combine_first(df['doc_typ_y'])\n",
    "df.drop(['doc_typ_old','doc_typ_x','doc_typ_y', 'doc_name_y' ,'id', 'index'], axis=1, inplace=True)"
   ]
  },
  {
   "cell_type": "code",
   "execution_count": 72,
   "metadata": {},
   "outputs": [],
   "source": [
    "df['doc_typ'] = df['doc_typ'].astype('category')\n",
    "df.to_parquet(\"2023-04-03_gesamt_rhein_neckar.parquet\")"
   ]
  },
  {
   "cell_type": "code",
   "execution_count": 12,
   "metadata": {},
   "outputs": [
    {
     "data": {
      "text/plain": [
       "Vorlage             26793\n",
       "Anhang Vorlage      25528\n",
       "Beschluss            4738\n",
       "Niederschrift        4690\n",
       "Anhang Sitzung       1644\n",
       "Bekanntmachung       1598\n",
       "Anfrage              1117\n",
       "Antrag                881\n",
       "Anhang Beschluss      777\n",
       "Name: doc_typ, dtype: int64"
      ]
     },
     "execution_count": 12,
     "metadata": {},
     "output_type": "execute_result"
    }
   ],
   "source": [
    "df['doc_typ'].value_counts()"
   ]
  },
  {
   "attachments": {},
   "cell_type": "markdown",
   "metadata": {},
   "source": [
    "## Mobilitätsbezug (ja/nein)"
   ]
  },
  {
   "cell_type": "code",
   "execution_count": 76,
   "metadata": {},
   "outputs": [],
   "source": [
    "bag_of_words = [\"verkehr\", \"mobilität\", \n",
    "                \"miv\",\"automobil\", \"pkw\", \"personenkraftw\", \"kfz\", \"kraftfahrzeug\", \"lkw\", \"motorrad\",\n",
    "                \"stvo\", \"höchstgeschwindigkeit\",\"führerschein\",\n",
    "                \"modal split\", \"umweltverbund\",\n",
    "                \"tankstelle\", \"ladesäule\",\n",
    "                \"ampel\", \"lsa\", \"lichtsignalanlage\",\n",
    "                # \"stau\", \"cargo\", \"logistik\",\n",
    "                \"fahrrad\", \"radverkehr\", \"schutzstreifen\", \"radfahr\", \"abstellanlage\", \"lastenrad\",\n",
    "                \"zu fuß\", \"fußgäng\", \"gehweg\", \"zufußgehen\",\n",
    "                \"öpnv\", \"bus\", \"bahn\", \"tram\", \"haltestelle\",\n",
    "                \"car\", \"bike\" ,\"roller\", \"scooter\", \"sharing\",\n",
    "                \"parken\", \"parkpl\", \"stellpl\", \"parkhaus\", \"garage\",\n",
    "                ]"
   ]
  },
  {
   "cell_type": "code",
   "execution_count": 77,
   "metadata": {},
   "outputs": [],
   "source": [
    "df['verkehrsbezug'] = df['content'].str.contains('|'.join(bag_of_words), case=False)"
   ]
  },
  {
   "cell_type": "code",
   "execution_count": 16,
   "metadata": {},
   "outputs": [
    {
     "data": {
      "text/plain": [
       "False    41090\n",
       "True     28041\n",
       "Name: verkehrsbezug, dtype: Int64"
      ]
     },
     "execution_count": 16,
     "metadata": {},
     "output_type": "execute_result"
    }
   ],
   "source": [
    "df['verkehrsbezug'].value_counts()"
   ]
  },
  {
   "cell_type": "code",
   "execution_count": 80,
   "metadata": {},
   "outputs": [],
   "source": [
    "df.to_parquet(\"2023-04-03_gesamt_rhein_neckar.parquet\")"
   ]
  },
  {
   "attachments": {},
   "cell_type": "markdown",
   "metadata": {},
   "source": [
    "## Beschlussstatus"
   ]
  },
  {
   "cell_type": "code",
   "execution_count": 86,
   "metadata": {},
   "outputs": [],
   "source": [
    "import re"
   ]
  },
  {
   "cell_type": "code",
   "execution_count": 14,
   "metadata": {},
   "outputs": [
    {
     "data": {
      "text/plain": [
       "False    52812\n",
       "True     16605\n",
       "Name: status, dtype: int64"
      ]
     },
     "execution_count": 14,
     "metadata": {},
     "output_type": "execute_result"
    }
   ],
   "source": [
    "pd.notnull(df['status']).value_counts()"
   ]
  },
  {
   "cell_type": "code",
   "execution_count": 83,
   "metadata": {},
   "outputs": [],
   "source": [
    "status = df['status'].unique()\n",
    "df_status = pd.DataFrame(status)\n",
    "df_status.to_excel('status.xlsx')"
   ]
  },
  {
   "cell_type": "code",
   "execution_count": 96,
   "metadata": {},
   "outputs": [],
   "source": [
    "status_list = [r\"Beschluss:\\s*(\\d+\\s[-(),\\w]+\\s*)*\",\n",
    "               \"abgelehnt\",\n",
    "               \"abgesetzt\",\n",
    "               r\"mehrheitlich(?:[^\\wäöüÄÖÜß'-]+[\\wäöüÄÖÜß'-]+){0,5}\"\n",
    "               \"Absetzung von der Tagesordnung\",\n",
    "               \"einstimmig(?:[^\\wäöüÄÖÜß'-]+[\\wäöüÄÖÜß'-]+){0,5}\",\n",
    "               r\"mehrheitlich(?:[^\\wäöüÄÖÜß'-]+[\\wäöüÄÖÜß'-]+){0,5}\",\n",
    "               r\"keine Einigung(?:[^\\wäöüÄÖÜß'-]+[\\wäöüÄÖÜß'-]+){0,5}\",\n",
    "               \"ohne Abstimmung\",\n",
    "               \"nicht in der Tagesordnung aufgenommen\",\n",
    "               \"teilweise\",\n",
    "               \"Vertagung\",\n",
    "               \"vertagt\"\n",
    "               \"zur Kenntnis genommen\",\n",
    "               r\"zurückgestellt(?:[^\\wäöüÄÖÜß'-]+[\\wäöüÄÖÜß'-]+){0,5}\",\n",
    "               \"zurückgewiesen\",\n",
    "               r\"Zurückweisung(?:[^\\wäöüÄÖÜß'-]+[\\wäöüÄÖÜß'-]+){0,5}\",\n",
    "               \"offen\"\n",
    "\n",
    "               ]\n",
    "\n",
    "status_re = r\"(Beschluss(?:[^\\wäöüÄÖÜß'-]+[\\wäöüÄÖÜß'-]+){0,50})\""
   ]
  },
  {
   "cell_type": "code",
   "execution_count": 112,
   "metadata": {},
   "outputs": [],
   "source": [
    "no_status = df[pd.isnull(df['status']) == True]"
   ]
  },
  {
   "cell_type": "code",
   "execution_count": 120,
   "metadata": {},
   "outputs": [],
   "source": [
    "df = df.reset_index()"
   ]
  },
  {
   "cell_type": "code",
   "execution_count": 122,
   "metadata": {},
   "outputs": [],
   "source": [
    "no_status_filtered = no_status[no_status['doc_typ'] == ('Beschluss' or'Vorlage' or'Antrag'or'Anfrage') ]"
   ]
  },
  {
   "cell_type": "code",
   "execution_count": 129,
   "metadata": {},
   "outputs": [],
   "source": [
    "df.drop('status_extract', axis=1, inplace=True)"
   ]
  },
  {
   "cell_type": "code",
   "execution_count": 132,
   "metadata": {},
   "outputs": [],
   "source": [
    "status_extract_all = no_status_filtered['content'].str.extractall(status_re, flags=re.IGNORECASE)"
   ]
  },
  {
   "cell_type": "code",
   "execution_count": 126,
   "metadata": {},
   "outputs": [],
   "source": [
    "df_status_extract = df[pd.notnull(df['status_extract']) == True]"
   ]
  },
  {
   "cell_type": "code",
   "execution_count": 127,
   "metadata": {},
   "outputs": [],
   "source": [
    "status_extract_all.to_csv(\"status_extract_all.csv\")"
   ]
  },
  {
   "cell_type": "code",
   "execution_count": 128,
   "metadata": {},
   "outputs": [
    {
     "data": {
      "text/plain": [
       "'S T A D T  L A M P E R T H E I M  \\nLampertheim, den 24.09.2007 \\n \\n \\n \\nB E S C H L U S S  N r .   \\n \\nder Sitzung der Stadtverordnetenversammlung der Stadt Lampertheim \\n \\nvom Freitag, den 14.09.2007 um 19:03 Uhr \\n \\nim Sitzungssaal des Stadthauses, Römerstraße 102, 68623 Lampertheim \\n \\nEs waren anwesend: \\nStass, Brigitte - Stadtverordnetenvorsteherin  \\nBauer, Lothar - Stadtverordneter \\n \\nBerg, Karl-Heinz - Stadtverordneter  \\nBittner, Thomas - Stadtverordneter  \\nBlepp, Dieter - Stadtverordneter \\n \\nBrechenser, Dieter - Stadtverordneter \\n \\nBuschmann, Irma - Stadtverordnete  \\nEbert, Rita - Stadtverordnete  \\nGalvagno, Nunzio - Stadtverordneter \\n \\nGötz, Fritz - Stadtverordneter \\n \\nHahn, Hans - Stadtverordneter \\n \\nHartmann, Sabine - Stadtverordnete  \\nHofmann, Werner - Stadtverordneter \\n \\nHorstfeld, Karl-Heinz - Stellvertretender Stadtverordnetenvorsteher \\n \\nHummel, Helmut - Stadtverordneter  \\nJacobi, Michael - Stadtverordneter  \\nKirsch, Walter - Stadtverordneter \\n \\nKlingler, Jens - Stadtverordneter \\n \\nKorb, Franz - Stadtverordneter \\n \\nKronauer, Bärbel - Stadtverordnete  \\nKühn, Wolfgang - Stadtverordneter  \\nKunz, Carmen - Stadtverordnete \\n \\nLenhardt, Robert - Stadtverordneter  \\nLidke, Dietmar - Stadtverordneter \\n \\nMeyer, Dieter - Stellvertretender Stadtverordnetenvorsteher \\n \\nNeuhaus, Peter - Stadtverordneter  \\nOhl, Gottlieb - Stellvertretender Stadtverordnetenvorsteher \\n \\nOhl, Regine - Stadtverordnete \\n \\nOtten, Markus - Stadtverordneter \\n \\nPlenert, Maximilian - Stadtverordneter \\n \\nReipa, Manfred - Stadtverordneter  \\nReppert, Detlev - Stadtverordneter  \\nRiesner, Raphael - Stadtverordneter  \\nRisse, Eva-Maria - Stadtverordnete  \\nSchmitt, Walter - Stellvertretender Stadtverordnetenvorsteher \\n \\nSimon, Gregor - Stadtverordneter \\n \\nStöwesand, Edwin - Stadtverordneter \\n \\nWeihmann, Martin - Stellvertretender Stadtverordnetenvorsteher  \\nWinter, Lydia - Stadtverordnete \\n \\nBauer, Gerd Werner - Stadtrat \\n \\nBreckner, Albert - Stadtrat \\n \\nHinz, Peter - Stadtrat  \\nBeschluss der Sitzung der Stadtverordnetenversammlung der Stadt Lampertheim vom 14.09.2007 \\nSeite 2 \\nHofmann, Margareta - Stadträtin \\n \\nKrotz, Christiane - Stadträtin  \\nMarconi, Pietro - Stadtrat \\n \\nSchlatter, Hans - Stadtrat \\n \\nStumpf, Joachim - Stadtrat 19:03 - 20:30 Uhr \\n \\nWittgruber, Otmar - Stadtrat  \\n \\n \\n1.5.2 \\nMagistratsbericht \\nfür die Zeit vom 09.07. bis 03.09.2007 \\n2007/171 \\n \\nMitteilung: \\n \\n \\nBeratungsergebnis:  \\n \\n \\n'"
      ]
     },
     "execution_count": 128,
     "metadata": {},
     "output_type": "execute_result"
    }
   ],
   "source": [
    "df['content'][23106]"
   ]
  },
  {
   "attachments": {},
   "cell_type": "markdown",
   "metadata": {},
   "source": [
    "## Allgemeine Informationen über Datensatz"
   ]
  },
  {
   "cell_type": "code",
   "execution_count": 2,
   "metadata": {},
   "outputs": [],
   "source": [
    "df = pd.read_parquet(\"2023-04-03_gesamt_rhein_neckar.parquet\")"
   ]
  },
  {
   "cell_type": "code",
   "execution_count": 3,
   "metadata": {},
   "outputs": [],
   "source": [
    "df['kommune'] = df[\"kommune\"].cat.rename_categories({\"Kreis_Heilbronn\": \"Kreis Heilbronn\",\n",
    "                          \"Rhein_Neckar_Kreis\": \"Rhein-Neckar-Kreis\",\n",
    "                          \"Bad Duerkheim\": \"Bad Dürkheim\",\n",
    "                          })"
   ]
  },
  {
   "cell_type": "code",
   "execution_count": 4,
   "metadata": {},
   "outputs": [],
   "source": [
    "df = df[df[\"date\"] < \"2022-12-31\"]"
   ]
  },
  {
   "cell_type": "code",
   "execution_count": 5,
   "metadata": {},
   "outputs": [],
   "source": [
    "df['date_print'] = df['date'].dt.strftime('%d.%m.%Y')"
   ]
  },
  {
   "cell_type": "code",
   "execution_count": 26,
   "metadata": {},
   "outputs": [],
   "source": [
    "df_date = pd.crosstab(index=df['kommune'], columns='Aggregat', values=df['date'], aggfunc=[min,max])"
   ]
  },
  {
   "cell_type": "code",
   "execution_count": 28,
   "metadata": {},
   "outputs": [
    {
     "ename": "AttributeError",
     "evalue": "'DataFrame' object has no attribute 'dt'",
     "output_type": "error",
     "traceback": [
      "\u001b[1;31m---------------------------------------------------------------------------\u001b[0m",
      "\u001b[1;31mAttributeError\u001b[0m                            Traceback (most recent call last)",
      "Cell \u001b[1;32mIn[28], line 1\u001b[0m\n\u001b[1;32m----> 1\u001b[0m df_date[\u001b[39m'\u001b[39m\u001b[39mduration\u001b[39m\u001b[39m'\u001b[39m] \u001b[39m=\u001b[39m (df_date[\u001b[39m'\u001b[39;49m\u001b[39mmax\u001b[39;49m\u001b[39m'\u001b[39;49m] \u001b[39m-\u001b[39;49m df_date[\u001b[39m'\u001b[39;49m\u001b[39mmin\u001b[39;49m\u001b[39m'\u001b[39;49m])\u001b[39m.\u001b[39;49mdt\u001b[39m.\u001b[39mdays\n",
      "File \u001b[1;32mc:\\Users\\johan\\OneDrive - Hochschule RheinMain\\Studium\\Masterthesis\\py_env_masterthesis\\lib\\site-packages\\pandas\\core\\generic.py:5902\u001b[0m, in \u001b[0;36mNDFrame.__getattr__\u001b[1;34m(self, name)\u001b[0m\n\u001b[0;32m   5895\u001b[0m \u001b[39mif\u001b[39;00m (\n\u001b[0;32m   5896\u001b[0m     name \u001b[39mnot\u001b[39;00m \u001b[39min\u001b[39;00m \u001b[39mself\u001b[39m\u001b[39m.\u001b[39m_internal_names_set\n\u001b[0;32m   5897\u001b[0m     \u001b[39mand\u001b[39;00m name \u001b[39mnot\u001b[39;00m \u001b[39min\u001b[39;00m \u001b[39mself\u001b[39m\u001b[39m.\u001b[39m_metadata\n\u001b[0;32m   5898\u001b[0m     \u001b[39mand\u001b[39;00m name \u001b[39mnot\u001b[39;00m \u001b[39min\u001b[39;00m \u001b[39mself\u001b[39m\u001b[39m.\u001b[39m_accessors\n\u001b[0;32m   5899\u001b[0m     \u001b[39mand\u001b[39;00m \u001b[39mself\u001b[39m\u001b[39m.\u001b[39m_info_axis\u001b[39m.\u001b[39m_can_hold_identifiers_and_holds_name(name)\n\u001b[0;32m   5900\u001b[0m ):\n\u001b[0;32m   5901\u001b[0m     \u001b[39mreturn\u001b[39;00m \u001b[39mself\u001b[39m[name]\n\u001b[1;32m-> 5902\u001b[0m \u001b[39mreturn\u001b[39;00m \u001b[39mobject\u001b[39;49m\u001b[39m.\u001b[39;49m\u001b[39m__getattribute__\u001b[39;49m(\u001b[39mself\u001b[39;49m, name)\n",
      "\u001b[1;31mAttributeError\u001b[0m: 'DataFrame' object has no attribute 'dt'"
     ]
    }
   ],
   "source": [
    "df_date['duration'] = (df_date['max'] - df_date['min']).datetime.days"
   ]
  },
  {
   "cell_type": "code",
   "execution_count": 18,
   "metadata": {},
   "outputs": [
    {
     "ename": "TypeError",
     "evalue": "unsupported operand type(s) for -: 'str' and 'str'",
     "output_type": "error",
     "traceback": [
      "\u001b[1;31m---------------------------------------------------------------------------\u001b[0m",
      "\u001b[1;31mTypeError\u001b[0m                                 Traceback (most recent call last)",
      "File \u001b[1;32mc:\\Users\\johan\\OneDrive - Hochschule RheinMain\\Studium\\Masterthesis\\py_env_masterthesis\\lib\\site-packages\\pandas\\core\\ops\\array_ops.py:165\u001b[0m, in \u001b[0;36m_na_arithmetic_op\u001b[1;34m(left, right, op, is_cmp)\u001b[0m\n\u001b[0;32m    164\u001b[0m \u001b[39mtry\u001b[39;00m:\n\u001b[1;32m--> 165\u001b[0m     result \u001b[39m=\u001b[39m func(left, right)\n\u001b[0;32m    166\u001b[0m \u001b[39mexcept\u001b[39;00m \u001b[39mTypeError\u001b[39;00m:\n",
      "File \u001b[1;32mc:\\Users\\johan\\OneDrive - Hochschule RheinMain\\Studium\\Masterthesis\\py_env_masterthesis\\lib\\site-packages\\pandas\\core\\computation\\expressions.py:241\u001b[0m, in \u001b[0;36mevaluate\u001b[1;34m(op, a, b, use_numexpr)\u001b[0m\n\u001b[0;32m    239\u001b[0m     \u001b[39mif\u001b[39;00m use_numexpr:\n\u001b[0;32m    240\u001b[0m         \u001b[39m# error: \"None\" not callable\u001b[39;00m\n\u001b[1;32m--> 241\u001b[0m         \u001b[39mreturn\u001b[39;00m _evaluate(op, op_str, a, b)  \u001b[39m# type: ignore[misc]\u001b[39;00m\n\u001b[0;32m    242\u001b[0m \u001b[39mreturn\u001b[39;00m _evaluate_standard(op, op_str, a, b)\n",
      "File \u001b[1;32mc:\\Users\\johan\\OneDrive - Hochschule RheinMain\\Studium\\Masterthesis\\py_env_masterthesis\\lib\\site-packages\\pandas\\core\\computation\\expressions.py:70\u001b[0m, in \u001b[0;36m_evaluate_standard\u001b[1;34m(op, op_str, a, b)\u001b[0m\n\u001b[0;32m     69\u001b[0m     _store_test_result(\u001b[39mFalse\u001b[39;00m)\n\u001b[1;32m---> 70\u001b[0m \u001b[39mreturn\u001b[39;00m op(a, b)\n",
      "\u001b[1;31mTypeError\u001b[0m: unsupported operand type(s) for -: 'str' and 'str'",
      "\nDuring handling of the above exception, another exception occurred:\n",
      "\u001b[1;31mTypeError\u001b[0m                                 Traceback (most recent call last)",
      "Cell \u001b[1;32mIn[18], line 1\u001b[0m\n\u001b[1;32m----> 1\u001b[0m df_date[\u001b[39m'\u001b[39m\u001b[39mduration\u001b[39m\u001b[39m'\u001b[39m] \u001b[39m=\u001b[39m (df_date[\u001b[39m'\u001b[39;49m\u001b[39mmax\u001b[39;49m\u001b[39m'\u001b[39;49m] \u001b[39m-\u001b[39;49m df_date[\u001b[39m'\u001b[39;49m\u001b[39mmin\u001b[39;49m\u001b[39m'\u001b[39;49m])\u001b[39m.\u001b[39mdt\u001b[39m.\u001b[39mdays\n",
      "File \u001b[1;32mc:\\Users\\johan\\OneDrive - Hochschule RheinMain\\Studium\\Masterthesis\\py_env_masterthesis\\lib\\site-packages\\pandas\\core\\ops\\common.py:72\u001b[0m, in \u001b[0;36m_unpack_zerodim_and_defer.<locals>.new_method\u001b[1;34m(self, other)\u001b[0m\n\u001b[0;32m     68\u001b[0m             \u001b[39mreturn\u001b[39;00m \u001b[39mNotImplemented\u001b[39m\n\u001b[0;32m     70\u001b[0m other \u001b[39m=\u001b[39m item_from_zerodim(other)\n\u001b[1;32m---> 72\u001b[0m \u001b[39mreturn\u001b[39;00m method(\u001b[39mself\u001b[39;49m, other)\n",
      "File \u001b[1;32mc:\\Users\\johan\\OneDrive - Hochschule RheinMain\\Studium\\Masterthesis\\py_env_masterthesis\\lib\\site-packages\\pandas\\core\\arraylike.py:110\u001b[0m, in \u001b[0;36mOpsMixin.__sub__\u001b[1;34m(self, other)\u001b[0m\n\u001b[0;32m    108\u001b[0m \u001b[39m@unpack_zerodim_and_defer\u001b[39m(\u001b[39m\"\u001b[39m\u001b[39m__sub__\u001b[39m\u001b[39m\"\u001b[39m)\n\u001b[0;32m    109\u001b[0m \u001b[39mdef\u001b[39;00m \u001b[39m__sub__\u001b[39m(\u001b[39mself\u001b[39m, other):\n\u001b[1;32m--> 110\u001b[0m     \u001b[39mreturn\u001b[39;00m \u001b[39mself\u001b[39;49m\u001b[39m.\u001b[39;49m_arith_method(other, operator\u001b[39m.\u001b[39;49msub)\n",
      "File \u001b[1;32mc:\\Users\\johan\\OneDrive - Hochschule RheinMain\\Studium\\Masterthesis\\py_env_masterthesis\\lib\\site-packages\\pandas\\core\\frame.py:7594\u001b[0m, in \u001b[0;36mDataFrame._arith_method\u001b[1;34m(self, other, op)\u001b[0m\n\u001b[0;32m   7590\u001b[0m other \u001b[39m=\u001b[39m ops\u001b[39m.\u001b[39mmaybe_prepare_scalar_for_op(other, (\u001b[39mself\u001b[39m\u001b[39m.\u001b[39mshape[axis],))\n\u001b[0;32m   7592\u001b[0m \u001b[39mself\u001b[39m, other \u001b[39m=\u001b[39m ops\u001b[39m.\u001b[39malign_method_FRAME(\u001b[39mself\u001b[39m, other, axis, flex\u001b[39m=\u001b[39m\u001b[39mTrue\u001b[39;00m, level\u001b[39m=\u001b[39m\u001b[39mNone\u001b[39;00m)\n\u001b[1;32m-> 7594\u001b[0m new_data \u001b[39m=\u001b[39m \u001b[39mself\u001b[39;49m\u001b[39m.\u001b[39;49m_dispatch_frame_op(other, op, axis\u001b[39m=\u001b[39;49maxis)\n\u001b[0;32m   7595\u001b[0m \u001b[39mreturn\u001b[39;00m \u001b[39mself\u001b[39m\u001b[39m.\u001b[39m_construct_result(new_data)\n",
      "File \u001b[1;32mc:\\Users\\johan\\OneDrive - Hochschule RheinMain\\Studium\\Masterthesis\\py_env_masterthesis\\lib\\site-packages\\pandas\\core\\frame.py:7633\u001b[0m, in \u001b[0;36mDataFrame._dispatch_frame_op\u001b[1;34m(self, right, func, axis)\u001b[0m\n\u001b[0;32m   7627\u001b[0m     \u001b[39m# TODO: The previous assertion `assert right._indexed_same(self)`\u001b[39;00m\n\u001b[0;32m   7628\u001b[0m     \u001b[39m#  fails in cases with empty columns reached via\u001b[39;00m\n\u001b[0;32m   7629\u001b[0m     \u001b[39m#  _frame_arith_method_with_reindex\u001b[39;00m\n\u001b[0;32m   7630\u001b[0m \n\u001b[0;32m   7631\u001b[0m     \u001b[39m# TODO operate_blockwise expects a manager of the same type\u001b[39;00m\n\u001b[0;32m   7632\u001b[0m     \u001b[39mwith\u001b[39;00m np\u001b[39m.\u001b[39merrstate(\u001b[39mall\u001b[39m\u001b[39m=\u001b[39m\u001b[39m\"\u001b[39m\u001b[39mignore\u001b[39m\u001b[39m\"\u001b[39m):\n\u001b[1;32m-> 7633\u001b[0m         bm \u001b[39m=\u001b[39m \u001b[39mself\u001b[39;49m\u001b[39m.\u001b[39;49m_mgr\u001b[39m.\u001b[39;49moperate_blockwise(\n\u001b[0;32m   7634\u001b[0m             \u001b[39m# error: Argument 1 to \"operate_blockwise\" of \"ArrayManager\" has\u001b[39;49;00m\n\u001b[0;32m   7635\u001b[0m             \u001b[39m# incompatible type \"Union[ArrayManager, BlockManager]\"; expected\u001b[39;49;00m\n\u001b[0;32m   7636\u001b[0m             \u001b[39m# \"ArrayManager\"\u001b[39;49;00m\n\u001b[0;32m   7637\u001b[0m             \u001b[39m# error: Argument 1 to \"operate_blockwise\" of \"BlockManager\" has\u001b[39;49;00m\n\u001b[0;32m   7638\u001b[0m             \u001b[39m# incompatible type \"Union[ArrayManager, BlockManager]\"; expected\u001b[39;49;00m\n\u001b[0;32m   7639\u001b[0m             \u001b[39m# \"BlockManager\"\u001b[39;49;00m\n\u001b[0;32m   7640\u001b[0m             right\u001b[39m.\u001b[39;49m_mgr,  \u001b[39m# type: ignore[arg-type]\u001b[39;49;00m\n\u001b[0;32m   7641\u001b[0m             array_op,\n\u001b[0;32m   7642\u001b[0m         )\n\u001b[0;32m   7643\u001b[0m     \u001b[39mreturn\u001b[39;00m \u001b[39mself\u001b[39m\u001b[39m.\u001b[39m_constructor(bm)\n\u001b[0;32m   7645\u001b[0m \u001b[39melif\u001b[39;00m \u001b[39misinstance\u001b[39m(right, Series) \u001b[39mand\u001b[39;00m axis \u001b[39m==\u001b[39m \u001b[39m1\u001b[39m:\n\u001b[0;32m   7646\u001b[0m     \u001b[39m# axis=1 means we want to operate row-by-row\u001b[39;00m\n",
      "File \u001b[1;32mc:\\Users\\johan\\OneDrive - Hochschule RheinMain\\Studium\\Masterthesis\\py_env_masterthesis\\lib\\site-packages\\pandas\\core\\internals\\managers.py:1589\u001b[0m, in \u001b[0;36mBlockManager.operate_blockwise\u001b[1;34m(self, other, array_op)\u001b[0m\n\u001b[0;32m   1585\u001b[0m \u001b[39mdef\u001b[39;00m \u001b[39moperate_blockwise\u001b[39m(\u001b[39mself\u001b[39m, other: BlockManager, array_op) \u001b[39m-\u001b[39m\u001b[39m>\u001b[39m BlockManager:\n\u001b[0;32m   1586\u001b[0m \u001b[39m    \u001b[39m\u001b[39m\"\"\"\u001b[39;00m\n\u001b[0;32m   1587\u001b[0m \u001b[39m    Apply array_op blockwise with another (aligned) BlockManager.\u001b[39;00m\n\u001b[0;32m   1588\u001b[0m \u001b[39m    \"\"\"\u001b[39;00m\n\u001b[1;32m-> 1589\u001b[0m     \u001b[39mreturn\u001b[39;00m operate_blockwise(\u001b[39mself\u001b[39;49m, other, array_op)\n",
      "File \u001b[1;32mc:\\Users\\johan\\OneDrive - Hochschule RheinMain\\Studium\\Masterthesis\\py_env_masterthesis\\lib\\site-packages\\pandas\\core\\internals\\ops.py:63\u001b[0m, in \u001b[0;36moperate_blockwise\u001b[1;34m(left, right, array_op)\u001b[0m\n\u001b[0;32m     61\u001b[0m res_blks: \u001b[39mlist\u001b[39m[Block] \u001b[39m=\u001b[39m []\n\u001b[0;32m     62\u001b[0m \u001b[39mfor\u001b[39;00m lvals, rvals, locs, left_ea, right_ea, rblk \u001b[39min\u001b[39;00m _iter_block_pairs(left, right):\n\u001b[1;32m---> 63\u001b[0m     res_values \u001b[39m=\u001b[39m array_op(lvals, rvals)\n\u001b[0;32m     64\u001b[0m     \u001b[39mif\u001b[39;00m left_ea \u001b[39mand\u001b[39;00m \u001b[39mnot\u001b[39;00m right_ea \u001b[39mand\u001b[39;00m \u001b[39mhasattr\u001b[39m(res_values, \u001b[39m\"\u001b[39m\u001b[39mreshape\u001b[39m\u001b[39m\"\u001b[39m):\n\u001b[0;32m     65\u001b[0m         res_values \u001b[39m=\u001b[39m res_values\u001b[39m.\u001b[39mreshape(\u001b[39m1\u001b[39m, \u001b[39m-\u001b[39m\u001b[39m1\u001b[39m)\n",
      "File \u001b[1;32mc:\\Users\\johan\\OneDrive - Hochschule RheinMain\\Studium\\Masterthesis\\py_env_masterthesis\\lib\\site-packages\\pandas\\core\\ops\\array_ops.py:226\u001b[0m, in \u001b[0;36marithmetic_op\u001b[1;34m(left, right, op)\u001b[0m\n\u001b[0;32m    222\u001b[0m     _bool_arith_check(op, left, right)\n\u001b[0;32m    224\u001b[0m     \u001b[39m# error: Argument 1 to \"_na_arithmetic_op\" has incompatible type\u001b[39;00m\n\u001b[0;32m    225\u001b[0m     \u001b[39m# \"Union[ExtensionArray, ndarray[Any, Any]]\"; expected \"ndarray[Any, Any]\"\u001b[39;00m\n\u001b[1;32m--> 226\u001b[0m     res_values \u001b[39m=\u001b[39m _na_arithmetic_op(left, right, op)  \u001b[39m# type: ignore[arg-type]\u001b[39;00m\n\u001b[0;32m    228\u001b[0m \u001b[39mreturn\u001b[39;00m res_values\n",
      "File \u001b[1;32mc:\\Users\\johan\\OneDrive - Hochschule RheinMain\\Studium\\Masterthesis\\py_env_masterthesis\\lib\\site-packages\\pandas\\core\\ops\\array_ops.py:172\u001b[0m, in \u001b[0;36m_na_arithmetic_op\u001b[1;34m(left, right, op, is_cmp)\u001b[0m\n\u001b[0;32m    166\u001b[0m \u001b[39mexcept\u001b[39;00m \u001b[39mTypeError\u001b[39;00m:\n\u001b[0;32m    167\u001b[0m     \u001b[39mif\u001b[39;00m \u001b[39mnot\u001b[39;00m is_cmp \u001b[39mand\u001b[39;00m (is_object_dtype(left\u001b[39m.\u001b[39mdtype) \u001b[39mor\u001b[39;00m is_object_dtype(right)):\n\u001b[0;32m    168\u001b[0m         \u001b[39m# For object dtype, fallback to a masked operation (only operating\u001b[39;00m\n\u001b[0;32m    169\u001b[0m         \u001b[39m#  on the non-missing values)\u001b[39;00m\n\u001b[0;32m    170\u001b[0m         \u001b[39m# Don't do this for comparisons, as that will handle complex numbers\u001b[39;00m\n\u001b[0;32m    171\u001b[0m         \u001b[39m#  incorrectly, see GH#32047\u001b[39;00m\n\u001b[1;32m--> 172\u001b[0m         result \u001b[39m=\u001b[39m _masked_arith_op(left, right, op)\n\u001b[0;32m    173\u001b[0m     \u001b[39melse\u001b[39;00m:\n\u001b[0;32m    174\u001b[0m         \u001b[39mraise\u001b[39;00m\n",
      "File \u001b[1;32mc:\\Users\\johan\\OneDrive - Hochschule RheinMain\\Studium\\Masterthesis\\py_env_masterthesis\\lib\\site-packages\\pandas\\core\\ops\\array_ops.py:110\u001b[0m, in \u001b[0;36m_masked_arith_op\u001b[1;34m(x, y, op)\u001b[0m\n\u001b[0;32m    108\u001b[0m     \u001b[39m# See GH#5284, GH#5035, GH#19448 for historical reference\u001b[39;00m\n\u001b[0;32m    109\u001b[0m     \u001b[39mif\u001b[39;00m mask\u001b[39m.\u001b[39many():\n\u001b[1;32m--> 110\u001b[0m         result[mask] \u001b[39m=\u001b[39m op(xrav[mask], yrav[mask])\n\u001b[0;32m    112\u001b[0m \u001b[39melse\u001b[39;00m:\n\u001b[0;32m    113\u001b[0m     \u001b[39mif\u001b[39;00m \u001b[39mnot\u001b[39;00m is_scalar(y):\n",
      "\u001b[1;31mTypeError\u001b[0m: unsupported operand type(s) for -: 'str' and 'str'"
     ]
    }
   ],
   "source": [
    "df_date['duration'] = (df_date['max'] - df_date['min']).dt.days"
   ]
  },
  {
   "cell_type": "code",
   "execution_count": 15,
   "metadata": {},
   "outputs": [
    {
     "data": {
      "text/html": [
       "<div>\n",
       "<style scoped>\n",
       "    .dataframe tbody tr th:only-of-type {\n",
       "        vertical-align: middle;\n",
       "    }\n",
       "\n",
       "    .dataframe tbody tr th {\n",
       "        vertical-align: top;\n",
       "    }\n",
       "\n",
       "    .dataframe thead tr th {\n",
       "        text-align: left;\n",
       "    }\n",
       "\n",
       "    .dataframe thead tr:last-of-type th {\n",
       "        text-align: right;\n",
       "    }\n",
       "</style>\n",
       "<table border=\"1\" class=\"dataframe\">\n",
       "  <thead>\n",
       "    <tr>\n",
       "      <th></th>\n",
       "      <th colspan=\"2\" halign=\"left\">date_print</th>\n",
       "    </tr>\n",
       "    <tr>\n",
       "      <th></th>\n",
       "      <th>min</th>\n",
       "      <th>max</th>\n",
       "    </tr>\n",
       "    <tr>\n",
       "      <th>kommune</th>\n",
       "      <th></th>\n",
       "      <th></th>\n",
       "    </tr>\n",
       "  </thead>\n",
       "  <tbody>\n",
       "    <tr>\n",
       "      <th>Bad Dürkheim</th>\n",
       "      <td>01.03.2011</td>\n",
       "      <td>31.08.2010</td>\n",
       "    </tr>\n",
       "    <tr>\n",
       "      <th>Bad Friedrichshall</th>\n",
       "      <td>01.02.2022</td>\n",
       "      <td>31.05.2022</td>\n",
       "    </tr>\n",
       "    <tr>\n",
       "      <th>Bad Rappenau</th>\n",
       "      <td>01.03.2018</td>\n",
       "      <td>31.01.2019</td>\n",
       "    </tr>\n",
       "    <tr>\n",
       "      <th>Bensheim</th>\n",
       "      <td>01.02.2014</td>\n",
       "      <td>17.12.2020</td>\n",
       "    </tr>\n",
       "    <tr>\n",
       "      <th>Frankenthal</th>\n",
       "      <td>01.02.2006</td>\n",
       "      <td>31.08.2011</td>\n",
       "    </tr>\n",
       "    <tr>\n",
       "      <th>Hassloch</th>\n",
       "      <td>01.07.2020</td>\n",
       "      <td>31.10.2018</td>\n",
       "    </tr>\n",
       "    <tr>\n",
       "      <th>Heppenheim</th>\n",
       "      <td>01.12.2022</td>\n",
       "      <td>31.10.2016</td>\n",
       "    </tr>\n",
       "    <tr>\n",
       "      <th>Hockenheim</th>\n",
       "      <td>10.07.2019</td>\n",
       "      <td>31.03.2021</td>\n",
       "    </tr>\n",
       "    <tr>\n",
       "      <th>Homburg</th>\n",
       "      <td>02.04.2020</td>\n",
       "      <td>31.03.2022</td>\n",
       "    </tr>\n",
       "    <tr>\n",
       "      <th>Kreis Bad Dürkheim</th>\n",
       "      <td>01.10.2008</td>\n",
       "      <td>31.10.2012</td>\n",
       "    </tr>\n",
       "    <tr>\n",
       "      <th>Kreis Bergstraße</th>\n",
       "      <td>01.03.2010</td>\n",
       "      <td>31.05.2021</td>\n",
       "    </tr>\n",
       "    <tr>\n",
       "      <th>Kreis Germersheim</th>\n",
       "      <td>01.07.2009</td>\n",
       "      <td>30.05.2011</td>\n",
       "    </tr>\n",
       "    <tr>\n",
       "      <th>Kreis Heilbronn</th>\n",
       "      <td>02.12.2013</td>\n",
       "      <td>29.04.2013</td>\n",
       "    </tr>\n",
       "    <tr>\n",
       "      <th>Lampertheim</th>\n",
       "      <td>01.07.2020</td>\n",
       "      <td>31.10.2008</td>\n",
       "    </tr>\n",
       "    <tr>\n",
       "      <th>Landau</th>\n",
       "      <td>01.02.2011</td>\n",
       "      <td>31.08.2010</td>\n",
       "    </tr>\n",
       "    <tr>\n",
       "      <th>Leimen</th>\n",
       "      <td>09.06.2022</td>\n",
       "      <td>31.03.2022</td>\n",
       "    </tr>\n",
       "    <tr>\n",
       "      <th>Pirmasens</th>\n",
       "      <td>01.02.2021</td>\n",
       "      <td>30.05.2022</td>\n",
       "    </tr>\n",
       "    <tr>\n",
       "      <th>Rhein-Pfalz-Kreis</th>\n",
       "      <td>02.09.2013</td>\n",
       "      <td>30.10.2006</td>\n",
       "    </tr>\n",
       "    <tr>\n",
       "      <th>Rhein-Neckar-Kreis</th>\n",
       "      <td>01.04.2014</td>\n",
       "      <td>31.03.2009</td>\n",
       "    </tr>\n",
       "    <tr>\n",
       "      <th>Saarpfalz-Kreis</th>\n",
       "      <td>01.01.2019</td>\n",
       "      <td>01.12.2022</td>\n",
       "    </tr>\n",
       "    <tr>\n",
       "      <th>Schifferstadt</th>\n",
       "      <td>01.03.2012</td>\n",
       "      <td>31.08.2017</td>\n",
       "    </tr>\n",
       "    <tr>\n",
       "      <th>Schwetzingen</th>\n",
       "      <td>01.03.2007</td>\n",
       "      <td>31.01.2019</td>\n",
       "    </tr>\n",
       "    <tr>\n",
       "      <th>Speyer</th>\n",
       "      <td>01.02.2018</td>\n",
       "      <td>31.08.2010</td>\n",
       "    </tr>\n",
       "    <tr>\n",
       "      <th>Viernheim</th>\n",
       "      <td>01.10.2010</td>\n",
       "      <td>31.08.2012</td>\n",
       "    </tr>\n",
       "    <tr>\n",
       "      <th>Weinheim</th>\n",
       "      <td>01.07.2020</td>\n",
       "      <td>31.05.2016</td>\n",
       "    </tr>\n",
       "    <tr>\n",
       "      <th>Wiesloch</th>\n",
       "      <td>14.12.2022</td>\n",
       "      <td>30.03.2022</td>\n",
       "    </tr>\n",
       "    <tr>\n",
       "      <th>Wörth am Rhein</th>\n",
       "      <td>02.04.2009</td>\n",
       "      <td>30.08.2010</td>\n",
       "    </tr>\n",
       "  </tbody>\n",
       "</table>\n",
       "</div>"
      ],
      "text/plain": [
       "                    date_print            \n",
       "                           min         max\n",
       "kommune                                   \n",
       "Bad Dürkheim        01.03.2011  31.08.2010\n",
       "Bad Friedrichshall  01.02.2022  31.05.2022\n",
       "Bad Rappenau        01.03.2018  31.01.2019\n",
       "Bensheim            01.02.2014  17.12.2020\n",
       "Frankenthal         01.02.2006  31.08.2011\n",
       "Hassloch            01.07.2020  31.10.2018\n",
       "Heppenheim          01.12.2022  31.10.2016\n",
       "Hockenheim          10.07.2019  31.03.2021\n",
       "Homburg             02.04.2020  31.03.2022\n",
       "Kreis Bad Dürkheim  01.10.2008  31.10.2012\n",
       "Kreis Bergstraße    01.03.2010  31.05.2021\n",
       "Kreis Germersheim   01.07.2009  30.05.2011\n",
       "Kreis Heilbronn     02.12.2013  29.04.2013\n",
       "Lampertheim         01.07.2020  31.10.2008\n",
       "Landau              01.02.2011  31.08.2010\n",
       "Leimen              09.06.2022  31.03.2022\n",
       "Pirmasens           01.02.2021  30.05.2022\n",
       "Rhein-Pfalz-Kreis   02.09.2013  30.10.2006\n",
       "Rhein-Neckar-Kreis  01.04.2014  31.03.2009\n",
       "Saarpfalz-Kreis     01.01.2019  01.12.2022\n",
       "Schifferstadt       01.03.2012  31.08.2017\n",
       "Schwetzingen        01.03.2007  31.01.2019\n",
       "Speyer              01.02.2018  31.08.2010\n",
       "Viernheim           01.10.2010  31.08.2012\n",
       "Weinheim            01.07.2020  31.05.2016\n",
       "Wiesloch            14.12.2022  30.03.2022\n",
       "Wörth am Rhein      02.04.2009  30.08.2010"
      ]
     },
     "execution_count": 15,
     "metadata": {},
     "output_type": "execute_result"
    }
   ],
   "source": [
    "df.groupby(['kommune']).agg({'date_print': [min, max]}).to_latex(\"../../latex/Tables/Kommunen_Datum_Min_Max.tex\", \n",
    "                caption=\"Zeitspanne der erhobenen Daten\",\n",
    "                label=\"tab:zeitspanne_daten\",\n",
    "                column_format=\"lcc\"\n",
    "                )"
   ]
  },
  {
   "cell_type": "code",
   "execution_count": 11,
   "metadata": {},
   "outputs": [
    {
     "data": {
      "text/plain": [
       "Vorlage             26793\n",
       "Anhang Vorlage      25528\n",
       "Beschluss            4738\n",
       "Niederschrift        4690\n",
       "Anhang Sitzung       1644\n",
       "Bekanntmachung       1598\n",
       "Anfrage              1117\n",
       "Antrag                881\n",
       "Anhang Beschluss      777\n",
       "Name: doc_typ, dtype: int64"
      ]
     },
     "execution_count": 11,
     "metadata": {},
     "output_type": "execute_result"
    }
   ],
   "source": [
    "df['doc_typ'].value_counts()"
   ]
  },
  {
   "cell_type": "code",
   "execution_count": null,
   "metadata": {},
   "outputs": [],
   "source": [
    "df['doc_typ'].value_counts().to_latex(\"../../latex/Tables/dokumententypen.tex\", \n",
    "                caption=\"Dokumententypen des gesamten Datensatzes\",\n",
    "                label=\"tab:dokumententypen\",\n",
    "                column_format=\"lr\"\n",
    "                )"
   ]
  },
  {
   "cell_type": "code",
   "execution_count": 15,
   "metadata": {},
   "outputs": [],
   "source": [
    "df['verkehrsbezug'] = df['verkehrsbezug'].astype('boolean')"
   ]
  },
  {
   "cell_type": "code",
   "execution_count": 17,
   "metadata": {},
   "outputs": [],
   "source": [
    "df.to_parquet('2023-05-22_gesamtdaten_bis_2022')"
   ]
  },
  {
   "cell_type": "code",
   "execution_count": 3,
   "metadata": {},
   "outputs": [],
   "source": [
    "df = pd.read_parquet('2023-05-22_gesamtdaten_bis_2022')"
   ]
  },
  {
   "cell_type": "code",
   "execution_count": 18,
   "metadata": {},
   "outputs": [
    {
     "data": {
      "text/plain": [
       "False    69131\n",
       "True       286\n",
       "Name: content, dtype: int64"
      ]
     },
     "execution_count": 18,
     "metadata": {},
     "output_type": "execute_result"
    }
   ],
   "source": [
    "pd.isnull(df['content']).value_counts()"
   ]
  },
  {
   "cell_type": "code",
   "execution_count": 19,
   "metadata": {},
   "outputs": [
    {
     "data": {
      "text/html": [
       "<div>\n",
       "<style scoped>\n",
       "    .dataframe tbody tr th:only-of-type {\n",
       "        vertical-align: middle;\n",
       "    }\n",
       "\n",
       "    .dataframe tbody tr th {\n",
       "        vertical-align: top;\n",
       "    }\n",
       "\n",
       "    .dataframe thead th {\n",
       "        text-align: right;\n",
       "    }\n",
       "</style>\n",
       "<table border=\"1\" class=\"dataframe\">\n",
       "  <thead>\n",
       "    <tr style=\"text-align: right;\">\n",
       "      <th></th>\n",
       "      <th>content</th>\n",
       "      <th>date</th>\n",
       "      <th>doc_name_x</th>\n",
       "      <th>file_urls</th>\n",
       "      <th>gremium</th>\n",
       "      <th>kommunale_ebene</th>\n",
       "      <th>kommune</th>\n",
       "      <th>pdf_name</th>\n",
       "      <th>rel_path_to_file</th>\n",
       "      <th>sitzung_nr</th>\n",
       "      <th>status</th>\n",
       "      <th>top_name</th>\n",
       "      <th>top_nr</th>\n",
       "      <th>vorlage_nr</th>\n",
       "      <th>ocr</th>\n",
       "      <th>doc_typ</th>\n",
       "      <th>verkehrsbezug</th>\n",
       "      <th>date_print</th>\n",
       "    </tr>\n",
       "    <tr>\n",
       "      <th>index</th>\n",
       "      <th></th>\n",
       "      <th></th>\n",
       "      <th></th>\n",
       "      <th></th>\n",
       "      <th></th>\n",
       "      <th></th>\n",
       "      <th></th>\n",
       "      <th></th>\n",
       "      <th></th>\n",
       "      <th></th>\n",
       "      <th></th>\n",
       "      <th></th>\n",
       "      <th></th>\n",
       "      <th></th>\n",
       "      <th></th>\n",
       "      <th></th>\n",
       "      <th></th>\n",
       "      <th></th>\n",
       "    </tr>\n",
       "  </thead>\n",
       "  <tbody>\n",
       "    <tr>\n",
       "      <th>15814.0</th>\n",
       "      <td>\\n \\n \\nBeschlußvorlage \\nöffentlich \\n \\nFac...</td>\n",
       "      <td>2007-02-13</td>\n",
       "      <td>Vorlage</td>\n",
       "      <td>https://sessionnet.krz.de/bad-duerkheim/bi/get...</td>\n",
       "      <td>Stadtrat</td>\n",
       "      <td>Stadt</td>\n",
       "      <td>Bad Dürkheim</td>\n",
       "      <td>2007-02-13_Bad_Duerkheim_60212.pdf</td>\n",
       "      <td>Dateien/Kommunen/Bad_Duerkheim/2007-02-13_Bad_...</td>\n",
       "      <td>60212.0</td>\n",
       "      <td>None</td>\n",
       "      <td>Tätigkeitsbericht der Agenda 21</td>\n",
       "      <td>2.0</td>\n",
       "      <td>20070019/1.1</td>\n",
       "      <td>False</td>\n",
       "      <td>Vorlage</td>\n",
       "      <td>True</td>\n",
       "      <td>13.02.2007</td>\n",
       "    </tr>\n",
       "    <tr>\n",
       "      <th>15815.0</th>\n",
       "      <td>\\n \\n \\nBeschlußvorlage \\nnicht öffentlich \\n...</td>\n",
       "      <td>2007-02-13</td>\n",
       "      <td>Vorlage</td>\n",
       "      <td>https://sessionnet.krz.de/bad-duerkheim/bi/get...</td>\n",
       "      <td>Stadtrat</td>\n",
       "      <td>Stadt</td>\n",
       "      <td>Bad Dürkheim</td>\n",
       "      <td>2007-02-13_Bad_Duerkheim_60204.pdf</td>\n",
       "      <td>Dateien/Kommunen/Bad_Duerkheim/2007-02-13_Bad_...</td>\n",
       "      <td>60204.0</td>\n",
       "      <td>None</td>\n",
       "      <td>Prüfung der Stadtkasse hier: Unterrichtung übe...</td>\n",
       "      <td>3.0</td>\n",
       "      <td>20070018/1.7</td>\n",
       "      <td>False</td>\n",
       "      <td>Vorlage</td>\n",
       "      <td>False</td>\n",
       "      <td>13.02.2007</td>\n",
       "    </tr>\n",
       "    <tr>\n",
       "      <th>21130.0</th>\n",
       "      <td>Unvermutete überörtliche Prüfung der Stadtkass...</td>\n",
       "      <td>2007-02-13</td>\n",
       "      <td>Auszug aus Bericht Kassenprüfung</td>\n",
       "      <td>https://sessionnet.krz.de/bad-duerkheim/bi/get...</td>\n",
       "      <td>Stadtrat</td>\n",
       "      <td>Stadt</td>\n",
       "      <td>Bad Dürkheim</td>\n",
       "      <td>2007-02-13_Bad_Duerkheim_60220.pdf</td>\n",
       "      <td>Dateien/Kommunen/Bad_Duerkheim/2007-02-13_Bad_...</td>\n",
       "      <td>60220.0</td>\n",
       "      <td>None</td>\n",
       "      <td>Prüfung der Stadtkasse hier: Unterrichtung übe...</td>\n",
       "      <td>3.0</td>\n",
       "      <td>20070018/1.7</td>\n",
       "      <td>True</td>\n",
       "      <td>Anhang Vorlage</td>\n",
       "      <td>True</td>\n",
       "      <td>13.02.2007</td>\n",
       "    </tr>\n",
       "    <tr>\n",
       "      <th>15816.0</th>\n",
       "      <td>\\n \\n \\nBeschlußvorlage \\nnichtöffentlich \\n ...</td>\n",
       "      <td>2007-02-13</td>\n",
       "      <td>Vorlage</td>\n",
       "      <td>https://sessionnet.krz.de/bad-duerkheim/bi/get...</td>\n",
       "      <td>Stadtrat</td>\n",
       "      <td>Stadt</td>\n",
       "      <td>Bad Dürkheim</td>\n",
       "      <td>2007-02-13_Bad_Duerkheim_60195.pdf</td>\n",
       "      <td>Dateien/Kommunen/Bad_Duerkheim/2007-02-13_Bad_...</td>\n",
       "      <td>60195.0</td>\n",
       "      <td>None</td>\n",
       "      <td>Neubesetzung städtischer Ausschüsse</td>\n",
       "      <td>5.0</td>\n",
       "      <td>20070014/FB1</td>\n",
       "      <td>False</td>\n",
       "      <td>Vorlage</td>\n",
       "      <td>False</td>\n",
       "      <td>13.02.2007</td>\n",
       "    </tr>\n",
       "    <tr>\n",
       "      <th>28204.0</th>\n",
       "      <td>\"REPUBLIKANER R EP\\n\\nStadtratsfraktion Bad Dü...</td>\n",
       "      <td>2007-02-13</td>\n",
       "      <td>Schreiben der REP-Stadtratsfraktion vom 10.01....</td>\n",
       "      <td>https://sessionnet.krz.de/bad-duerkheim/bi/get...</td>\n",
       "      <td>Stadtrat</td>\n",
       "      <td>Stadt</td>\n",
       "      <td>Bad Dürkheim</td>\n",
       "      <td>2007-02-13_Bad_Duerkheim_60213.pdf</td>\n",
       "      <td>Dateien/Kommunen/Bad_Duerkheim/2007-02-13_Bad_...</td>\n",
       "      <td>60213.0</td>\n",
       "      <td>None</td>\n",
       "      <td>Neubesetzung städtischer Ausschüsse</td>\n",
       "      <td>5.0</td>\n",
       "      <td>20070014/FB1</td>\n",
       "      <td>True</td>\n",
       "      <td>Anhang Vorlage</td>\n",
       "      <td>False</td>\n",
       "      <td>13.02.2007</td>\n",
       "    </tr>\n",
       "  </tbody>\n",
       "</table>\n",
       "</div>"
      ],
      "text/plain": [
       "                                                   content       date  \\\n",
       "index                                                                   \n",
       "15814.0   \\n \\n \\nBeschlußvorlage \\nöffentlich \\n \\nFac... 2007-02-13   \n",
       "15815.0   \\n \\n \\nBeschlußvorlage \\nnicht öffentlich \\n... 2007-02-13   \n",
       "21130.0  Unvermutete überörtliche Prüfung der Stadtkass... 2007-02-13   \n",
       "15816.0   \\n \\n \\nBeschlußvorlage \\nnichtöffentlich \\n ... 2007-02-13   \n",
       "28204.0  \"REPUBLIKANER R EP\\n\\nStadtratsfraktion Bad Dü... 2007-02-13   \n",
       "\n",
       "                                                doc_name_x  \\\n",
       "index                                                        \n",
       "15814.0                                            Vorlage   \n",
       "15815.0                                            Vorlage   \n",
       "21130.0                   Auszug aus Bericht Kassenprüfung   \n",
       "15816.0                                            Vorlage   \n",
       "28204.0  Schreiben der REP-Stadtratsfraktion vom 10.01....   \n",
       "\n",
       "                                                 file_urls   gremium  \\\n",
       "index                                                                  \n",
       "15814.0  https://sessionnet.krz.de/bad-duerkheim/bi/get...  Stadtrat   \n",
       "15815.0  https://sessionnet.krz.de/bad-duerkheim/bi/get...  Stadtrat   \n",
       "21130.0  https://sessionnet.krz.de/bad-duerkheim/bi/get...  Stadtrat   \n",
       "15816.0  https://sessionnet.krz.de/bad-duerkheim/bi/get...  Stadtrat   \n",
       "28204.0  https://sessionnet.krz.de/bad-duerkheim/bi/get...  Stadtrat   \n",
       "\n",
       "        kommunale_ebene       kommune                            pdf_name  \\\n",
       "index                                                                       \n",
       "15814.0           Stadt  Bad Dürkheim  2007-02-13_Bad_Duerkheim_60212.pdf   \n",
       "15815.0           Stadt  Bad Dürkheim  2007-02-13_Bad_Duerkheim_60204.pdf   \n",
       "21130.0           Stadt  Bad Dürkheim  2007-02-13_Bad_Duerkheim_60220.pdf   \n",
       "15816.0           Stadt  Bad Dürkheim  2007-02-13_Bad_Duerkheim_60195.pdf   \n",
       "28204.0           Stadt  Bad Dürkheim  2007-02-13_Bad_Duerkheim_60213.pdf   \n",
       "\n",
       "                                          rel_path_to_file  sitzung_nr status  \\\n",
       "index                                                                           \n",
       "15814.0  Dateien/Kommunen/Bad_Duerkheim/2007-02-13_Bad_...     60212.0   None   \n",
       "15815.0  Dateien/Kommunen/Bad_Duerkheim/2007-02-13_Bad_...     60204.0   None   \n",
       "21130.0  Dateien/Kommunen/Bad_Duerkheim/2007-02-13_Bad_...     60220.0   None   \n",
       "15816.0  Dateien/Kommunen/Bad_Duerkheim/2007-02-13_Bad_...     60195.0   None   \n",
       "28204.0  Dateien/Kommunen/Bad_Duerkheim/2007-02-13_Bad_...     60213.0   None   \n",
       "\n",
       "                                                  top_name top_nr  \\\n",
       "index                                                               \n",
       "15814.0                    Tätigkeitsbericht der Agenda 21    2.0   \n",
       "15815.0  Prüfung der Stadtkasse hier: Unterrichtung übe...    3.0   \n",
       "21130.0  Prüfung der Stadtkasse hier: Unterrichtung übe...    3.0   \n",
       "15816.0                Neubesetzung städtischer Ausschüsse    5.0   \n",
       "28204.0                Neubesetzung städtischer Ausschüsse    5.0   \n",
       "\n",
       "           vorlage_nr    ocr         doc_typ  verkehrsbezug  date_print  \n",
       "index                                                                    \n",
       "15814.0  20070019/1.1  False         Vorlage           True  13.02.2007  \n",
       "15815.0  20070018/1.7  False         Vorlage          False  13.02.2007  \n",
       "21130.0  20070018/1.7   True  Anhang Vorlage           True  13.02.2007  \n",
       "15816.0  20070014/FB1  False         Vorlage          False  13.02.2007  \n",
       "28204.0  20070014/FB1   True  Anhang Vorlage          False  13.02.2007  "
      ]
     },
     "execution_count": 19,
     "metadata": {},
     "output_type": "execute_result"
    }
   ],
   "source": [
    "df.head()"
   ]
  },
  {
   "cell_type": "code",
   "execution_count": 4,
   "metadata": {},
   "outputs": [],
   "source": [
    "# Wenn es keinen Inhalt gibt, dann auslassen\n",
    "df = df[df['content'].notna()]"
   ]
  },
  {
   "cell_type": "code",
   "execution_count": 21,
   "metadata": {},
   "outputs": [
    {
     "data": {
      "text/plain": [
       "False    69131\n",
       "Name: content, dtype: int64"
      ]
     },
     "execution_count": 21,
     "metadata": {},
     "output_type": "execute_result"
    }
   ],
   "source": [
    "pd.isnull(df['content']).value_counts()"
   ]
  },
  {
   "cell_type": "code",
   "execution_count": 6,
   "metadata": {},
   "outputs": [
    {
     "name": "stderr",
     "output_type": "stream",
     "text": [
      "C:\\Users\\johan\\AppData\\Local\\Temp\\ipykernel_14556\\3476177009.py:1: FutureWarning: In future versions `DataFrame.to_latex` is expected to utilise the base implementation of `Styler.to_latex` for formatting and rendering. The arguments signature may therefore change. It is recommended instead to use `DataFrame.style.to_latex` which also contains additional functionality.\n",
      "  pd.crosstab(index=df['kommune'], columns=df['doc_typ']).to_latex(\"../../latex/Tables/Kommunen_Dokumententypen.tex\",\n"
     ]
    }
   ],
   "source": [
    "pd.crosstab(index=df['kommune'], columns=df['doc_typ']).to_latex(\"../../latex/Tables/Kommunen_Dokumententypen.tex\", \n",
    "                caption=\"Dokumententyp je Kommune\",\n",
    "                label=\"tab:kommune dokumententypen\",\n",
    "                )"
   ]
  },
  {
   "cell_type": "code",
   "execution_count": 12,
   "metadata": {},
   "outputs": [
    {
     "data": {
      "text/html": [
       "<div>\n",
       "<style scoped>\n",
       "    .dataframe tbody tr th:only-of-type {\n",
       "        vertical-align: middle;\n",
       "    }\n",
       "\n",
       "    .dataframe tbody tr th {\n",
       "        vertical-align: top;\n",
       "    }\n",
       "\n",
       "    .dataframe thead th {\n",
       "        text-align: right;\n",
       "    }\n",
       "</style>\n",
       "<table border=\"1\" class=\"dataframe\">\n",
       "  <thead>\n",
       "    <tr style=\"text-align: right;\">\n",
       "      <th>col_0</th>\n",
       "      <th>Count</th>\n",
       "    </tr>\n",
       "    <tr>\n",
       "      <th>kommune</th>\n",
       "      <th></th>\n",
       "    </tr>\n",
       "  </thead>\n",
       "  <tbody>\n",
       "    <tr>\n",
       "      <th>Bad Dürkheim</th>\n",
       "      <td>1817</td>\n",
       "    </tr>\n",
       "    <tr>\n",
       "      <th>Bad Friedrichshall</th>\n",
       "      <td>2401</td>\n",
       "    </tr>\n",
       "    <tr>\n",
       "      <th>Bad Rappenau</th>\n",
       "      <td>1402</td>\n",
       "    </tr>\n",
       "    <tr>\n",
       "      <th>Bensheim</th>\n",
       "      <td>56</td>\n",
       "    </tr>\n",
       "    <tr>\n",
       "      <th>Frankenthal</th>\n",
       "      <td>7368</td>\n",
       "    </tr>\n",
       "    <tr>\n",
       "      <th>Hassloch</th>\n",
       "      <td>2716</td>\n",
       "    </tr>\n",
       "    <tr>\n",
       "      <th>Heppenheim</th>\n",
       "      <td>2660</td>\n",
       "    </tr>\n",
       "    <tr>\n",
       "      <th>Hockenheim</th>\n",
       "      <td>1746</td>\n",
       "    </tr>\n",
       "    <tr>\n",
       "      <th>Homburg</th>\n",
       "      <td>1006</td>\n",
       "    </tr>\n",
       "    <tr>\n",
       "      <th>Kreis Bad Dürkheim</th>\n",
       "      <td>1626</td>\n",
       "    </tr>\n",
       "    <tr>\n",
       "      <th>Kreis Bergstraße</th>\n",
       "      <td>5218</td>\n",
       "    </tr>\n",
       "    <tr>\n",
       "      <th>Kreis Germersheim</th>\n",
       "      <td>836</td>\n",
       "    </tr>\n",
       "    <tr>\n",
       "      <th>Kreis Heilbronn</th>\n",
       "      <td>1970</td>\n",
       "    </tr>\n",
       "    <tr>\n",
       "      <th>Lampertheim</th>\n",
       "      <td>5796</td>\n",
       "    </tr>\n",
       "    <tr>\n",
       "      <th>Landau</th>\n",
       "      <td>6092</td>\n",
       "    </tr>\n",
       "    <tr>\n",
       "      <th>Leimen</th>\n",
       "      <td>213</td>\n",
       "    </tr>\n",
       "    <tr>\n",
       "      <th>Pirmasens</th>\n",
       "      <td>1555</td>\n",
       "    </tr>\n",
       "    <tr>\n",
       "      <th>Rhein-Pfalz-Kreis</th>\n",
       "      <td>3633</td>\n",
       "    </tr>\n",
       "    <tr>\n",
       "      <th>Rhein-Neckar-Kreis</th>\n",
       "      <td>1351</td>\n",
       "    </tr>\n",
       "    <tr>\n",
       "      <th>Saarpfalz-Kreis</th>\n",
       "      <td>47</td>\n",
       "    </tr>\n",
       "    <tr>\n",
       "      <th>Schifferstadt</th>\n",
       "      <td>3794</td>\n",
       "    </tr>\n",
       "    <tr>\n",
       "      <th>Schwetzingen</th>\n",
       "      <td>4109</td>\n",
       "    </tr>\n",
       "    <tr>\n",
       "      <th>Speyer</th>\n",
       "      <td>5718</td>\n",
       "    </tr>\n",
       "    <tr>\n",
       "      <th>Viernheim</th>\n",
       "      <td>3817</td>\n",
       "    </tr>\n",
       "    <tr>\n",
       "      <th>Weinheim</th>\n",
       "      <td>206</td>\n",
       "    </tr>\n",
       "    <tr>\n",
       "      <th>Wiesloch</th>\n",
       "      <td>645</td>\n",
       "    </tr>\n",
       "    <tr>\n",
       "      <th>Wörth am Rhein</th>\n",
       "      <td>1333</td>\n",
       "    </tr>\n",
       "  </tbody>\n",
       "</table>\n",
       "</div>"
      ],
      "text/plain": [
       "col_0               Count\n",
       "kommune                  \n",
       "Bad Dürkheim         1817\n",
       "Bad Friedrichshall   2401\n",
       "Bad Rappenau         1402\n",
       "Bensheim               56\n",
       "Frankenthal          7368\n",
       "Hassloch             2716\n",
       "Heppenheim           2660\n",
       "Hockenheim           1746\n",
       "Homburg              1006\n",
       "Kreis Bad Dürkheim   1626\n",
       "Kreis Bergstraße     5218\n",
       "Kreis Germersheim     836\n",
       "Kreis Heilbronn      1970\n",
       "Lampertheim          5796\n",
       "Landau               6092\n",
       "Leimen                213\n",
       "Pirmasens            1555\n",
       "Rhein-Pfalz-Kreis    3633\n",
       "Rhein-Neckar-Kreis   1351\n",
       "Saarpfalz-Kreis        47\n",
       "Schifferstadt        3794\n",
       "Schwetzingen         4109\n",
       "Speyer               5718\n",
       "Viernheim            3817\n",
       "Weinheim              206\n",
       "Wiesloch              645\n",
       "Wörth am Rhein       1333"
      ]
     },
     "execution_count": 12,
     "metadata": {},
     "output_type": "execute_result"
    }
   ],
   "source": [
    "pd.crosstab(index=df['kommune'], columns='Count')"
   ]
  },
  {
   "cell_type": "code",
   "execution_count": 13,
   "metadata": {},
   "outputs": [
    {
     "name": "stderr",
     "output_type": "stream",
     "text": [
      "C:\\Users\\johan\\AppData\\Local\\Temp\\ipykernel_14556\\1050045831.py:1: FutureWarning: In future versions `DataFrame.to_latex` is expected to utilise the base implementation of `Styler.to_latex` for formatting and rendering. The arguments signature may therefore change. It is recommended instead to use `DataFrame.style.to_latex` which also contains additional functionality.\n",
      "  pd.crosstab(index=df['kommune'], columns='Count').to_latex(\"../../latex/Tables/Kommunen_Anzahl_Dokumente.tex\",\n"
     ]
    }
   ],
   "source": [
    "pd.crosstab(index=df['kommune'], columns='Count').to_latex(\"../../latex/Tables/Kommunen_Anzahl_Dokumente.tex\", \n",
    "                caption=\"Anzahl der Dokumente pro Kommune\",\n",
    "                label=\"tab:kommunen_anzahl_dokumente\",\n",
    "                )"
   ]
  },
  {
   "cell_type": "code",
   "execution_count": 10,
   "metadata": {},
   "outputs": [
    {
     "data": {
      "text/html": [
       "<div>\n",
       "<style scoped>\n",
       "    .dataframe tbody tr th:only-of-type {\n",
       "        vertical-align: middle;\n",
       "    }\n",
       "\n",
       "    .dataframe tbody tr th {\n",
       "        vertical-align: top;\n",
       "    }\n",
       "\n",
       "    .dataframe thead tr th {\n",
       "        text-align: left;\n",
       "    }\n",
       "\n",
       "    .dataframe thead tr:last-of-type th {\n",
       "        text-align: right;\n",
       "    }\n",
       "</style>\n",
       "<table border=\"1\" class=\"dataframe\">\n",
       "  <thead>\n",
       "    <tr>\n",
       "      <th></th>\n",
       "      <th>sum</th>\n",
       "    </tr>\n",
       "    <tr>\n",
       "      <th>col_0</th>\n",
       "      <th>Aggregat</th>\n",
       "    </tr>\n",
       "    <tr>\n",
       "      <th>kommune</th>\n",
       "      <th></th>\n",
       "    </tr>\n",
       "  </thead>\n",
       "  <tbody>\n",
       "    <tr>\n",
       "      <th>Bad Dürkheim</th>\n",
       "      <td>897</td>\n",
       "    </tr>\n",
       "    <tr>\n",
       "      <th>Bad Friedrichshall</th>\n",
       "      <td>768</td>\n",
       "    </tr>\n",
       "    <tr>\n",
       "      <th>Bad Rappenau</th>\n",
       "      <td>568</td>\n",
       "    </tr>\n",
       "    <tr>\n",
       "      <th>Bensheim</th>\n",
       "      <td>56</td>\n",
       "    </tr>\n",
       "    <tr>\n",
       "      <th>Frankenthal</th>\n",
       "      <td>2799</td>\n",
       "    </tr>\n",
       "    <tr>\n",
       "      <th>Hassloch</th>\n",
       "      <td>1068</td>\n",
       "    </tr>\n",
       "    <tr>\n",
       "      <th>Heppenheim</th>\n",
       "      <td>1337</td>\n",
       "    </tr>\n",
       "    <tr>\n",
       "      <th>Hockenheim</th>\n",
       "      <td>846</td>\n",
       "    </tr>\n",
       "    <tr>\n",
       "      <th>Homburg</th>\n",
       "      <td>149</td>\n",
       "    </tr>\n",
       "    <tr>\n",
       "      <th>Kreis Bad Dürkheim</th>\n",
       "      <td>683</td>\n",
       "    </tr>\n",
       "    <tr>\n",
       "      <th>Kreis Bergstraße</th>\n",
       "      <td>1580</td>\n",
       "    </tr>\n",
       "    <tr>\n",
       "      <th>Kreis Germersheim</th>\n",
       "      <td>144</td>\n",
       "    </tr>\n",
       "    <tr>\n",
       "      <th>Kreis Heilbronn</th>\n",
       "      <td>772</td>\n",
       "    </tr>\n",
       "    <tr>\n",
       "      <th>Lampertheim</th>\n",
       "      <td>2688</td>\n",
       "    </tr>\n",
       "    <tr>\n",
       "      <th>Landau</th>\n",
       "      <td>2610</td>\n",
       "    </tr>\n",
       "    <tr>\n",
       "      <th>Leimen</th>\n",
       "      <td>167</td>\n",
       "    </tr>\n",
       "    <tr>\n",
       "      <th>Pirmasens</th>\n",
       "      <td>707</td>\n",
       "    </tr>\n",
       "    <tr>\n",
       "      <th>Rhein-Pfalz-Kreis</th>\n",
       "      <td>754</td>\n",
       "    </tr>\n",
       "    <tr>\n",
       "      <th>Rhein-Neckar-Kreis</th>\n",
       "      <td>612</td>\n",
       "    </tr>\n",
       "    <tr>\n",
       "      <th>Saarpfalz-Kreis</th>\n",
       "      <td>47</td>\n",
       "    </tr>\n",
       "    <tr>\n",
       "      <th>Schifferstadt</th>\n",
       "      <td>1108</td>\n",
       "    </tr>\n",
       "    <tr>\n",
       "      <th>Schwetzingen</th>\n",
       "      <td>1919</td>\n",
       "    </tr>\n",
       "    <tr>\n",
       "      <th>Speyer</th>\n",
       "      <td>2803</td>\n",
       "    </tr>\n",
       "    <tr>\n",
       "      <th>Viernheim</th>\n",
       "      <td>1847</td>\n",
       "    </tr>\n",
       "    <tr>\n",
       "      <th>Weinheim</th>\n",
       "      <td>162</td>\n",
       "    </tr>\n",
       "    <tr>\n",
       "      <th>Wiesloch</th>\n",
       "      <td>274</td>\n",
       "    </tr>\n",
       "    <tr>\n",
       "      <th>Wörth am Rhein</th>\n",
       "      <td>676</td>\n",
       "    </tr>\n",
       "  </tbody>\n",
       "</table>\n",
       "</div>"
      ],
      "text/plain": [
       "                        sum\n",
       "col_0              Aggregat\n",
       "kommune                    \n",
       "Bad Dürkheim            897\n",
       "Bad Friedrichshall      768\n",
       "Bad Rappenau            568\n",
       "Bensheim                 56\n",
       "Frankenthal            2799\n",
       "Hassloch               1068\n",
       "Heppenheim             1337\n",
       "Hockenheim              846\n",
       "Homburg                 149\n",
       "Kreis Bad Dürkheim      683\n",
       "Kreis Bergstraße       1580\n",
       "Kreis Germersheim       144\n",
       "Kreis Heilbronn         772\n",
       "Lampertheim            2688\n",
       "Landau                 2610\n",
       "Leimen                  167\n",
       "Pirmasens               707\n",
       "Rhein-Pfalz-Kreis       754\n",
       "Rhein-Neckar-Kreis      612\n",
       "Saarpfalz-Kreis          47\n",
       "Schifferstadt          1108\n",
       "Schwetzingen           1919\n",
       "Speyer                 2803\n",
       "Viernheim              1847\n",
       "Weinheim                162\n",
       "Wiesloch                274\n",
       "Wörth am Rhein          676"
      ]
     },
     "execution_count": 10,
     "metadata": {},
     "output_type": "execute_result"
    }
   ],
   "source": [
    "pd.crosstab(index=df['kommune'], columns=\"Aggregat\", values=df['verkehrsbezug'], aggfunc=[sum])"
   ]
  },
  {
   "cell_type": "code",
   "execution_count": 11,
   "metadata": {},
   "outputs": [
    {
     "name": "stderr",
     "output_type": "stream",
     "text": [
      "C:\\Users\\johan\\AppData\\Local\\Temp\\ipykernel_14556\\1696818246.py:1: FutureWarning: In future versions `DataFrame.to_latex` is expected to utilise the base implementation of `Styler.to_latex` for formatting and rendering. The arguments signature may therefore change. It is recommended instead to use `DataFrame.style.to_latex` which also contains additional functionality.\n",
      "  pd.crosstab(index=df['kommune'], columns=\"Aggregat\", values=df['verkehrsbezug'], aggfunc=[sum]).to_latex(\"../../latex/Tables/Kommunen_Dokumente_Verkehrsbezug.tex\",\n"
     ]
    }
   ],
   "source": [
    "pd.crosstab(index=df['kommune'], columns=\"Aggregat\", values=df['verkehrsbezug'], aggfunc=[sum]).to_latex(\"../../latex/Tables/Kommunen_Dokumente_Verkehrsbezug.tex\", \n",
    "                caption=\"Anzahl der Dokumente mit Verkehrsbezug pro Kommune\",\n",
    "                label=\"tab:kommunen_anzahl_dokumente_verkehr\",\n",
    "                )"
   ]
  }
 ],
 "metadata": {
  "kernelspec": {
   "display_name": "py_env_masterthesis",
   "language": "python",
   "name": "python3"
  },
  "language_info": {
   "codemirror_mode": {
    "name": "ipython",
    "version": 3
   },
   "file_extension": ".py",
   "mimetype": "text/x-python",
   "name": "python",
   "nbconvert_exporter": "python",
   "pygments_lexer": "ipython3",
   "version": "3.10.11"
  },
  "orig_nbformat": 4
 },
 "nbformat": 4,
 "nbformat_minor": 2
}
