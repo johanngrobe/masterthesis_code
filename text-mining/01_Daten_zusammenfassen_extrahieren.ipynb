{
 "cells": [
  {
   "cell_type": "markdown",
   "id": "3acaa0f7-3485-4dea-826d-7cd89a66c5d4",
   "metadata": {},
   "source": [
    "# Concat multiple Databases"
   ]
  },
  {
   "cell_type": "code",
   "execution_count": 1,
   "id": "0771e7cf-45ff-4888-a324-cfc5de12b9f9",
   "metadata": {
    "tags": []
   },
   "outputs": [],
   "source": [
    "import pandas as pd\n",
    "from datetime import date"
   ]
  },
  {
   "cell_type": "markdown",
   "id": "83d450a9-643f-4332-a87d-a71bfd5c27f8",
   "metadata": {},
   "source": [
    "## Daten laden"
   ]
  },
  {
   "cell_type": "code",
   "execution_count": 2,
   "id": "d03c375b-853a-49fc-a0f0-1ffc9b34c5ae",
   "metadata": {
    "tags": []
   },
   "outputs": [],
   "source": [
    "#Kommunen\n",
    "bad_duerkheim = pd.read_csv('Dateien/CSV_Kommunen/bad_duerkheim_2.csv')\n",
    "bad_friedrichshall= pd.read_csv('Dateien/CSV_Kommunen/bad_friedrichshall_4.csv')\n",
    "bad_rappenau = pd.read_csv('Dateien/CSV_Kommunen/bad_rappenau_2.csv')\n",
    "bensheim = pd.read_csv('Dateien/CSV_Kommunen/bensheim_2.csv')\n",
    "frankenthal = pd.read_csv('Dateien/CSV_Kommunen/frankenthal_2.csv')\n",
    "hassloch = pd.read_csv('Dateien/CSV_Kommunen/hassloch_2.csv')\n",
    "heppenheim = pd.read_csv('Dateien/CSV_Kommunen/heppenheim_2.csv')\n",
    "hockenheim = pd.read_csv('Dateien/CSV_Kommunen/hockenheim_2.csv')\n",
    "homburg = pd.read_csv(\"Dateien/CSV_Kommunen/homburg_2.csv\")\n",
    "lampertheim = pd.read_csv(\"Dateien/CSV_Kommunen/lampertheim_2.csv\")\n",
    "landau = pd.read_csv(\"Dateien/CSV_Kommunen/landau_2.csv\")\n",
    "leimen = pd.read_csv(\"Dateien/CSV_Kommunen/leimen_2.csv\")\n",
    "pirmasens = pd.read_csv('Dateien/CSV_Kommunen/pirmasens_2.csv')\n",
    "schwetzingen = pd.read_csv('Dateien/CSV_Kommunen/schwetzingen_2.csv')\n",
    "schifferstadt = pd.read_csv('Dateien/CSV_Kommunen/schifferstadt_4.csv')\n",
    "speyer = pd.read_csv('Dateien/CSV_Kommunen/speyer_5.csv')\n",
    "viernheim = pd.read_csv('Dateien/CSV_Kommunen/viernheim_2.csv')\n",
    "weinheim = pd.read_csv('Dateien/CSV_Kommunen/weinheim_2.csv')\n",
    "wiesloch = pd.read_csv('Dateien/CSV_Kommunen/wiesloch_2.csv')\n",
    "woerth_am_rhein = pd.read_csv('Dateien/CSV_Kommunen/woerth_am_rhein_2.csv')\n",
    "\n",
    "#Kreise\n",
    "kreis_bad_duerkheim = pd.read_csv('Dateien/CSV_Kreise/kreis_bad_duerkheim_2.csv')\n",
    "kreis_bergstrasse = pd.read_csv('Dateien/CSV_Kreise/kreis_bergstrasse_2.csv')\n",
    "kreis_germersheim = pd.read_csv('Dateien/CSV_Kreise/kreis_germersheim_2.csv')\n",
    "kreis_heilbronn = pd.read_csv('Dateien/CSV_Kreise/kreis_heilbronn.csv')\n",
    "rhein_neckar_kreis = pd.read_csv('Dateien/CSV_Kreise/rhein_necker_kreis.csv')\n",
    "rhein_pfalz_kreis = pd.read_csv('Dateien/CSV_Kreise/rhein_pfalz_kreis_4.csv')\n",
    "saarpfalz_kreis = pd.read_csv('Dateien/CSV_Kreise/saarpfalz_kreis.csv')"
   ]
  },
  {
   "cell_type": "markdown",
   "id": "e3b23fd7-6cb3-4650-a78c-f3bb557d5669",
   "metadata": {},
   "source": [
    "# Einzelne Tabellen zusammenführen"
   ]
  },
  {
   "cell_type": "code",
   "execution_count": 3,
   "id": "683e6e6e-576f-44c8-803a-91c8053b1a15",
   "metadata": {
    "tags": []
   },
   "outputs": [],
   "source": [
    "kommunen = [#Kommunen\n",
    "            bad_duerkheim,\n",
    "            bad_friedrichshall,\n",
    "            bad_rappenau,\n",
    "            bensheim,\n",
    "            frankenthal,\n",
    "            hassloch,\n",
    "            heppenheim,\n",
    "            hockenheim,\n",
    "            homburg,\n",
    "            lampertheim,\n",
    "            landau,\n",
    "            leimen,\n",
    "            pirmasens,\n",
    "            schwetzingen,\n",
    "            schifferstadt,\n",
    "            speyer,\n",
    "            viernheim,\n",
    "            weinheim,\n",
    "            wiesloch,\n",
    "            woerth_am_rhein,\n",
    "            \n",
    "            #Kreise\n",
    "            kreis_bad_duerkheim,\n",
    "            kreis_bergstrasse,\n",
    "            kreis_germersheim,\n",
    "            kreis_heilbronn,\n",
    "            rhein_neckar_kreis,\n",
    "            rhein_pfalz_kreis,\n",
    "            saarpfalz_kreis,\n",
    "           ]\n",
    "\n",
    "# Datensätze zusammenführen\n",
    "df = pd.concat(kommunen, ignore_index=True)\n",
    "\n",
    "# Überschriften herausfiltern\n",
    "df = df[df['content'] != 'content']"
   ]
  },
  {
   "cell_type": "markdown",
   "id": "834db027-0ab4-4fa0-93fc-31e273c9f4b5",
   "metadata": {},
   "source": [
    "## Datentypen festlegen"
   ]
  },
  {
   "cell_type": "code",
   "execution_count": 4,
   "id": "451ebc80-e843-4a63-aff5-5e512b0092c6",
   "metadata": {
    "tags": []
   },
   "outputs": [],
   "source": [
    "df.drop('files', axis=1, inplace=True)\n",
    "df['date'] = pd.to_datetime(df['date'], format=\"%Y-%m-%d\")\n",
    "df['id'] = pd.to_numeric(df['id'], errors='coerce',downcast='signed')\n",
    "df['sitzung_nr'] = pd.to_numeric(df['id'], errors='coerce',downcast='signed')\n",
    "df['top_nr'] = df['top_nr'].astype('str')\n",
    "df['vorlage_nr'] = df['vorlage_nr'].astype('str')\n",
    "df['kommunale_ebene'] = df['kommunale_ebene'].astype('category')\n",
    "df['kommune'] = df['kommune'].astype('category')"
   ]
  },
  {
   "cell_type": "markdown",
   "id": "d8284731-df3b-437c-9300-1c12d705d02d",
   "metadata": {},
   "source": [
    "## Daten zwischenspeichern"
   ]
  },
  {
   "cell_type": "code",
   "execution_count": 199,
   "id": "5cf77b78-097b-47c3-96a6-6ee686483ede",
   "metadata": {
    "tags": []
   },
   "outputs": [],
   "source": [
    "df.to_parquet(f\"{date.today()}_mittelstaedte_rhein_neckar.parquet\")"
   ]
  },
  {
   "cell_type": "markdown",
   "id": "5e62b84f-1a69-4b13-8490-e260629a25a5",
   "metadata": {
    "tags": []
   },
   "source": [
    "# Get PDF Content"
   ]
  },
  {
   "cell_type": "code",
   "execution_count": 5,
   "id": "efdba691-6a16-4b28-959a-9f969f822c3d",
   "metadata": {
    "tags": []
   },
   "outputs": [],
   "source": [
    "import fitz\n",
    "import requests\n",
    "import os\n",
    "import numpy as np\n",
    "from tqdm import tqdm"
   ]
  },
  {
   "cell_type": "code",
   "execution_count": 6,
   "id": "a62c2e50-abb4-4c52-a539-11642797ebd1",
   "metadata": {
    "tags": []
   },
   "outputs": [],
   "source": [
    "def extract_text(pdf_file):\n",
    "    try:\n",
    "        pdf_text = ''\n",
    "        with fitz.open(pdf_file) as pdf:\n",
    "            for page in pdf:\n",
    "                pdf_text += page.get_text()\n",
    "    except:\n",
    "        pdf_text = None\n",
    "\n",
    "    return pdf_text"
   ]
  },
  {
   "cell_type": "code",
   "execution_count": 7,
   "id": "4cd12ae5-078f-4403-82d4-16c18b022c61",
   "metadata": {
    "tags": []
   },
   "outputs": [],
   "source": [
    "def download_file(url, path):\n",
    "    try:\n",
    "        file = requests.get(url)\n",
    "        with open(path , 'wb') as f:\n",
    "            f.write(file.content)\n",
    "    except:\n",
    "        pass"
   ]
  },
  {
   "cell_type": "code",
   "execution_count": 209,
   "id": "9250f2c1-3328-43a2-b0e6-d25a188e9db5",
   "metadata": {
    "tags": []
   },
   "outputs": [],
   "source": [
    "df_copy = df.copy()"
   ]
  },
  {
   "cell_type": "markdown",
   "id": "8eac4fac-8b70-4db3-abe3-d4723a3c7ce2",
   "metadata": {},
   "source": [
    "## Durch gesamte Datenbank iterieren und PDF-Inhalte extrahieren"
   ]
  },
  {
   "cell_type": "code",
   "execution_count": 8,
   "id": "45583d6f-9e7b-4684-bfff-f65260c98fd2",
   "metadata": {
    "tags": []
   },
   "outputs": [
    {
     "name": "stderr",
     "output_type": "stream",
     "text": [
      "100%|███████████████████████████████████████████████████████████████████████| 70083/70083 [53:14<00:00, 21.94it/s]\n"
     ]
    }
   ],
   "source": [
    "for i in tqdm(df.index, total=df.shape[0]):\n",
    "    \n",
    "    # Nur weitermachen, wenn Zelle 'content' leer ist\n",
    "    if pd.isnull(df['content'][i]) or df['content'][i] == '':\n",
    "        path = df['rel_path_to_file'][i] # Dateipfad\n",
    "        \n",
    "        # Nur weitermachen, wenn ein Dateipfad angegeben ist\n",
    "        if pd.notnull(path):\n",
    "            \n",
    "            # Wenn Datei nicht bereits heruntergeladen wurde, dann Datei herunterladen\n",
    "            if os.path.isfile(path) == False:\n",
    "                url = df['file_urls'][i]\n",
    "                download_file(url, path)\n",
    "            \n",
    "            # Text extrahieren\n",
    "            df.at[i, 'content'] = extract_text(path)\n",
    "\n",
    "# Daten zwischenspeichern\n",
    "df.to_parquet(\"2023-03-24_gesamt_rhein_neckar.parquet\")"
   ]
  },
  {
   "cell_type": "code",
   "execution_count": 3,
   "id": "fd254022-02b9-45e0-a780-9e4778d6d7c2",
   "metadata": {
    "tags": []
   },
   "outputs": [],
   "source": [
    "df = pd.read_parquet(\"2023-03-24_gesamt_rhein_neckar.parquet\")"
   ]
  },
  {
   "cell_type": "code",
   "execution_count": 4,
   "id": "a65004d5-dc54-415a-a6df-7da65eacc46f",
   "metadata": {},
   "outputs": [],
   "source": [
    "df_no_content =df[(pd.isnull(df['content']))|(df['content'] == '')]"
   ]
  },
  {
   "cell_type": "code",
   "execution_count": 11,
   "id": "14244fd6-ae03-4a09-9fa7-83ceff8c9952",
   "metadata": {
    "tags": []
   },
   "outputs": [
    {
     "name": "stdout",
     "output_type": "stream",
     "text": [
      "<class 'pandas.core.frame.DataFrame'>\n",
      "Int64Index: 9157 entries, 2 to 70033\n",
      "Data columns (total 16 columns):\n",
      " #   Column            Non-Null Count  Dtype         \n",
      "---  ------            --------------  -----         \n",
      " 0   content           8403 non-null   object        \n",
      " 1   date              8961 non-null   datetime64[ns]\n",
      " 2   doc_name          8871 non-null   object        \n",
      " 3   doc_typ           8571 non-null   object        \n",
      " 4   file_urls         7615 non-null   object        \n",
      " 5   gremium           9157 non-null   object        \n",
      " 6   id                8673 non-null   float64       \n",
      " 7   kommunale_ebene   9157 non-null   category      \n",
      " 8   kommune           9157 non-null   category      \n",
      " 9   pdf_name          8871 non-null   object        \n",
      " 10  rel_path_to_file  8871 non-null   object        \n",
      " 11  sitzung_nr        8673 non-null   float64       \n",
      " 12  status            2672 non-null   object        \n",
      " 13  top_name          8188 non-null   object        \n",
      " 14  top_nr            9157 non-null   object        \n",
      " 15  vorlage_nr        9157 non-null   object        \n",
      "dtypes: category(2), datetime64[ns](1), float64(2), object(11)\n",
      "memory usage: 1.1+ MB\n"
     ]
    }
   ],
   "source": [
    "df_no_content.info()"
   ]
  },
  {
   "cell_type": "markdown",
   "id": "7006852a-9e3c-4b01-b7a8-a843e2d231f4",
   "metadata": {},
   "source": [
    "## OCR"
   ]
  },
  {
   "cell_type": "code",
   "execution_count": 5,
   "id": "a4c1fb3a-f87a-41df-89a4-9f1caaad1164",
   "metadata": {
    "tags": []
   },
   "outputs": [],
   "source": [
    "import tempfile\n",
    "from pdf2image import convert_from_path\n",
    "import pytesseract\n",
    "import os\n",
    "import time\n",
    "import concurrent.futures\n",
    "from concurrent.futures import ProcessPoolExecutor\n",
    "from functools import partial\n",
    "from tqdm import tqdm"
   ]
  },
  {
   "cell_type": "code",
   "execution_count": 6,
   "id": "d70d051d-bb74-4198-b372-a1bcc406904c",
   "metadata": {
    "tags": []
   },
   "outputs": [],
   "source": [
    "myconfig = r'-l deu'\n",
    "poppler_path = r'C:\\Program Files\\poppler-0.68.0\\bin'\n",
    "pytesseract.pytesseract.tesseract_cmd = r'C:\\Program Files\\Tesseract-OCR\\tesseract.exe'"
   ]
  },
  {
   "cell_type": "code",
   "execution_count": 7,
   "id": "ff096d0e-fbeb-4b5c-b366-98560af72e19",
   "metadata": {
    "tags": []
   },
   "outputs": [],
   "source": [
    "def ocr(path, poppler_path):\n",
    "    if pd.notnull(path):\n",
    "        try:\n",
    "            doc_img = convert_from_path(path, poppler_path=poppler_path,)\n",
    "            pdf_text = ''\n",
    "            for page in doc_img:\n",
    "                pdf_text += pytesseract.image_to_string(page, config=myconfig, lang='deu')\n",
    "            return pdf_text\n",
    "        except:\n",
    "            return 'OCR_FAILED'"
   ]
  },
  {
   "cell_type": "code",
   "execution_count": 8,
   "id": "7252048e-5f08-4e09-8ad7-95d480208eb1",
   "metadata": {
    "tags": []
   },
   "outputs": [],
   "source": [
    "df['ocr'] = (pd.isnull(df['content']))|(df['content'] == '')"
   ]
  },
  {
   "cell_type": "code",
   "execution_count": 9,
   "id": "b3df595d-5780-4858-9481-7524e25b08cc",
   "metadata": {
    "tags": []
   },
   "outputs": [
    {
     "name": "stderr",
     "output_type": "stream",
     "text": [
      " 11%|███████▌                                                            | 1022/9157 [3:55:52<13:08:12,  5.81s/it]C:\\Users\\johan\\OneDrive_HSRM\\Studium\\Masterthesis\\py_env_masterthesis\\lib\\site-packages\\PIL\\Image.py:3167: DecompressionBombWarning: Image size (132283200 pixels) exceeds limit of 89478485 pixels, could be decompression bomb DOS attack.\n",
      "  warnings.warn(\n",
      " 12%|████████▍                                                           | 1135/9157 [4:18:15<23:11:37, 10.41s/it]C:\\Users\\johan\\OneDrive_HSRM\\Studium\\Masterthesis\\py_env_masterthesis\\lib\\site-packages\\PIL\\Image.py:3167: DecompressionBombWarning: Image size (119064826 pixels) exceeds limit of 89478485 pixels, could be decompression bomb DOS attack.\n",
      "  warnings.warn(\n",
      " 43%|█████████████████████████████                                      | 3973/9157 [11:53:14<12:56:02,  8.98s/it]C:\\Users\\johan\\OneDrive_HSRM\\Studium\\Masterthesis\\py_env_masterthesis\\lib\\site-packages\\PIL\\Image.py:3167: DecompressionBombWarning: Image size (106142938 pixels) exceeds limit of 89478485 pixels, could be decompression bomb DOS attack.\n",
      "  warnings.warn(\n",
      " 43%|████████████████████████████▏                                    | 3974/9157 [12:13:30<492:09:35, 341.84s/it]C:\\Users\\johan\\OneDrive_HSRM\\Studium\\Masterthesis\\py_env_masterthesis\\lib\\site-packages\\PIL\\Image.py:3167: DecompressionBombWarning: Image size (103763497 pixels) exceeds limit of 89478485 pixels, could be decompression bomb DOS attack.\n",
      "  warnings.warn(\n",
      " 59%|███████████████████████████████████████▊                            | 5361/9157 [17:16:16<4:40:48,  4.44s/it]C:\\Users\\johan\\OneDrive_HSRM\\Studium\\Masterthesis\\py_env_masterthesis\\lib\\site-packages\\PIL\\Image.py:3167: DecompressionBombWarning: Image size (124690954 pixels) exceeds limit of 89478485 pixels, could be decompression bomb DOS attack.\n",
      "  warnings.warn(\n",
      " 61%|█████████████████████████████████████████▎                          | 5559/9157 [17:35:58<7:55:24,  7.93s/it]C:\\Users\\johan\\OneDrive_HSRM\\Studium\\Masterthesis\\py_env_masterthesis\\lib\\site-packages\\PIL\\Image.py:3167: DecompressionBombWarning: Image size (167416201 pixels) exceeds limit of 89478485 pixels, could be decompression bomb DOS attack.\n",
      "  warnings.warn(\n",
      " 61%|█████████████████████████████████████████▍                          | 5584/9157 [17:38:28<4:14:26,  4.27s/it]C:\\Users\\johan\\OneDrive_HSRM\\Studium\\Masterthesis\\py_env_masterthesis\\lib\\site-packages\\PIL\\Image.py:3167: DecompressionBombWarning: Image size (113368500 pixels) exceeds limit of 89478485 pixels, could be decompression bomb DOS attack.\n",
      "  warnings.warn(\n",
      " 63%|██████████████████████████████████████████▉                         | 5786/9157 [18:41:57<9:46:16, 10.44s/it]C:\\Users\\johan\\OneDrive_HSRM\\Studium\\Masterthesis\\py_env_masterthesis\\lib\\site-packages\\PIL\\Image.py:3167: DecompressionBombWarning: Image size (171148635 pixels) exceeds limit of 89478485 pixels, could be decompression bomb DOS attack.\n",
      "  warnings.warn(\n",
      " 65%|███████████████████████████████████████████▉                        | 5913/9157 [19:10:47<6:17:24,  6.98s/it]C:\\Users\\johan\\OneDrive_HSRM\\Studium\\Masterthesis\\py_env_masterthesis\\lib\\site-packages\\PIL\\Image.py:3167: DecompressionBombWarning: Image size (89760750 pixels) exceeds limit of 89478485 pixels, could be decompression bomb DOS attack.\n",
      "  warnings.warn(\n",
      " 65%|███████████████████████████████████████████▎                       | 5915/9157 [19:11:28<12:24:26, 13.78s/it]C:\\Users\\johan\\OneDrive_HSRM\\Studium\\Masterthesis\\py_env_masterthesis\\lib\\site-packages\\PIL\\Image.py:3167: DecompressionBombWarning: Image size (90304200 pixels) exceeds limit of 89478485 pixels, could be decompression bomb DOS attack.\n",
      "  warnings.warn(\n",
      "100%|██████████████████████████████████████████████████████████████████████| 9157/9157 [26:44:33<00:00, 10.51s/it]\n"
     ]
    }
   ],
   "source": [
    "for i in tqdm(df_no_content.index, total=df_no_content.shape[0]):\n",
    "    file_path = df['rel_path_to_file'][i]\n",
    "    pdf_text = ocr(file_path, poppler_path)\n",
    "    df.at[i, 'content'] = pdf_text\n",
    "df.to_parquet(\"2023-03-25_gesamt_ocr_rhein_neckar.parquet\")"
   ]
  },
  {
   "cell_type": "code",
   "execution_count": 15,
   "id": "cc63bbcf-9718-4db5-a557-2dc92932e017",
   "metadata": {
    "tags": []
   },
   "outputs": [],
   "source": [
    "df_no_content_ocr = df[df['content'] == 'OCR_FAILED']"
   ]
  },
  {
   "cell_type": "code",
   "execution_count": 16,
   "id": "1d47e932-92b7-4b01-aefd-b579377e87e3",
   "metadata": {
    "tags": []
   },
   "outputs": [
    {
     "name": "stdout",
     "output_type": "stream",
     "text": [
      "<class 'pandas.core.frame.DataFrame'>\n",
      "Int64Index: 571 entries, 668 to 69956\n",
      "Data columns (total 17 columns):\n",
      " #   Column            Non-Null Count  Dtype         \n",
      "---  ------            --------------  -----         \n",
      " 0   content           571 non-null    object        \n",
      " 1   date              476 non-null    datetime64[ns]\n",
      " 2   doc_name          571 non-null    object        \n",
      " 3   doc_typ           571 non-null    object        \n",
      " 4   file_urls         495 non-null    object        \n",
      " 5   gremium           571 non-null    object        \n",
      " 6   id                474 non-null    float64       \n",
      " 7   kommunale_ebene   571 non-null    category      \n",
      " 8   kommune           571 non-null    category      \n",
      " 9   pdf_name          571 non-null    object        \n",
      " 10  rel_path_to_file  571 non-null    object        \n",
      " 11  sitzung_nr        474 non-null    float64       \n",
      " 12  status            280 non-null    object        \n",
      " 13  top_name          467 non-null    object        \n",
      " 14  top_nr            571 non-null    object        \n",
      " 15  vorlage_nr        571 non-null    object        \n",
      " 16  ocr               571 non-null    bool          \n",
      "dtypes: bool(1), category(2), datetime64[ns](1), float64(2), object(11)\n",
      "memory usage: 70.0+ KB\n"
     ]
    }
   ],
   "source": [
    "df_no_content_ocr.info()"
   ]
  },
  {
   "cell_type": "code",
   "execution_count": null,
   "id": "2f0b0f6a-d465-4235-909e-57cd95201b5f",
   "metadata": {},
   "outputs": [],
   "source": []
  }
 ],
 "metadata": {
  "kernelspec": {
   "display_name": "Python 3 (ipykernel)",
   "language": "python",
   "name": "python3"
  },
  "language_info": {
   "codemirror_mode": {
    "name": "ipython",
    "version": 3
   },
   "file_extension": ".py",
   "mimetype": "text/x-python",
   "name": "python",
   "nbconvert_exporter": "python",
   "pygments_lexer": "ipython3",
   "version": "3.10.10"
  }
 },
 "nbformat": 4,
 "nbformat_minor": 5
}
